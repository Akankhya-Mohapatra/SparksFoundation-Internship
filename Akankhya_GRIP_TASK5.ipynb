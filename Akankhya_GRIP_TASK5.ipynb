{
  "nbformat": 4,
  "nbformat_minor": 0,
  "metadata": {
    "colab": {
      "name": "GRIP_TASK5.ipynb",
      "provenance": [],
      "collapsed_sections": []
    },
    "kernelspec": {
      "name": "python3",
      "display_name": "Python 3"
    }
  },
  "cells": [
    {
      "cell_type": "markdown",
      "metadata": {
        "id": "l8qgmM530nGg"
      },
      "source": [
        "The target is to find out the sectors in which the organization needed to improvise their work pattern to increase its profit margin. In this case, I evaluate the sales of various products in demand in different areas of the United States where the company had offices. Assessing category-wise demand in offices of various regions across the US - we discover "Office" supplies have the most demand among all three categories in all regions of US offices. While there is a maximum sale in the west region, the lowest sale is observed in the south region for various office supply categories. The total sale of various products is having a loss percentage of 18% across US cities. It is also noticed that even if the max profit is obtained from office supplies in the West region, there is potential for increased profit margin in the East region as well. Among the mode of shipping, the standard ship mode rate seemed to attract most customers which is a major contribution to a higher profit margin. Finally, I developed a predictive model basis the analysis of the visualizations by PowerBI, which led to an increase in total profits by ~1.4% adding 22 million to the top line."      ]
    },
    {
      "cell_type": "markdown",
      "metadata": {
        "id": "y0Xf9f2MwGsZ"
      },
      "source": [
        "#**Importing Libraries**"
      ]
    },
    {
      "cell_type": "code",
      "metadata": {
        "id": "CiKBYJvZwEhg"
      },
      "source": [
        "import pandas as pd\r\n",
        "import numpy as np\r\n",
        "import seaborn as sns\r\n",
        "from plotnine import *\r\n",
        "import matplotlib.pyplot as plt"
      ],
      "execution_count": 32,
      "outputs": []
    },
    {
      "cell_type": "code",
      "metadata": {
        "id": "gbtxpgAUGYaA",
        "colab": {
          "base_uri": "https://localhost:8080/"
        },
        "outputId": "9fc44fd1-a7b4-4127-f7a0-c5b8f7fee2ba"
      },
      "source": [
        "!pwd #check current location\n"
      ],
      "execution_count": 2,
      "outputs": [
        {
          "output_type": "stream",
          "text": [
            "/content\n"
          ],
          "name": "stdout"
        }
      ]
    },
    {
      "cell_type": "markdown",
      "metadata": {
        "id": "lgkTZFBRwUr_"
      },
      "source": [
        "**Mount gdrive**"
      ]
    },
    {
      "cell_type": "code",
      "metadata": {
        "id": "QQNkBrm9Gad5",
        "colab": {
          "base_uri": "https://localhost:8080/"
        },
        "outputId": "7f273bb6-0a52-4cac-d1cd-07537bf5f6b0"
      },
      "source": [
        "from google.colab import drive\n",
        "from os.path import join\n",
        "ROOT=\"/content/drive\"\n",
        "print(ROOT)\n",
        "drive.mount('/content/drive/')"
      ],
      "execution_count": 4,
      "outputs": [
        {
          "output_type": "stream",
          "text": [
            "/content/drive\n",
            "Mounted at /content/drive/\n"
          ],
          "name": "stdout"
        }
      ]
    },
    {
      "cell_type": "code",
      "metadata": {
        "id": "toHp55CUrk_1",
        "colab": {
          "base_uri": "https://localhost:8080/"
        },
        "outputId": "6ebe1705-b677-4563-fa5e-b67ea7c2f667"
      },
      "source": [
        "%ls #list down directories in current location"
      ],
      "execution_count": 5,
      "outputs": [
        {
          "output_type": "stream",
          "text": [
            "\u001b[0m\u001b[01;34mdrive\u001b[0m/  \u001b[01;34msample_data\u001b[0m/\n"
          ],
          "name": "stdout"
        }
      ]
    },
    {
      "cell_type": "code",
      "metadata": {
        "id": "weOK9OCrtjHo",
        "colab": {
          "base_uri": "https://localhost:8080/",
          "height": 35
        },
        "outputId": "2ba6a2e0-2320-44b9-9ff6-f032ade0e289"
      },
      "source": [
        "%pwd #current location"
      ],
      "execution_count": 6,
      "outputs": [
        {
          "output_type": "execute_result",
          "data": {
            "application/vnd.google.colaboratory.intrinsic+json": {
              "type": "string"
            },
            "text/plain": [
              "'/content'"
            ]
          },
          "metadata": {
            "tags": []
          },
          "execution_count": 6
        }
      ]
    },
    {
      "cell_type": "code",
      "metadata": {
        "id": "W3X8BCtEtwAf",
        "colab": {
          "base_uri": "https://localhost:8080/"
        },
        "outputId": "19380b4b-8ae3-4d95-ae75-84263fe8c720"
      },
      "source": [
        "%cd 'drive/My Drive'"
      ],
      "execution_count": 7,
      "outputs": [
        {
          "output_type": "stream",
          "text": [
            "/content/drive/My Drive\n"
          ],
          "name": "stdout"
        }
      ]
    },
    {
      "cell_type": "markdown",
      "metadata": {
        "id": "4RWRyvhFv12q"
      },
      "source": [
        "### Import dataset from mounted google drive"
      ]
    },
    {
      "cell_type": "markdown",
      "metadata": {
        "id": "D_mKMyP6xEih"
      },
      "source": [
        "import dataset as pandas dataframe"
      ]
    },
    {
      "cell_type": "code",
      "metadata": {
        "id": "SkUxmfFjuaqo",
        "colab": {
          "base_uri": "https://localhost:8080/"
        },
        "outputId": "4ad12989-6a1f-43f6-95e2-37b864fe749a"
      },
      "source": [
        "raw_data=pd.read_csv(\"SampleSuperstore.csv\")\n",
        "print(raw_data.head())"
      ],
      "execution_count": 8,
      "outputs": [
        {
          "output_type": "stream",
          "text": [
            "        Ship Mode    Segment        Country  ... Quantity Discount    Profit\n",
            "0    Second Class   Consumer  United States  ...        2     0.00   41.9136\n",
            "1    Second Class   Consumer  United States  ...        3     0.00  219.5820\n",
            "2    Second Class  Corporate  United States  ...        2     0.00    6.8714\n",
            "3  Standard Class   Consumer  United States  ...        5     0.45 -383.0310\n",
            "4  Standard Class   Consumer  United States  ...        2     0.20    2.5164\n",
            "\n",
            "[5 rows x 13 columns]\n"
          ],
          "name": "stdout"
        }
      ]
    },
    {
      "cell_type": "code",
      "metadata": {
        "id": "oSJA95BPvSxW",
        "colab": {
          "base_uri": "https://localhost:8080/"
        },
        "outputId": "fd206cc4-e162-4dbf-cc3d-e0f73cd4e6ff"
      },
      "source": [
        "raw_data.isnull().sum() #check for null values in dataset"
      ],
      "execution_count": 9,
      "outputs": [
        {
          "output_type": "execute_result",
          "data": {
            "text/plain": [
              "Ship Mode       0\n",
              "Segment         0\n",
              "Country         0\n",
              "City            0\n",
              "State           0\n",
              "Postal Code     0\n",
              "Region          0\n",
              "Category        0\n",
              "Sub-Category    0\n",
              "Sales           0\n",
              "Quantity        0\n",
              "Discount        0\n",
              "Profit          0\n",
              "dtype: int64"
            ]
          },
          "metadata": {
            "tags": []
          },
          "execution_count": 9
        }
      ]
    },
    {
      "cell_type": "code",
      "metadata": {
        "id": "RTiKS-eOw0uJ",
        "colab": {
          "base_uri": "https://localhost:8080/"
        },
        "outputId": "adbde4cf-a586-4111-d8bf-8071547c91ed"
      },
      "source": [
        "raw_data.info() # extracting concise summary "
      ],
      "execution_count": 10,
      "outputs": [
        {
          "output_type": "stream",
          "text": [
            "<class 'pandas.core.frame.DataFrame'>\n",
            "RangeIndex: 9994 entries, 0 to 9993\n",
            "Data columns (total 13 columns):\n",
            " #   Column        Non-Null Count  Dtype  \n",
            "---  ------        --------------  -----  \n",
            " 0   Ship Mode     9994 non-null   object \n",
            " 1   Segment       9994 non-null   object \n",
            " 2   Country       9994 non-null   object \n",
            " 3   City          9994 non-null   object \n",
            " 4   State         9994 non-null   object \n",
            " 5   Postal Code   9994 non-null   int64  \n",
            " 6   Region        9994 non-null   object \n",
            " 7   Category      9994 non-null   object \n",
            " 8   Sub-Category  9994 non-null   object \n",
            " 9   Sales         9994 non-null   float64\n",
            " 10  Quantity      9994 non-null   int64  \n",
            " 11  Discount      9994 non-null   float64\n",
            " 12  Profit        9994 non-null   float64\n",
            "dtypes: float64(3), int64(2), object(8)\n",
            "memory usage: 1015.1+ KB\n"
          ],
          "name": "stdout"
        }
      ]
    },
    {
      "cell_type": "code",
      "metadata": {
        "id": "R8uaU1o9ldfR",
        "colab": {
          "base_uri": "https://localhost:8080/"
        },
        "outputId": "a1c7ec59-6fa3-4a8d-b03f-1ec543c9f53d"
      },
      "source": [
        "#sample, features - row * column\n",
        "raw_data.shape\n",
        "#output- rows, columns"
      ],
      "execution_count": 11,
      "outputs": [
        {
          "output_type": "execute_result",
          "data": {
            "text/plain": [
              "(9994, 13)"
            ]
          },
          "metadata": {
            "tags": []
          },
          "execution_count": 11
        }
      ]
    },
    {
      "cell_type": "code",
      "metadata": {
        "id": "SNc1bnWTllgy",
        "colab": {
          "base_uri": "https://localhost:8080/",
          "height": 127
        },
        "outputId": "aede2954-5e50-47e1-b532-42df9e17a861"
      },
      "source": [
        "#Print the structure of the data\n",
        "raw_data.apply(lambda x: [x.unique()])"
      ],
      "execution_count": 12,
      "outputs": [
        {
          "output_type": "execute_result",
          "data": {
            "text/html": [
              "<div>\n",
              "<style scoped>\n",
              "    .dataframe tbody tr th:only-of-type {\n",
              "        vertical-align: middle;\n",
              "    }\n",
              "\n",
              "    .dataframe tbody tr th {\n",
              "        vertical-align: top;\n",
              "    }\n",
              "\n",
              "    .dataframe thead th {\n",
              "        text-align: right;\n",
              "    }\n",
              "</style>\n",
              "<table border=\"1\" class=\"dataframe\">\n",
              "  <thead>\n",
              "    <tr style=\"text-align: right;\">\n",
              "      <th></th>\n",
              "      <th>Ship Mode</th>\n",
              "      <th>Segment</th>\n",
              "      <th>Country</th>\n",
              "      <th>City</th>\n",
              "      <th>State</th>\n",
              "      <th>Postal Code</th>\n",
              "      <th>Region</th>\n",
              "      <th>Category</th>\n",
              "      <th>Sub-Category</th>\n",
              "      <th>Sales</th>\n",
              "      <th>Quantity</th>\n",
              "      <th>Discount</th>\n",
              "      <th>Profit</th>\n",
              "    </tr>\n",
              "  </thead>\n",
              "  <tbody>\n",
              "    <tr>\n",
              "      <th>0</th>\n",
              "      <td>[Second Class, Standard Class, First Class, Sa...</td>\n",
              "      <td>[Consumer, Corporate, Home Office]</td>\n",
              "      <td>[United States]</td>\n",
              "      <td>[Henderson, Los Angeles, Fort Lauderdale, Conc...</td>\n",
              "      <td>[Kentucky, California, Florida, North Carolina...</td>\n",
              "      <td>[42420, 90036, 33311, 90032, 28027, 98103, 761...</td>\n",
              "      <td>[South, West, Central, East]</td>\n",
              "      <td>[Furniture, Office Supplies, Technology]</td>\n",
              "      <td>[Bookcases, Chairs, Labels, Tables, Storage, F...</td>\n",
              "      <td>[261.96, 731.94, 14.62, 957.5775, 22.368000000...</td>\n",
              "      <td>[2, 3, 5, 7, 4, 6, 9, 1, 8, 14, 11, 13, 10, 12]</td>\n",
              "      <td>[0.0, 0.45, 0.2, 0.8, 0.3, 0.5, 0.7, 0.6, 0.32...</td>\n",
              "      <td>[41.9136, 219.582, 6.8714, -383.031, 2.5164, 1...</td>\n",
              "    </tr>\n",
              "  </tbody>\n",
              "</table>\n",
              "</div>"
            ],
            "text/plain": [
              "                                           Ship Mode  ...                                             Profit\n",
              "0  [Second Class, Standard Class, First Class, Sa...  ...  [41.9136, 219.582, 6.8714, -383.031, 2.5164, 1...\n",
              "\n",
              "[1 rows x 13 columns]"
            ]
          },
          "metadata": {
            "tags": []
          },
          "execution_count": 12
        }
      ]
    },
    {
      "cell_type": "code",
      "metadata": {
        "id": "cc84b0GelyFH",
        "colab": {
          "base_uri": "https://localhost:8080/"
        },
        "outputId": "8fe728a4-58ed-49ab-f836-08927eb6b854"
      },
      "source": [
        "# using the dtypes() method to display the different datatypes available\n",
        "raw_data.dtypes"
      ],
      "execution_count": 13,
      "outputs": [
        {
          "output_type": "execute_result",
          "data": {
            "text/plain": [
              "Ship Mode        object\n",
              "Segment          object\n",
              "Country          object\n",
              "City             object\n",
              "State            object\n",
              "Postal Code       int64\n",
              "Region           object\n",
              "Category         object\n",
              "Sub-Category     object\n",
              "Sales           float64\n",
              "Quantity          int64\n",
              "Discount        float64\n",
              "Profit          float64\n",
              "dtype: object"
            ]
          },
          "metadata": {
            "tags": []
          },
          "execution_count": 13
        }
      ]
    },
    {
      "cell_type": "code",
      "metadata": {
        "id": "8zJ7Xx17l3kf",
        "colab": {
          "base_uri": "https://localhost:8080/"
        },
        "outputId": "5830bb87-b849-4dd7-d73e-00711b804952"
      },
      "source": [
        "X=raw_data.iloc[:,raw_data.columns!='Class']\n",
        "Y=raw_data.iloc[:,raw_data.columns=='Class']\n",
        "Y.count()"
      ],
      "execution_count": 14,
      "outputs": [
        {
          "output_type": "execute_result",
          "data": {
            "text/plain": [
              "Series([], dtype: int64)"
            ]
          },
          "metadata": {
            "tags": []
          },
          "execution_count": 14
        }
      ]
    },
    {
      "cell_type": "code",
      "metadata": {
        "id": "yZSQx15BmUDW",
        "colab": {
          "base_uri": "https://localhost:8080/",
          "height": 284
        },
        "outputId": "8e243e1d-caf8-4e12-aec1-35a3f18ae6eb"
      },
      "source": [
        "X.describe()"
      ],
      "execution_count": 15,
      "outputs": [
        {
          "output_type": "execute_result",
          "data": {
            "text/html": [
              "<div>\n",
              "<style scoped>\n",
              "    .dataframe tbody tr th:only-of-type {\n",
              "        vertical-align: middle;\n",
              "    }\n",
              "\n",
              "    .dataframe tbody tr th {\n",
              "        vertical-align: top;\n",
              "    }\n",
              "\n",
              "    .dataframe thead th {\n",
              "        text-align: right;\n",
              "    }\n",
              "</style>\n",
              "<table border=\"1\" class=\"dataframe\">\n",
              "  <thead>\n",
              "    <tr style=\"text-align: right;\">\n",
              "      <th></th>\n",
              "      <th>Postal Code</th>\n",
              "      <th>Sales</th>\n",
              "      <th>Quantity</th>\n",
              "      <th>Discount</th>\n",
              "      <th>Profit</th>\n",
              "    </tr>\n",
              "  </thead>\n",
              "  <tbody>\n",
              "    <tr>\n",
              "      <th>count</th>\n",
              "      <td>9994.000000</td>\n",
              "      <td>9994.000000</td>\n",
              "      <td>9994.000000</td>\n",
              "      <td>9994.000000</td>\n",
              "      <td>9994.000000</td>\n",
              "    </tr>\n",
              "    <tr>\n",
              "      <th>mean</th>\n",
              "      <td>55190.379428</td>\n",
              "      <td>229.858001</td>\n",
              "      <td>3.789574</td>\n",
              "      <td>0.156203</td>\n",
              "      <td>28.656896</td>\n",
              "    </tr>\n",
              "    <tr>\n",
              "      <th>std</th>\n",
              "      <td>32063.693350</td>\n",
              "      <td>623.245101</td>\n",
              "      <td>2.225110</td>\n",
              "      <td>0.206452</td>\n",
              "      <td>234.260108</td>\n",
              "    </tr>\n",
              "    <tr>\n",
              "      <th>min</th>\n",
              "      <td>1040.000000</td>\n",
              "      <td>0.444000</td>\n",
              "      <td>1.000000</td>\n",
              "      <td>0.000000</td>\n",
              "      <td>-6599.978000</td>\n",
              "    </tr>\n",
              "    <tr>\n",
              "      <th>25%</th>\n",
              "      <td>23223.000000</td>\n",
              "      <td>17.280000</td>\n",
              "      <td>2.000000</td>\n",
              "      <td>0.000000</td>\n",
              "      <td>1.728750</td>\n",
              "    </tr>\n",
              "    <tr>\n",
              "      <th>50%</th>\n",
              "      <td>56430.500000</td>\n",
              "      <td>54.490000</td>\n",
              "      <td>3.000000</td>\n",
              "      <td>0.200000</td>\n",
              "      <td>8.666500</td>\n",
              "    </tr>\n",
              "    <tr>\n",
              "      <th>75%</th>\n",
              "      <td>90008.000000</td>\n",
              "      <td>209.940000</td>\n",
              "      <td>5.000000</td>\n",
              "      <td>0.200000</td>\n",
              "      <td>29.364000</td>\n",
              "    </tr>\n",
              "    <tr>\n",
              "      <th>max</th>\n",
              "      <td>99301.000000</td>\n",
              "      <td>22638.480000</td>\n",
              "      <td>14.000000</td>\n",
              "      <td>0.800000</td>\n",
              "      <td>8399.976000</td>\n",
              "    </tr>\n",
              "  </tbody>\n",
              "</table>\n",
              "</div>"
            ],
            "text/plain": [
              "        Postal Code         Sales     Quantity     Discount       Profit\n",
              "count   9994.000000   9994.000000  9994.000000  9994.000000  9994.000000\n",
              "mean   55190.379428    229.858001     3.789574     0.156203    28.656896\n",
              "std    32063.693350    623.245101     2.225110     0.206452   234.260108\n",
              "min     1040.000000      0.444000     1.000000     0.000000 -6599.978000\n",
              "25%    23223.000000     17.280000     2.000000     0.000000     1.728750\n",
              "50%    56430.500000     54.490000     3.000000     0.200000     8.666500\n",
              "75%    90008.000000    209.940000     5.000000     0.200000    29.364000\n",
              "max    99301.000000  22638.480000    14.000000     0.800000  8399.976000"
            ]
          },
          "metadata": {
            "tags": []
          },
          "execution_count": 15
        }
      ]
    },
    {
      "cell_type": "code",
      "metadata": {
        "id": "Ygk7p-gXonlz",
        "colab": {
          "base_uri": "https://localhost:8080/",
          "height": 195
        },
        "outputId": "27999422-2ea8-4b8c-989c-b22780550083"
      },
      "source": [
        "X.head()"
      ],
      "execution_count": 16,
      "outputs": [
        {
          "output_type": "execute_result",
          "data": {
            "text/html": [
              "<div>\n",
              "<style scoped>\n",
              "    .dataframe tbody tr th:only-of-type {\n",
              "        vertical-align: middle;\n",
              "    }\n",
              "\n",
              "    .dataframe tbody tr th {\n",
              "        vertical-align: top;\n",
              "    }\n",
              "\n",
              "    .dataframe thead th {\n",
              "        text-align: right;\n",
              "    }\n",
              "</style>\n",
              "<table border=\"1\" class=\"dataframe\">\n",
              "  <thead>\n",
              "    <tr style=\"text-align: right;\">\n",
              "      <th></th>\n",
              "      <th>Ship Mode</th>\n",
              "      <th>Segment</th>\n",
              "      <th>Country</th>\n",
              "      <th>City</th>\n",
              "      <th>State</th>\n",
              "      <th>Postal Code</th>\n",
              "      <th>Region</th>\n",
              "      <th>Category</th>\n",
              "      <th>Sub-Category</th>\n",
              "      <th>Sales</th>\n",
              "      <th>Quantity</th>\n",
              "      <th>Discount</th>\n",
              "      <th>Profit</th>\n",
              "    </tr>\n",
              "  </thead>\n",
              "  <tbody>\n",
              "    <tr>\n",
              "      <th>0</th>\n",
              "      <td>Second Class</td>\n",
              "      <td>Consumer</td>\n",
              "      <td>United States</td>\n",
              "      <td>Henderson</td>\n",
              "      <td>Kentucky</td>\n",
              "      <td>42420</td>\n",
              "      <td>South</td>\n",
              "      <td>Furniture</td>\n",
              "      <td>Bookcases</td>\n",
              "      <td>261.9600</td>\n",
              "      <td>2</td>\n",
              "      <td>0.00</td>\n",
              "      <td>41.9136</td>\n",
              "    </tr>\n",
              "    <tr>\n",
              "      <th>1</th>\n",
              "      <td>Second Class</td>\n",
              "      <td>Consumer</td>\n",
              "      <td>United States</td>\n",
              "      <td>Henderson</td>\n",
              "      <td>Kentucky</td>\n",
              "      <td>42420</td>\n",
              "      <td>South</td>\n",
              "      <td>Furniture</td>\n",
              "      <td>Chairs</td>\n",
              "      <td>731.9400</td>\n",
              "      <td>3</td>\n",
              "      <td>0.00</td>\n",
              "      <td>219.5820</td>\n",
              "    </tr>\n",
              "    <tr>\n",
              "      <th>2</th>\n",
              "      <td>Second Class</td>\n",
              "      <td>Corporate</td>\n",
              "      <td>United States</td>\n",
              "      <td>Los Angeles</td>\n",
              "      <td>California</td>\n",
              "      <td>90036</td>\n",
              "      <td>West</td>\n",
              "      <td>Office Supplies</td>\n",
              "      <td>Labels</td>\n",
              "      <td>14.6200</td>\n",
              "      <td>2</td>\n",
              "      <td>0.00</td>\n",
              "      <td>6.8714</td>\n",
              "    </tr>\n",
              "    <tr>\n",
              "      <th>3</th>\n",
              "      <td>Standard Class</td>\n",
              "      <td>Consumer</td>\n",
              "      <td>United States</td>\n",
              "      <td>Fort Lauderdale</td>\n",
              "      <td>Florida</td>\n",
              "      <td>33311</td>\n",
              "      <td>South</td>\n",
              "      <td>Furniture</td>\n",
              "      <td>Tables</td>\n",
              "      <td>957.5775</td>\n",
              "      <td>5</td>\n",
              "      <td>0.45</td>\n",
              "      <td>-383.0310</td>\n",
              "    </tr>\n",
              "    <tr>\n",
              "      <th>4</th>\n",
              "      <td>Standard Class</td>\n",
              "      <td>Consumer</td>\n",
              "      <td>United States</td>\n",
              "      <td>Fort Lauderdale</td>\n",
              "      <td>Florida</td>\n",
              "      <td>33311</td>\n",
              "      <td>South</td>\n",
              "      <td>Office Supplies</td>\n",
              "      <td>Storage</td>\n",
              "      <td>22.3680</td>\n",
              "      <td>2</td>\n",
              "      <td>0.20</td>\n",
              "      <td>2.5164</td>\n",
              "    </tr>\n",
              "  </tbody>\n",
              "</table>\n",
              "</div>"
            ],
            "text/plain": [
              "        Ship Mode    Segment        Country  ... Quantity Discount    Profit\n",
              "0    Second Class   Consumer  United States  ...        2     0.00   41.9136\n",
              "1    Second Class   Consumer  United States  ...        3     0.00  219.5820\n",
              "2    Second Class  Corporate  United States  ...        2     0.00    6.8714\n",
              "3  Standard Class   Consumer  United States  ...        5     0.45 -383.0310\n",
              "4  Standard Class   Consumer  United States  ...        2     0.20    2.5164\n",
              "\n",
              "[5 rows x 13 columns]"
            ]
          },
          "metadata": {
            "tags": []
          },
          "execution_count": 16
        }
      ]
    },
    {
      "cell_type": "markdown",
      "metadata": {
        "id": "FQ9HsYoloxuS"
      },
      "source": [
        "# **Correlation**"
      ]
    },
    {
      "cell_type": "code",
      "metadata": {
        "id": "xnNWNFmeo7-O",
        "colab": {
          "base_uri": "https://localhost:8080/",
          "height": 195
        },
        "outputId": "58dc41cd-fa87-443f-9acd-e81ae7253ecb"
      },
      "source": [
        "raw_data.corr()"
      ],
      "execution_count": 17,
      "outputs": [
        {
          "output_type": "execute_result",
          "data": {
            "text/html": [
              "<div>\n",
              "<style scoped>\n",
              "    .dataframe tbody tr th:only-of-type {\n",
              "        vertical-align: middle;\n",
              "    }\n",
              "\n",
              "    .dataframe tbody tr th {\n",
              "        vertical-align: top;\n",
              "    }\n",
              "\n",
              "    .dataframe thead th {\n",
              "        text-align: right;\n",
              "    }\n",
              "</style>\n",
              "<table border=\"1\" class=\"dataframe\">\n",
              "  <thead>\n",
              "    <tr style=\"text-align: right;\">\n",
              "      <th></th>\n",
              "      <th>Postal Code</th>\n",
              "      <th>Sales</th>\n",
              "      <th>Quantity</th>\n",
              "      <th>Discount</th>\n",
              "      <th>Profit</th>\n",
              "    </tr>\n",
              "  </thead>\n",
              "  <tbody>\n",
              "    <tr>\n",
              "      <th>Postal Code</th>\n",
              "      <td>1.000000</td>\n",
              "      <td>-0.023854</td>\n",
              "      <td>0.012761</td>\n",
              "      <td>0.058443</td>\n",
              "      <td>-0.029961</td>\n",
              "    </tr>\n",
              "    <tr>\n",
              "      <th>Sales</th>\n",
              "      <td>-0.023854</td>\n",
              "      <td>1.000000</td>\n",
              "      <td>0.200795</td>\n",
              "      <td>-0.028190</td>\n",
              "      <td>0.479064</td>\n",
              "    </tr>\n",
              "    <tr>\n",
              "      <th>Quantity</th>\n",
              "      <td>0.012761</td>\n",
              "      <td>0.200795</td>\n",
              "      <td>1.000000</td>\n",
              "      <td>0.008623</td>\n",
              "      <td>0.066253</td>\n",
              "    </tr>\n",
              "    <tr>\n",
              "      <th>Discount</th>\n",
              "      <td>0.058443</td>\n",
              "      <td>-0.028190</td>\n",
              "      <td>0.008623</td>\n",
              "      <td>1.000000</td>\n",
              "      <td>-0.219487</td>\n",
              "    </tr>\n",
              "    <tr>\n",
              "      <th>Profit</th>\n",
              "      <td>-0.029961</td>\n",
              "      <td>0.479064</td>\n",
              "      <td>0.066253</td>\n",
              "      <td>-0.219487</td>\n",
              "      <td>1.000000</td>\n",
              "    </tr>\n",
              "  </tbody>\n",
              "</table>\n",
              "</div>"
            ],
            "text/plain": [
              "             Postal Code     Sales  Quantity  Discount    Profit\n",
              "Postal Code     1.000000 -0.023854  0.012761  0.058443 -0.029961\n",
              "Sales          -0.023854  1.000000  0.200795 -0.028190  0.479064\n",
              "Quantity        0.012761  0.200795  1.000000  0.008623  0.066253\n",
              "Discount        0.058443 -0.028190  0.008623  1.000000 -0.219487\n",
              "Profit         -0.029961  0.479064  0.066253 -0.219487  1.000000"
            ]
          },
          "metadata": {
            "tags": []
          },
          "execution_count": 17
        }
      ]
    },
    {
      "cell_type": "code",
      "metadata": {
        "id": "1vzIVBP4__gz",
        "colab": {
          "base_uri": "https://localhost:8080/",
          "height": 335
        },
        "outputId": "e2ce719f-4a0c-49a1-e693-1e8d6209677e"
      },
      "source": [
        "#heatmap\n",
        "import seaborn as sb\n",
        "sb.heatmap(raw_data.corr(), annot=True,linecolor='yellow',linewidths=2,square=True)"
      ],
      "execution_count": 18,
      "outputs": [
        {
          "output_type": "execute_result",
          "data": {
            "text/plain": [
              "<matplotlib.axes._subplots.AxesSubplot at 0x7f147363cda0>"
            ]
          },
          "metadata": {
            "tags": []
          },
          "execution_count": 18
        },
        {
          "output_type": "display_data",
          "data": {
            "image/png": "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\n",
            "text/plain": [
              "<Figure size 432x288 with 2 Axes>"
            ]
          },
          "metadata": {
            "tags": [],
            "needs_background": "light"
          }
        }
      ]
    },
    {
      "cell_type": "code",
      "metadata": {
        "id": "6JG5VTx_B-_c",
        "colab": {
          "base_uri": "https://localhost:8080/"
        },
        "outputId": "70fa968d-820b-4bdf-972f-718007fc1f36"
      },
      "source": [
        "#find the unique no of 'sub category' values\n",
        "raw_data['Sub-Category'].unique()\n",
        "raw_data['Sub-Category'].value_counts()"
      ],
      "execution_count": 19,
      "outputs": [
        {
          "output_type": "execute_result",
          "data": {
            "text/plain": [
              "Binders        1523\n",
              "Paper          1370\n",
              "Furnishings     957\n",
              "Phones          889\n",
              "Storage         846\n",
              "Art             796\n",
              "Accessories     775\n",
              "Chairs          617\n",
              "Appliances      466\n",
              "Labels          364\n",
              "Tables          319\n",
              "Envelopes       254\n",
              "Bookcases       228\n",
              "Fasteners       217\n",
              "Supplies        190\n",
              "Machines        115\n",
              "Copiers          68\n",
              "Name: Sub-Category, dtype: int64"
            ]
          },
          "metadata": {
            "tags": []
          },
          "execution_count": 19
        }
      ]
    },
    {
      "cell_type": "markdown",
      "metadata": {
        "id": "2ArRFBXQtppI"
      },
      "source": [
        "# **Data Visualization**"
      ]
    },
    {
      "cell_type": "code",
      "metadata": {
        "id": "0MpuCZZVtxHF",
        "colab": {
          "base_uri": "https://localhost:8080/",
          "height": 607
        },
        "outputId": "75fb0a5b-7d3d-47a0-9693-9b1fcb0fb578"
      },
      "source": [
        "import matplotlib.pyplot as plot\n",
        "raw_data.hist(bins=50 ,figsize=(20,10))\n",
        "plot.show();"
      ],
      "execution_count": 20,
      "outputs": [
        {
          "output_type": "display_data",
          "data": {
            "image/png": "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\n",
            "text/plain": [
              "<Figure size 1440x720 with 6 Axes>"
            ]
          },
          "metadata": {
            "tags": [],
            "needs_background": "light"
          }
        }
      ]
    },
    {
      "cell_type": "code",
      "metadata": {
        "id": "rP0REqeNuJNY",
        "colab": {
          "base_uri": "https://localhost:8080/",
          "height": 166
        },
        "outputId": "245b6a61-3062-4439-9ac4-a2c72d8b4fdb"
      },
      "source": [
        "#Except postal code graph, graphs look normal\n",
        "#Lets remove the postal code graph\n",
        "col=['Postal Code']\n",
        "data_1=raw_data.drop(columns=col,axis=1)\n",
        "data_1.corr()"
      ],
      "execution_count": 21,
      "outputs": [
        {
          "output_type": "execute_result",
          "data": {
            "text/html": [
              "<div>\n",
              "<style scoped>\n",
              "    .dataframe tbody tr th:only-of-type {\n",
              "        vertical-align: middle;\n",
              "    }\n",
              "\n",
              "    .dataframe tbody tr th {\n",
              "        vertical-align: top;\n",
              "    }\n",
              "\n",
              "    .dataframe thead th {\n",
              "        text-align: right;\n",
              "    }\n",
              "</style>\n",
              "<table border=\"1\" class=\"dataframe\">\n",
              "  <thead>\n",
              "    <tr style=\"text-align: right;\">\n",
              "      <th></th>\n",
              "      <th>Sales</th>\n",
              "      <th>Quantity</th>\n",
              "      <th>Discount</th>\n",
              "      <th>Profit</th>\n",
              "    </tr>\n",
              "  </thead>\n",
              "  <tbody>\n",
              "    <tr>\n",
              "      <th>Sales</th>\n",
              "      <td>1.000000</td>\n",
              "      <td>0.200795</td>\n",
              "      <td>-0.028190</td>\n",
              "      <td>0.479064</td>\n",
              "    </tr>\n",
              "    <tr>\n",
              "      <th>Quantity</th>\n",
              "      <td>0.200795</td>\n",
              "      <td>1.000000</td>\n",
              "      <td>0.008623</td>\n",
              "      <td>0.066253</td>\n",
              "    </tr>\n",
              "    <tr>\n",
              "      <th>Discount</th>\n",
              "      <td>-0.028190</td>\n",
              "      <td>0.008623</td>\n",
              "      <td>1.000000</td>\n",
              "      <td>-0.219487</td>\n",
              "    </tr>\n",
              "    <tr>\n",
              "      <th>Profit</th>\n",
              "      <td>0.479064</td>\n",
              "      <td>0.066253</td>\n",
              "      <td>-0.219487</td>\n",
              "      <td>1.000000</td>\n",
              "    </tr>\n",
              "  </tbody>\n",
              "</table>\n",
              "</div>"
            ],
            "text/plain": [
              "             Sales  Quantity  Discount    Profit\n",
              "Sales     1.000000  0.200795 -0.028190  0.479064\n",
              "Quantity  0.200795  1.000000  0.008623  0.066253\n",
              "Discount -0.028190  0.008623  1.000000 -0.219487\n",
              "Profit    0.479064  0.066253 -0.219487  1.000000"
            ]
          },
          "metadata": {
            "tags": []
          },
          "execution_count": 21
        }
      ]
    },
    {
      "cell_type": "code",
      "metadata": {
        "id": "eq0Wn-9H9XyI",
        "colab": {
          "base_uri": "https://localhost:8080/",
          "height": 608
        },
        "outputId": "9853911a-54cd-4667-942f-a1866ccf6ddb"
      },
      "source": [
        "data_1.hist(bins=50 ,figsize=(20,10))\n",
        "plot.show();"
      ],
      "execution_count": 22,
      "outputs": [
        {
          "output_type": "display_data",
          "data": {
            "image/png": "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\n",
            "text/plain": [
              "<Figure size 1440x720 with 4 Axes>"
            ]
          },
          "metadata": {
            "tags": [],
            "needs_background": "light"
          }
        }
      ]
    },
    {
      "cell_type": "code",
      "metadata": {
        "id": "QJUh3c9o8-Hi",
        "outputId": "2c4806b6-d148-4a3c-848f-767843dd5837",
        "colab": {
          "base_uri": "https://localhost:8080/",
          "height": 729
        }
      },
      "source": [
        "Profit_plot = (ggplot(data_1, aes(x='Sub-Category', y='Profit', fill='Sub-Category')) + geom_col() + coord_flip()\r\n",
        "+ scale_fill_brewer(type='div', palette=\"Spectral\") + theme_seaborn() + ggtitle('Pie Chart'))\r\n",
        "\r\n",
        "display(Profit_plot)"
      ],
      "execution_count": 41,
      "outputs": [
        {
          "output_type": "stream",
          "text": [
            "/usr/local/lib/python3.6/dist-packages/plotnine/utils.py:1246: FutureWarning: is_categorical is deprecated and will be removed in a future version.  Use is_categorical_dtype instead\n",
            "  if pdtypes.is_categorical(arr):\n",
            "/usr/local/lib/python3.6/dist-packages/mizani/palettes.py:439: UserWarning: Warning message:Brewer palette Spectral has a maximum of 11 colorsReturning the palette you asked for withthat many colors\n",
            "  warnings.warn(msg)\n",
            "/usr/local/lib/python3.6/dist-packages/mizani/palettes.py:439: UserWarning: Warning message:Brewer palette Spectral has a maximum of 11 colorsReturning the palette you asked for withthat many colors\n",
            "  warnings.warn(msg)\n"
          ],
          "name": "stderr"
        },
        {
          "output_type": "display_data",
          "data": {
            "image/png": "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\n",
            "text/plain": [
              "<Figure size 640x480 with 1 Axes>"
            ]
          },
          "metadata": {
            "tags": []
          }
        },
        {
          "output_type": "display_data",
          "data": {
            "text/plain": [
              "<ggplot: (-9223363303995220010)>"
            ]
          },
          "metadata": {
            "tags": []
          }
        }
      ]
    },
    {
      "cell_type": "markdown",
      "metadata": {
        "id": "80gykswj-8cN"
      },
      "source": [
        "The plot shows profit and loss of each and every subcategories.Here from graph we can visualize that \"binders\" sub-category has suffered the highest amount of loss and also profit amongst all other sub-Categories (For now we can't say that what is the reason it may be because of discounts given on binders subcategory).\r\n",
        "\r\n",
        "Next,\"Copiers\" Sub-category has gain highest amount of profit with no loss.There are other sub-categories too who are not faced any kind of losses but their profit margins are also low.\r\n",
        "\r\n",
        "It is followed by highest loss in machines."
      ]
    },
    {
      "cell_type": "markdown",
      "metadata": {
        "id": "bKLIiAIDBZ_g"
      },
      "source": [
        "#Plotting with bar chart"
      ]
    },
    {
      "cell_type": "code",
      "metadata": {
        "id": "cJKxJWTA9eEJ",
        "colab": {
          "base_uri": "https://localhost:8080/",
          "height": 330
        },
        "outputId": "d35569b7-198b-4c69-86e5-f1513d13914a"
      },
      "source": [
        "#lets target category column with sales column to know more through graphs\n",
        "data_1['Category'].value_counts().plot(kind='bar')\n",
        "plot.show()"
      ],
      "execution_count": 45,
      "outputs": [
        {
          "output_type": "display_data",
          "data": {
            "image/png": "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\n",
            "text/plain": [
              "<Figure size 432x288 with 1 Axes>"
            ]
          },
          "metadata": {
            "tags": [],
            "needs_background": "light"
          }
        }
      ]
    },
    {
      "cell_type": "code",
      "metadata": {
        "id": "jmomLEkd_kkb",
        "colab": {
          "base_uri": "https://localhost:8080/",
          "height": 323
        },
        "outputId": "e7afbbf9-c43d-4ff3-d423-e89eb4b106b4"
      },
      "source": [
        "#plotting bar chart for region vs category to know about demand of categories\n",
        "pd.crosstab(data_1['Region'],data_1['Category']).plot(kind = 'bar')"
      ],
      "execution_count": null,
      "outputs": [
        {
          "output_type": "execute_result",
          "data": {
            "text/plain": [
              "<matplotlib.axes._subplots.AxesSubplot at 0x7fd0546fa2e8>"
            ]
          },
          "metadata": {
            "tags": []
          },
          "execution_count": 37
        },
        {
          "output_type": "display_data",
          "data": {
            "image/png": "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\n",
            "text/plain": [
              "<Figure size 432x288 with 1 Axes>"
            ]
          },
          "metadata": {
            "tags": [],
            "needs_background": "light"
          }
        }
      ]
    },
    {
      "cell_type": "markdown",
      "metadata": {
        "id": "fCEtJO0GACiU"
      },
      "source": [
        "The above plot shows max sale in west region and min sale in south region with office supplies category being the most in demand and technology in least."
      ]
    },
    {
      "cell_type": "markdown",
      "metadata": {
        "id": "uzQG8fNpF6J9"
      },
      "source": [
        "## Visualizing ship mode for various categories for sale"
      ]
    },
    {
      "cell_type": "code",
      "metadata": {
        "id": "3ya6xuB2_0WS",
        "outputId": "7716ba64-0b67-4b2b-82fa-5e260ec47caa",
        "colab": {
          "base_uri": "https://localhost:8080/",
          "height": 498
        }
      },
      "source": [
        "ggplot(data_1, aes(x='Ship Mode', fill = 'Category')) + geom_bar(stat = 'count') +  theme_classic()"
      ],
      "execution_count": 39,
      "outputs": [
        {
          "output_type": "stream",
          "text": [
            "/usr/local/lib/python3.6/dist-packages/plotnine/utils.py:1246: FutureWarning: is_categorical is deprecated and will be removed in a future version.  Use is_categorical_dtype instead\n",
            "  if pdtypes.is_categorical(arr):\n"
          ],
          "name": "stderr"
        },
        {
          "output_type": "display_data",
          "data": {
            "image/png": "iVBORw0KGgoAAAANSUhEUgAAAuAAAAGuCAYAAADRZLOIAAAABHNCSVQICAgIfAhkiAAAAAlwSFlzAAAPYQAAD2EBqD+naQAAADh0RVh0U29mdHdhcmUAbWF0cGxvdGxpYiB2ZXJzaW9uMy4yLjIsIGh0dHA6Ly9tYXRwbG90bGliLm9yZy+WH4yJAAAgAElEQVR4nOzdeVxWZf7/8Tf7qoAhQiriUi5lJqi5ZO5WVlKjKaIZLolmWWmlJuWWo7nkOKlJ04KKSvMbnZocM5NywSZzoNVcMhFEcQtc2Lnh/P7w6z3eQS6I5xZ8PR8PHg8413Wu87nuQ/Tm8uLcDoZhGAIAAABgCkd7FwAAAADcTAjgAAAAgIkI4AAAAICJCOAAAACAiQjgAAAAgIkI4AAAAICJCOAAAACAiQjgv5OXl6eUlBTl5eXZuxQAAABUQwTw39m7d6/CwsK0d+9ee5cCAACAaogADgAAAJiIAA4AAACYiAAOAAAAmIgADgAAAJiIAA4AAACYiAAOAAAAmIgADgAAAJiIAA4AAACYiAAOAAAAmMjZ3gVc8NVXX2n16tU6fvy4atasqREjRqhjx45KS0vTW2+9pUOHDqlOnToaNWqUWrVqZT1vx44dWr58ubKystSsWTONGzdOAQEB1vb4+Hht3LhRFotFnTp10ujRo+Xi4mKPKQIAAAA3xgr4999/r3fffVdPP/20PvzwQy1YsECNGjWSxWLRzJkz1a5dO61Zs0YRERGaPXu2Tp8+LUk6fPiwFi1apDFjxmjVqlUKCQnR3LlzreNu2rRJW7du1fz58/XOO+8oIyNDq1atstc0AQAAgBsjgK9evVoDBw5UixYt5OjoKF9fXwUGBurHH39UYWGh+vfvLxcXF3Xu3FnBwcHasWOHJGnLli0KDQ1V69at5ebmpsjISKWmpio9PV2StHnzZoWHhyswMFA1a9ZURESEEhMT7TlVAAAA3OTsHsBLSkr0yy+/KCcnR6NHj1ZUVJQWLVqk3NxcpaenKyQkRI6O/yuzUaNGSktLkySlpaWpYcOG1jZPT08FBgZa29PT09WoUSObc8+cOaPs7GyTZgcAAADYsvse8NOnT8tisWjbtm16/fXX5e7urgULFujdd99VnTp15OXlZdPfy8tLJ06ckCQVFBSU256fn19u+4XP8/Pz5efnZz2emZmpzMxMSdKePXsqf5IAAADA/7H7Cribm5sk6aGHHpK/v7+8vb31+OOPa9euXfLw8FBubq5N/9zcXHl4eEiS3N3dlZeXZ9Oel5dn037x+Rf6Xmi/IDY2VmFhYQoLC9OQIUMqd4IAAADARewewL29veXv7y8HB4cybcHBwUpLS1Npaan1WGpqqho0aCBJatCggQ4ePGhty8/P17Fjx6ztwcHBSk1NtbYfPHhQPj4+NqvfkhQdHa3k5GQlJycrPj6+UucHAAAAXMzuW1AkqXfv3vr3v/+tNm3ayM3NTWvXrlW7du3UsmVLubq6at26dQoPD9fOnTuVlpamTp06SZK6du2qCRMm6LvvvlOLFi20evVqhYSEKDg4WJLUo0cPrV27VmFhYfLy8lJCQoJ69OhR5vpBQUEKCgoydc4AgOvvQFSEvUvAFWgSl2DvEgBT3RAB/PHHH9fZs2c1duxYOTk5qU2bNho5cqScnZ0VExOjxYsXKyEhQQEBAZo8ebJ8fX0lSfXr19e4ceO0ZMkSZWdnq2nTpnr55Zet4/bu3VsnT57UhAkTVFJSoo4dO2rw4MH2miYAAAAgB8MwDHsXcSNJSUlRWFiYkpOTFRoaau9yAADXgBXwqoEVcNxs7L4HHAAAALiZEMABAAAAExHAAQAAABMRwAEAAAATEcABAAAAExHAAQAAABMRwAEAAAATEcABAAAAExHAAQAAABMRwAEAAAATEcABAAAAExHAAQAAABMRwAEAAAATEcABAAAAExHAAQAAABMRwAEAAAATEcABAAAAExHAAQAAABMRwAEAAAATEcABAAAAExHAAQAAABMRwAEAAAATEcABAAAAExHAAQAAABMRwAEAAAATEcABAAAAExHAAQAAABMRwAEAAAATEcABAAAAExHAAQAAABMRwAEAAAATEcABAAAAExHAAQAAABMRwAEAAAATEcABAAAAExHAAQAAABMRwAEAAAATEcABAAAAExHAAQAAABMRwAEAAAATEcABAAAAExHAAQAAABMRwAEAAAATEcABAAAAExHAAQAAABMRwAEAAAATEcABAAAAExHAAQAAABMRwAEAAAATEcABAAAAExHAAQAAABMRwC+SmZmpPXv22LsMAAAAVGME8IvExsZqyJAh9i4DAAAA1RgB/CLR0dGKj4+3dxkAAACoxgjgFwkKClLz5s3tXQYAAACqMQI4AAAAYCICOAAAAGAiAjgAAABgIgI4AAAAYCICOAAAAGAiAjgAAABgIgI4AAAAYCICOAAAAGAiAjgAAABgIgI4AAAAYCICOAAAAGAiAjgAAABgImd7FwAAwPUSE+Nu7xJwBRLsXQBgMlbAAQAAABMRwAEAAAATEcABAAAAExHAAQAAABMRwAEAAAATEcABAAAAExHAAQAAABMRwAEAAAATEcABAAAAExHAAQAAABMRwAEAAAATEcABAAAAExHAAQAAABMRwAEAAAATEcABAAAAExHAAQAAABMRwAEAAAATEcABAAAAExHAAQAAABMRwAEAAAATEcABAAAAExHAAQAAABMRwAEAAAATEcABAAAAExHAAQAAABMRwAEAAAATEcABAAAAExHAAQAAABMRwAEAAAATEcABAAAAExHAAQAAABMRwAEAAAATEcABAAAAExHAAQAAABMRwAEAAAATOdu7gIudPXtWY8aMUVBQkObPny9JSktL01tvvaVDhw6pTp06GjVqlFq1amU9Z8eOHVq+fLmysrLUrFkzjRs3TgEBAdb2+Ph4bdy4URaLRZ06ddLo0aPl4uJi+twAAAAA6QZbAf/ggw9Uv35969cWi0UzZ85Uu3bttGbNGkVERGj27Nk6ffq0JOnw4cNatGiRxowZo1WrVikkJERz5861nr9p0yZt3bpV8+fP1zvvvKOMjAytWrXK9HkBAAAAF9wwAfynn37S0aNH1bNnT+uxH3/8UYWFherfv79cXFzUuXNnBQcHa8eOHZKkLVu2KDQ0VK1bt5abm5siIyOVmpqq9PR0SdLmzZsVHh6uwMBA1axZUxEREUpMTLTL/AAAAADpBgngxcXFio2N1ejRo+Xg4GA9np6erpCQEDk6/q/MRo0aKS0tTdL57SkNGza0tnl6eiowMNDanp6erkaNGtmce+bMGWVnZ1/vKQEAAADluiH2gK9du1atWrVSw4YNdfDgQevx/Px8eXl52fT18vLSiRMnJEkFBQXltufn55fbfuHz/Px8+fn5WY9nZmYqMzNTkrRnz55KnBkAAABgy+4B/OjRo0pMTNSiRYvKtHl4eCg3N9fmWG5urjw8PCRJ7u7uysvLs2nPy8uzab/4/At9L7RfEBsbq+nTp1/7ZAAAAIDLsHsA37Nnj7KzszV69GhJUlFRkYqKijR06FA9/fTTSktLU2lpqXUbSmpqqu677z5JUoMGDcqsmB87dkwNGjSQJAUHBys1NVUtWrSQJB08eFA+Pj42q9+SFB0drb59+1rrGTJkyPWdNAAAAG5adg/g9957r0JDQ61fb9++XV9++aVee+011ahRQ66urlq3bp3Cw8O1c+dOpaWlqVOnTpKkrl27asKECfruu+/UokULrV69WiEhIQoODpYk9ejRQ2vXrlVYWJi8vLyUkJCgHj16lKkhKChIQUFB5kwYAAAANzW7B3A3Nze5ublZv/by8pKTk5N1lTomJkaLFy9WQkKCAgICNHnyZPn6+kqS6tevr3HjxmnJkiXKzs5W06ZN9fLLL1vH6t27t06ePKkJEyaopKREHTt21ODBg82dIAAAAHARB8MwDHsXcSNJSUlRWFiYkpOTbVbmAQBVT8SBKHuXgCuQ0CTO3iUAprohHkMIAAAA3CwI4AAAAICJCOAAAACAiQjgAAAAgIkI4AAAAICJCOAAAACAiQjgAAAAgIkI4AAAAICJCOAAAACAiQjgAAAA1+hf//qXevfurVq1asnV1VUNGzZUdHS09u/ff8VjfPTRR1q6dOl1rBI3CgI4AADANZg0aZLCw8Pl4+Ojv/3tb9q8ebNee+01/fzzzxo4cOAVj0MAv3k427sAAACAqmrDhg1644039Oqrr2rGjBnW4/fdd5+GDRum9evX27G6ypOfny8PDw97l1FtsAIOAABQQQsWLFCdOnX06quvltv+8MMPW/u1bdtWPj4+CggI0MMPP2yzPSUqKkrLly/X7t275eDgIAcHB0VFRVnb//Of/6h79+7y8vKSj4+PIiMjdeLECZtrZWRk6OGHH5anp6fq16+vhQsX6vnnn1dISIhNvx9//FH333+/daz+/fsrPT3dpo+Dg4PmzJmjiRMnKjAwUAEBAfrkk0/k4OCgX375xaZvdna2PDw8WL2/CqyAAwAAVIDFYtGOHTvUr18/ubi4XLJvRkaGnnnmGTVo0EBnz57VsmXL1LFjR+3fv1+1atXSq6++qpMnT2rv3r1atWqVJKl27dqSzofvrl27qk+fPvrwww+Vm5urmJgYhYeH6z//+Y8kyTAMhYeH6/jx44qNjZWPj4/mzZuntLQ0OTr+b7318OHDuu+++9S4cWPFx8eroKBAU6ZMUZcuXfTDDz+oRo0a1r6LFi1S+/bt9d5778lisahPnz6qW7eu3n//fc2ePdvab/Xq1ZKkyMjIynlhbwIEcAAAgAr47bffVFhYqODg4Mv2XbhwofXzkpIS9erVSwEBAfrHP/6hUaNGqXHjxqpdu7bS0tLUvn17m3MnTZqkNm3aaN26dXJwcJAktWzZUnfeeac2bNigPn366NNPP1VKSoq2bdumzp07S5K6d++uevXqydfX16aO4uJibdq0SbVq1ZIktW7dWi1atFBcXJyeffZZa99atWrZXFOShg0bpvfff1+vv/66nJycJEnvv/++/vSnP9lcB5fGFhQAAIBrcHFA/SNff/21evXqpVtuuUXOzs7y9PRUTk7OZZ+SkpeXpx07dujxxx9XSUmJLBaLLBaLbr/9dtWvX1+7du2SJO3atUu+vr7W8C1J3t7e6tGjh81427dvV/fu3a3hW5KaNWumVq1aKSkpyabvgw8+WGZuI0aMUGZmpjZu3ChJ+uGHH5SSkqIRI0Zc9jXA/xDAAQAAKuCWW26Ru7t7mf3Tv5eenq7evXurpKREsbGx2rFjh3bt2qWAgAAVFBRc8tzs7GyVlJTohRdekIuLi81Henq6Dh8+LEnKzMy0blm5WEBAQJnx6tSpU6ZfnTp1lJWVVebY74WEhKhXr1567733JJ1f/W7YsKG6det2yXnAFltQAAAAKsDZ2VmdOnVSYmKiLBaLnJ3Lj1UbN25UTk6O1q1bZ92mYbFYygTe8vj6+srBwUGvvPKKHn300TLt/v7+kqSgoCCdPHmyTPvv/1CzVq1aZY5J0vHjx3X77bfbHPujlf2nnnpKkZGROnLkiFatWqVx48Zd0b8C4H9YAQcAAKig8ePH69ixY5o1a1a57Rs2bFB+fr4cHBxs/lDz73//uywWi01fV1fXMiviXl5e6tChg/bs2aM2bdqU+bjwhJO2bdvq9OnT2rZtm/XcnJwcJSYm2ox37733KjExUdnZ2dZj+/bt0w8//KB77733iuYcHh4uPz8/RUZGKisry+ZpLbgyrIADAABUUJ8+ffTyyy9r2rRp+vnnnxURESF/f3+lpqbq/fff15kzZ7RixQpJ5/+AMTo6Wrt379aCBQvK/NFi8+bN9f7772vNmjW67bbb5O/vr5CQEM2bN0/du3fXwIEDFRERIT8/P2VkZOjzzz/XsGHD1LVrVz344IMKDQ1VZGSkZs+eLV9fX82dO1c1atSweQrKCy+8oA8++EC9e/fWlClTVFBQoJiYGAUHB19xkHZxcdGTTz6pefPm6f7771f9+vUr7fW8WbACDgAAcA3eeOMNffTRR8rKytLw4cPVo0cPTZ06Vc2aNdP/+3//Ty1btlRcXJySk5P18MMPa82aNfrHP/4hHx8fm3FGjBihxx9/XM8++6zatm2radOmSZI6duyopKQk5eTkaNiwYerTp49mzJghT09PNWnSRNL57SIff/yxWrVqpVGjRik6OloPPfSQevbsaXOd+vXra+vWrfLz89PgwYM1atQotWrVSlu2bLF5BOHlPPbYY5Kk4cOHX+Ord3NyMAzDsHcRN5KUlBSFhYUpOTlZoaGh9i4HAHANIg5E2bsEXIGEJnH2LqFaKioqUosWLdS5c2d98MEHlTr2a6+9pqVLl+rIkSNyc3Or1LFvBmxBAQAAqAbeeecdlZaWqmnTpsrOztbbb7+tQ4cOKSEhodKusW/fPu3bt09vvfWWxo4dS/iuIAI4AABANeDu7q45c+bo0KFDkqRWrVrp3//+t9q0aVNp14iOjtbXX3+tBx54QJMnT660cW82BHAAAIBqYOjQoRo6dOh1vcaWLVuu6/g3CwI4AADAVToQFXFdxm0SV3nbRXDj4ikoAAAAgIkI4AAAAICJCOAAAACAiQjgAAAAgIkI4AAAADe59PR0eXt7q7Cw0N6l3BQqFMC7d++uvXv3ltu2f/9+de/e/ZqKAgAAwHldu3aVu7u7vL29rR8fffRRpV4jODhYOTk51jfW6dq1q5YtW1ap18D/VOgxhFu2bNHZs2fLbTt79qy2bdt2TUUBAADgf/7yl79o9OjRFTrXMAyVlpbKycmpkqv6YxaLRc7OPO36j1R4C4qDg0O5x7/66isFBARUuCAAAABcWlRUlCZNmmT9eu/evTbZrGvXrnrllVfUtWtXeXl56ZtvvlFISIgWLFigsLAw1axZU3369FF2drYk6dChQ3JwcFBBQYEmTpyo7du36/nnn5e3t7eeeOIJSeez38U7ICZNmqSoqCib8+Pi4tSwYUPdddddkqTPPvtMbdq0ka+vr0JDQ7V9+/br/dJUCVf8q8ns2bM1e/ZsSedvQLdu3eToaJvfCwsLZbFY9PTTT1dulQAAALgqcXFx2rBhg+666y4VFxdLkuLj4/Xxxx+rVq1a6t27txYuXKgZM2bYnPfGG29o586dioiIuOpV940bN+r777+Xi4uLvv/+e0VGRurjjz9Wx44dtWHDBj366KPat2+f/P39K22eVdEVB/COHTtqwoQJMgxDM2bM0KBBg1SvXj2bPq6urmrevLkeeeSRSi8UAADgZjV+/Hjrire3t7d69ux52XOGDh2qu+++W5Kse7ufe+45BQcHS5L69++vL774olLrnDZtmmrWrClJio2N1ciRI3XvvfdKkh5++GHdfffd2rBhg4YOHVqp161qrjiAd+nSRV26dJF0fgX8qaee0q233nrdCgMAAMB5b775ps1q9IWtH5fSoEGDMscCAwOtn3t6eionJ6dS6ivvmocOHdKWLVsUGxtrPVZcXKxevXpV6jWrogrtjp86dWpl1wEAAIAr5O3trby8POvXx44dK9Pnj/5e70qUd66Xl9dVXTM4OFgvv/yypk2bVuE6qqsK/RFmaWmp3nnnHfXu3VstWrRQo0aNbD4aN25c2XUCAADg/7Ru3VobNmzQyZMnlZWVpTfeeKNSx69Tp45+/fXXMtdcuXKlSkpK9NVXX+njjz++5BijRo3SO++8o6SkJJWWlio/P19ffvmlMjIyKrXWqqhCK+ATJ07UggUL1KVLF3Xr1k2urq6VXRcAAAD+wJAhQ/TFF1+oSZMmuvXWWzV+/Hht3Lix0sZ/7rnnFBUVpXfffVd9+/bV8uXL9de//lVPPvmkfH191bt3bw0aNMhmRfz3QkNDtXz5cr300kvau3evXFxc1K5dOy1durTS6qyqHAzDMK72pFtvvVVjxozRq6++ej1qsquUlBSFhYUpOTlZoaGh9i4HAHANIg5E2bsEXIGEJnH2LuGqHYiKuC7jNolLuC7j4sZSoS0oBQUF6tixY2XXAgAAAFR7FQrggwcP1ieffFLZtQAAAADVXoX2gLdv314xMTE6fvy4evXqJV9f3zJ9/vSnP11zcQAAAEB1U6EAfuEtSdPS0vThhx+WaXdwcFBJScm1VQYAAABUQxUK4KmpqZVdBwAAAHBTqFAAL++dlQAAAABcXoUCeHp6+mX7BAcHV2RoAACAGx6PC8S1qFAADwkJuezbm7IHHAAAACirQgH8n//8Z5lj2dnZ+uyzz/T1119rzpw511wYAADAjep6vclTVXxTIly9CgXw8PDwco9HRUVp/Pjx2rp1qwYOHHhNhdlDZmam9uzZY+8yAAAAUI1V6I14LqVPnz5KSKia+6JiY2M1ZMgQe5cBAACAaqzSA/hXX30ld3f3yh7WFNHR0YqPj7d3GQAAAKjGKrQFZdy4cWWOFRUVac+ePUpKStKLL754zYXZQ1BQkJo3b27vMgAAAFCNVSiAf/LJJ2WOubu7q169elq6dKlGjhx5zYUBAADgyv3rX//Ss88+q99++03r16/XHXfcoQEDBig5OVkDBgxQo0aNtH//fsXFxdm71Epx6NAhNWzYUPn5+XJ3d9eDDz6o/v37a8SIEfYu7bJ4J0wAAIAbXHx8vObPn6/9+/fLy8tLffr00Zw5cxQUFGTtM2HCBM2fP1+PP/64JGnWrFny9vbWmTNnLvv46Guxfv16TZ06VQcOHJCTk5NatGihhQsXqm3bttftmuX59NNPTb3etaj0PeAAAACoPIsWLdILL7ygmTNn6vTp0/r+++9VWlqqTp066fTp09Z+qampatmypc3Xd9xxx3UN37/++qsiIyM1a9YsZWdnKyMjQzExMXJzc7tu16wOKhzAv/32Wz3++OMKCgqSm5ubgoKCNGDAAH333XeVWR8AAMBN6+zZs4qJidFbb72lRx55RK6urrr11lu1fPlyubu7a+HChcrNzZW3t7dKSkoUFhYmf39/PfHEE1q+fLnefPNNeXt7a+3atZo2bZoiIiKsY3/zzTe677775Ofnp8DAQM2ePdvaFh8frzvvvFO+vr7q3Lmzdu/eXW593377rerXr68HHnhAjo6O8vT01AMPPKC77rpLkspcs6CgQA4ODjp06JCk84+wjo6OVp8+fVSjRg21a9dOP/30k7V/SEiIZs+erZYtW8rHx0f9+vWz+aXjYl27dtWyZcuuaA7z589X/fr1VaNGDTVq1Mj0J/hVKIBv375dHTp00K5duzRo0CDNmDFDgwYN0q5du9ShQwclJSVVdp0AAAA3nf/85z/Kz89Xv379bI47Ojqqf//+2rRpk7y8vJSTkyNJSk5O1qlTp7Ry5UoNHjxY48ePV05OTpnzMzIy1KtXLw0fPlzHjx/X/v371b17d0nn/9YvJiZGa9as0W+//aYhQ4bokUceUVFRUZn6wsLC9Ouvv+qZZ57R559/rjNnzlz1HFeuXKnx48crKytLffv21aOPPiqLxWJtj4uL08cff6yMjAwVFhaW+zCQ37vUHPbt26fXXntNmzdv1rlz57Rjxw7rLwxmqVAAnzRpkrp27aoDBw7ozTff1MSJE/Xmm2/qwIED6tKliyZNmlTZdQIAANx0Tp06JX9/f7m4uJRpCwoK0qlTpyo0bnx8vDp37qyoqCi5urqqZs2auueeeyRJb7/9tiZOnKiWLVvKyclJ0dHRcnBw0Ndff11mnIYNG2r79u3KysrS0KFD5e/vr0cffVTHjx+/4loefPBB9ezZUy4uLpo8ebLOnDljc61nnnlGjRo1Uo0aNTRr1ix9+OGHKi0tveSYl5qDs7OzDMPQTz/9pPz8fAUFBalFixZXXG9lqFAA//bbbzVu3Dg5O9v+DaeTk5PGjRunlJSUSikOAADgZubv769Tp06puLi4TFtmZqb8/f0rNG56erqaNGlSbtuhQ4f00ksvydfX1/qRmZmpI0eOlNu/bdu2Wr16tTIzM/Xdd98pPT1dzz///BXXEhwcbP3cyclJdevWtbnWxe0NGjRQUVGRTp48eckxLzWHxo0ba/ny5frrX/+qOnXq6KGHHtLevXuvuN7KUKEA7uXlpRMnTpTbdvz4cXl5eV1TUQAAAJA6dOggd3d3rV271uZ4aWmp/vGPf6hnz54VGjc4OFgHDhz4w7bFixfr9OnT1o+8vDwNGjTosuPecccdGj58uHUft7e3t/Ly8qztx44dK3NOenq69fOSkhIdOXJEdevWLbc9PT1dLi4uql279mXnd6k5DBgwQFu3btWxY8fUuHFjPfXUU5edW2WqUAB/5JFHNHHiRG3evNnm+ObNmzV58mT17du3UooDAAC4mdWsWVMzZszQs88+q/Xr16uoqEhHjx7Vk08+qby8PL3wwgsVGnfw4MHatm2bVq5cqeLiYp09e1Y7d+6UJI0ZM0Zz5szR999/L8MwlJOTo08++UTnzp0rM05SUpKWLVtmDdZpaWlatWqVOnToIElq3bq1tm/froMHDyo3N1fTp08vM8bGjRv1xRdfqLi4WG+88YZq1Khh3Q4jSUuXLlVqaqrOnTunmJgYDRw4UI6Ol46wl5rDvn37tHnzZhUUFMjNzU3e3t5ycnKq0OtYURUK4AsWLFBISIjuv/9++fn5qWnTpvLz89P999+vkJAQzZ8/v7LrBAAAuCmNHz9e8+fP15QpU+Tr62v9g8EdO3aoVq1aFRqzfv362rhxo5YtW6batWuradOm2rJliyQpPDxcU6dO1ZNPPilfX1/ddtttWrlyZbnj+Pr6asOGDbr77rvl5eWle++9V61bt9aCBQskST169NDQoUMVFhamO++8s9wV+yFDhmj+/Pny8/PTP//5T/3zn/+02fM+dOhQ9e3bV/Xq1ZOTk5MWLVp02fldag6FhYWaMmWKateurVtuuUVff/21zdNTzOBgGIZRkRNLS0u1fv16JSUlKTs7W7Vq1dK9996rhx566LK/ldzIUlJSFBYWpuTkZIWGhtq7HADANYg4EGXvEnAFEprE2buEq3a9vreq4mtxLaKiohQYGKg5c+aU2x4SEqJly5bpgQceMLmy66tC74SZmFVSatkAACAASURBVJio9PR0DRs2rMx2k7i4ODVo0EDdunWrlAIBAACA6qRCS9UxMTF/+HiZkydPKiYm5pqKAgAAAKqrCq2A7969WzNnziy3LTQ0VLNmzbqmogAAAFD9xcXFXbL9wjtmVjcVWgF3cHD4w3c6ys7OVklJyTUVBQAAAFRXFQrg99xzj5YsWaLf//2mYRhaunSpzaNjAAAAAPxPhbagTJ8+Xd26ddNdd92lqKgoBQUF6ejRo1qxYoX2799vfYwNAAAAAFsVCuAdOnRQYmKiXn75ZU2cOFGlpaVydHS0Hm/fvn1l1wkAAHDDuNkeF4jKVaEALkmdOnXSjh07lJ+fr+zsbPn6+srT07MyawMAAACqnQoH8As8PDzk4eFRGbUAAAAA1d41B3AAAICbTVTEgesyblxCk+syLm4sVfc94wEAAIAqiAAOAAAAmIgADgAAAJiIAA4AAACYiAAOAABwk9iyZYsCAwOr3NjVDQEcAADgBuXt7W39cHJykru7u/XrP//5z/YuDxXEYwgBAABuUDk5OdbP27dvr9GjRysqKsp+BaFSsAIOAABQxRiGoTfffFO33367atWqpT59+igjI8Pavm/fPvXp00f+/v7y9/fXM888Y3P+W2+9paCgIAUEBGjevHnW49OmTVO/fv301FNPycfHR02aNNHmzZut7ceOHVO/fv3k7++vhg0b6s9//rNKS0vLrXH//v3q1auX/Pz8dPvtt+u9996ztpWWlmrSpEmqXbu2goOD9f7778vBwUGHDh1ScnKy/Pz8VFhYaO2/c+dO3XLLLSoqKrrm1+5GQAAHAACoYhYvXqxVq1Zp06ZNOn78uEJDQxURESHp/Kp5z5491alTJx0+fFiHDx+2tknSqVOndPjwYaWlpWn9+vWaMmWKDhz43xsLrV+/Xn369FFWVpbGjh2r4cOHW9sGDRokHx8fpaen6/PPP9f7779vE6wvKC4u1sMPP6wOHTro+PHjWr16tSZOnGgN8++9957Wrl2rXbt26eeff9ann35qPTcsLEz169fXJ598Yj22YsUKDRo0SK6urpX3ItoRARwAAKCKefvtt/X6668rJCRELi4umjZtmnbt2qX09HStX79ePj4+mjJlijw8POTh4aF7773Xeq6jo6Nef/11ubq6ql27dmrWrJm+++47a3uHDh302GOPycnJSU8++aQOHz6sU6dOKSMjQ1u3btWCBQvk6empJk2a6MUXX9SKFSvK1Ldz505lZ2dr6tSpcnV1VZs2bTRy5EgtX75ckrRmzRo999xzCgkJkbe3t6ZOnWpz/rBhw6zjFhUV6cMPP9STTz55PV5KuyCAAwAAVDGHDh3SwIED5evrK19fX/n7+8vR0VEZGRlKT09XkyZ//Jb2tWrVsllJ9vT0tNlrfvGTTDw9PSWdX1U/cuSIfHx85OfnZ20PCQnRkSNHylzjyJEjqlevnpycnMrte/ToUdWvX9/advHnkjRkyBAlJibq5MmT+ve//62AgAC1bdv2sq9LVUEABwAAqGKCg4P1r3/9S6dPn7Z+5Ofnq2PHjgoODtavv/5a6desW7euzpw5o9OnT1uPHTp0SHXr1i23b0ZGhkpKSsrte+utt+rw4cPWtos/l6TatWurd+/eWrNmjVasWFGtVr8lAjgAAECVM2bMGE2ZMsUatLOzs/X3v/9dkvTQQw8pKytLc+bMUX5+vvLz85WUlHTN16xXr546d+6sF198Ufn5+fr111+1YMECPfHEE2X63nPPPfL19dXMmTNVVFSklJQUvffee9a+AwcO1FtvvaW0tDTl5ORo5syZZcYYNmyY3n77bX322WflXqMqI4ADAABUMc8++6wiIiL08MMPq2bNmmrVqpU+++wzSVKNGjX0+eef64svvlDdunUVHBxsDefXas2aNfrtt99Ur149de/eXUOHDtXIkSPL9HNxcdEnn3yi7du3KyAgQAMHDtSsWbPUu3dvSdLIkSPVt29ftWnTRs2bN1f37t0lSW5ubtYx+vTpo+zsbN1333269dZbK6X+G4WDYRiGvYu4kaSkpCgsLEzJyckKDQ21dzkAgGsQcSDK3iXgCiQ0ibN3CVctKuLA5TtVQFzCH+/drs6+/fZb3XPPPSooKJCj4//Wh0NDQ/XSSy9p0KBBdqyu8rECDgAAAFMVFRXpk08+kcVi0cmTJzV58mQ9+uijNuE7MTFRR44c0Z/+9Cc7Vnp9EMABAABgKsMw9Prrr8vPz0/NmjVTjRo1tHjxYmt7z549NWDAAC1ZssRmW0p1wVvRAwAAwFRubm7auXPnH7Zf/O6b1REr4AAAAICJCOAAAACAiQjgAAAAgInYAw4AAHCVbtbHBaJysAIOAAAAmIgADgAAAJiIAA4AAACYiAAOAAAAmIgADgAAAJiIAA4AAACYyO6PISwuLtayZcv0/fff69y5c/L399eAAQPUpUsXSVJaWpreeustHTp0SHXq1NGoUaPUqlUr6/k7duzQ8uXLlZWVpWbNmmncuHEKCAiwtsfHx2vjxo2yWCzq1KmTRo8eLRcXF9PnCQAAAEg3wAp4SUmJatWqpddff10JCQkaO3as3n77be3du1cWi0UzZ85Uu3bttGbNGkVERGj27Nk6ffq0JOnw4cNatGiRxowZo1WrVikkJERz5861jr1p0yZt3bpV8+fP1zvvvKOMjAytWrXKXlMFAAAA7B/A3d3dNXjwYAUGBsrBwUEtWrRQ8+bNtWfPHv34448qLCxU//795eLios6dOys4OFg7duyQJG3ZskWhoaFq3bq13NzcFBkZqdTUVKWnp0uSNm/erPDwcAUGBqpmzZqKiIhQYmKiPacLAACAm5zdA/jvFRQU6MCBA2rQoIHS09MVEhIiR8f/ldmoUSOlpaVJOr89pWHDhtY2T09PBQYGWtvT09PVqFEjm3PPnDmj7Oxsk2YDAAAA2LL7HvCLlZaW6i9/+Ytuu+02tW7dWvv375eXl5dNHy8vL504cULS+bBeXnt+fn657Rc+z8/Pl5+fn/V4ZmamMjMzJUl79uyp/IkBAAAA/+eGCeCGYWjp0qXKysrS9OnT5eDgIA8PD+Xm5tr0y83NlYeHh6Tz21fy8vJs2vPy8mzaLz7/Qt8L7RfExsZq+vTplT4nAAAA4PduiC0ohmFo2bJlSk1N1bRp06wBOTg4WGlpaSotLbX2TU1NVYMGDSRJDRo00MGDB61t+fn5OnbsmLU9ODhYqamp1vaDBw/Kx8fHZvVbkqKjo5WcnKzk5GTFx8dft3kCAAAAN0QAj42N1b59+zR9+nR5enpaj7ds2VKurq5at26diouLlZSUpLS0NHXq1EmS1LVrV6WkpOi7775TUVGRVq9erZCQEAUHB0uSevTooY8//ljHjh3TuXPnlJCQoB49epS5flBQkEJDQxUaGqrmzZubM2kAAADclOy+BeXEiRPasGGDXFxcNHz4cOvx/v37a8CAAYqJidHixYuVkJCggIAATZ48Wb6+vpKk+vXra9y4cVqyZImys7PVtGlTvfzyy9YxevfurZMnT2rChAkqKSlRx44dNXjwYNPnCODGdyAqwt4l4Ao0iUuwdwkAcM0cDMMw7F3EjSQlJUVhYWFKTk5WaGiovcsBYBICeNVwtQE84kDU9SkElSqhSZy9SwBMdUNsQQEAAABuFgRwAAAAwEQEcAAAAMBEBHAAAADARARwAAAAwEQEcAAAAMBEBHAAAADARARwAAAAwEQEcAAAAMBEBHAAAADARARwAAAAwEQEcAAAAMBEBHAAAADARARwAAAAwEQEcAAAAMBEBHAAAADARARwAAAAwEQEcAAAAMBEBHAAAADARARwAAAAwEQEcAAAAMBEzvYuoDo7EBVh7xJwBZrEJdi7BAAAcBMhgAOApJgYd3uXgCvAr8sAqgO2oAAAAAAmIoADAAAAJiKAAwAAACYigAMAAAAmIoADAAAAJiKAAwAAACYigAMAAAAmIoADAAAAJiKAAwAAACYigAMAAAAmIoADAAAAJiKAAwAAACYigAMAAAAmIoADAAAAJiKAAwAAACYigAMAAAAmcrZ3AdVZTIy7vUvAFUiwdwEAAOCmwgo4AAAAYCICOAAAAGAiAjgAAABgIgI4AAAAYCICOAAAAGAiAjgAAABgIh5DCACottxjYuxdAq4Ez4PFTYYVcAAAAMBEBHAAAADARARwAAAAwEQE8ItkZmZqz5499i4DAAAA1RgB/CKxsbEaMmSIvcsAAABANUYAv0h0dLTi4+PtXQYAAACqMQL4RYKCgtS8eXN7lwEAAIBqjAAOAAAAmIgADgAAAJiIAA4AAACYiAAOAAAAmIgADgAAAJiIAA4AAACYiAAOAAAAmIgADgAAAJiIAA4AAACYiAAOAAAAmIgADgAAAJiIAA4AAACYiAAOAAAAmIgADgAAAJiIAA4AAACYiAAOAAAAmIgADgAAAJiIAA4AAACYiAAOAAAAmIgADgAAAJiIAA4AAACYiAAOAAAAmIgADgAAAJjI2d4FAFXNgagIe5eAK9AkLsHeJQAAUC5WwAEAAAATEcABAAAAExHAAQAAABMRwAEAAAATEcABAAAAE/EUFOAqxcS427sEXAGegQIAuFGxAg4AAACYiAAOAAAAmIgADgAAAJiIPeAAIMk9JsbeJeBKsLkfQDXACjgAAABgIgI4AAAAYCK2oFxH/JN2FcE/aQMAABOxAg4AAACYiAAOAAAAmIgADgAAAJiIAA4AAACYiAAOAAAAmIgADgAAAJiIAA4AAACYiAAOAAAAmIgADgAAAJiIAA4AAACYiAAOAAAAmMjZ3gVcbzk5OVqyZIlSUlLk4eGhxx57TOHh4fYuC1WYe0yMvUvAlUiwdwEAAJSv2gfw2NhYFRcX64MPPtCJEyf06quvql69egoLC7N3aQAAALgJVestKAUFBdqxY4eeeOIJeXp6KiQkRL1799bnn39u79IAAABwk6rWAfzIkSMyDEMNGjSwHmvYsKHS09PtWBUAAABuZtV6C0pBQYE8PT1tjnl5eSk/P9/mWGZmpjIzMyVJe/bsMa0+AAAA3HyqdQB3d3cvE7bz8vLk4eFhcyw2NlbTp0+v9OvHJTSp9DFhf9zX6on7Wj1xXwHciKr1FpS6detKks2Wk9TUVAUHB9v0i46OVnJyspKTkxUfH29qjQAAALi5VOsA7u7urk6dOmnlypXKy8tTWlqaNm3apF69etn0CwoKUmhoqEJDQ9W8eXM7VQsAAICbQbXegiKdX91evHixoqKi5OHhoX79+vEIQgAAANhNtQ/g3t7emjRpkr3LAAAAACRV8y0oAAAAwI2GAA4AAACYiAAOAAAAmIgADgAAAJiIAA4AAACYiAAOAAAAmIgADgAAAJiIAA4AAACYiAAOAAAAmIgADgAAAJiIAA4AAACYyNneBdxo8vPzJUl79uyxcyUAAOBqNWvWTJ6envYuA7gkAvjvHDp0SJI0ZMgQ+xYCAACuWnJyskJDQ+1dBnBJDoZhGPYu4kZy6tQpffbZZwoJCZGHh4e9y7mh7NmzR0OGDFF8fLyaN29u73JQSbiv1RP3tXrivl4eK+CoClgB/x1/f38NHjzY3mXc0Jo3b87qQjXEfa2euK/VE/cVqNr4I0wAAADARE7Tpk2bZu8iUHV4e3ura9euqlGjhr1LQSXivlZP3NfqifsKVH3sAQcAAABMxBYUAAAAwEQE8Gpm2rRp2rRpk92uv3r1as2bN89u1wdg69NPP9Urr7xS4fP/8pe/aPny5ZVYES724osvKjExsdLGmzdvnlavXl3h80eOHKnk5ORKqwdA+XgKShX1yiuvaN++fXJycrIeGz9+vK5lS/8rr7yizp0768EHH7xkvw0bNmjjxo3KzMyUp6enGjdurP79+6tFixYVvjbO27Nnj5YvX660tDRJUlBQkCIjI9WmTRu71vXjjz8qJiZGbm5ucnBwkLu7u2677TY98sgjatWqlV1rs6cb9X5dDYvFonXr1unLL7/UqVOnVKNGDTVt2lQDBw5USEiIvcu77i51D3/88UfNmzdPK1assHOVlSc7O1urV6/Wrl27lJeXJ19fX7Vr104DBgxQzZo17V0ecNMggFdhI0eOvGxYvlhJSYlNYK+Id999V19//bXGjh2rFi1ayNHRUcnJyfr6668J4NcoLy9PM2bM0MiRI9W1a1eVlpZq//79cnBwsHdpkiQfHx9rEMnJyVFSUpJmzZqlMWPGqFu3bnauznw3+v26UnPnztWxY8f03HPPqUmTJrJYLPrqq6+0a9euah/Aq/I9LC0tlYODw1XVmpOTo4kTJ6px48aaPXu2AgMDdfr0aX366afat2+f2rZtex0rBnAxAng1c/EqdmJioj799FPdeeedSkxMVPv27fXEE0/or3/9q3bv3i1Jqlu3rl577TWtW7dOP//8s/bt26cPPvhA7du31/jx423GPnr0qNavX685c+aoWbNm1uPt27dX+/bty61n3rx5+umnn1RYWKiQkBCNHj3a+j/15ORkxcXF6cSJE3Jzc1O3bt00bNgwFRUVaenSpdq1a5dKSkoUEBCgF198UcHBwdfnRbtBHDlyRCUlJerRo4ckycnJSXfccYe1PS8vTwsWLND+/ftlsVjUrFkzPf3006pdu7ak8/e+efPm+vnnn3XgwAHddtttevnll7V27VolJibKy8tL48aNU8uWLa3jxcXFWV/njh07avjw4XJ1db1srd7e3nrggQeUm5urDz74QF26dJGjo6PWrVunjRs36syZM7rllls0ZMgQdezYUcXFxYqKitLUqVN1++23S5KKi4s1dOhQzZgxQ7fddltlv5zX3eXulySlpKQoPj5emZmZqlOnjp566ilrn9zcXC1fvly7du1Sfn6+QkJCNH36dLm5uWn//v3629/+psOHD6t27doaOnSoNRytXr1aaWlpqlGjhpKSklSzZk09/fTTuvvuuyVJJ0+e1KJFi/TLL7+oQYMGZWq62Pfff6/k5GS9/fbbCggIkCQ5Ozure/fu5fa/3Pfgl19+qTVr1ujMmTPy8vJSeHi4wsPDdfbs2XJ/7th7xfVS9zA3N1fTp09XcXGxBgwYIElasGCBXFxctHjxYqWmpkqS7r77bo0ZM0be3t6Szi+MPPTQQ9q2bZuOHj2qFi1aaMKECdb2bdu2aeXKlcrJyVGvXr1s6jl27Nhlx37wwQeVlJSk9PR0/e1vf1NGRoZiY2N16tQptW/fXsXFxX84348//liurq568cUXrYsxfn5+ioyMLLf/L7/8Yv0+dHFxUYcOHTRy5Ei5uLjIMAzFxcXpiy++UFFRkWrVqqWnn35aLVu21C+//KLY2Fjrea1bt9aECROu/gYB1ZmBKmny5MnGhg0bLnl88+bNRnh4uLF27VqjuLjYKCgoMOLi4owZM2YYBQUFhsViMX755RcjLy/vkmNesGHDBmPYsGGXrGvVqlXG3LlzrV9//vnnRm5urlFUVGS8++67xtixY61tQ4cONb744gvDMAwjLy/P2Lt3r2EYhvHpp58azz//vHHu3DmjtLTUSE9PN7Kysq7wlam6cnNzjcjISGPevHnGN998Y5w+fdqm/dy5c0ZSUpJRUFBg5OXlGXPnzjWmT59ubZ88ebIxYsQI4/Dhw0ZBQYExceJEY+TIkcamTZsMi8VirFu3zoiOjrb2//Of/2wsXLjQyM3NNc6dO2e89tprxooVK8qt7YcffjCeeOKJMsePHj1qPPLII0Z6erphGIaRlJRknDp1yigpKTGSkpKMfv36GSdPnjQMwzBiY2ONt99+23ru9u3bbb4fqprL3a+DBw8akZGRxu7du42SkhLjm2++MSIjI40zZ84YhmEYr7/+ujFr1izj9OnThsViMXbv3m0UFRUZ586dMwYNGmRs3LjRsFgsRkpKitG/f3/ra7xq1SrjscceM7766ivDYrEYH330kc1/ly+99JKxdOlSo7Cw0Pjll1+MIUOGGJMnTy53DnFxccbEiRMvOc+FCxcacXFxhmFc+nswPz/fePTRR42ffvrJMAzDOHv2rHHgwAHrdf7o5449Xe4elvd9n5mZaaSkpBhFRUXGmTNnjMmTJ9t8X48YMcIYN26cceLECSMvL8946aWXjPj4eMMwDOPw4cNGv379jG+//dYoLi42EhISjPDwcGPz5s1XPPbYsWONzMxMo7i42MjOzjYGDBhgfPHFF4bFYrH+zF+1alW5850wYYK1lj8yYsQI47///a9hGIZx4MAB4+effzYsFotx/Phx4+mnnzbWrVtnGIZhJCcnG8OGDTN+++03a+2ZmZmGYRjGiy++aHz44YdGSUmJUVhYaOzevfvSNwK4CfFHmFXYe++9p0GDBmnQoEEaNmxYuX18fX312GOPydnZWW5ubnJxcdG5c+d09OhROTk5qUmTJvLw8Lii6507d061atW6qhp79uwpT09Pubi4KCIiQunp6Tp79qyk8yttmZmZOnv2rDw8PNS0aVPr8fz8fGVkZMgwDNWvX19+fn5Xdd2qyNPTU3PnzpWbm5uWLVumJ598UlOmTNHRo0clnV917tSpk9zc3OTh4aH+/ftbVxQv6N69u+rVqyc3Nze1b99ezs7O6tWrl5ycnHTffffp6NGjys/P1+nTp/XNN99o1KhR8vT0lLe3twYMGKBt27ZdVc0Xvh/OnTsnSerUqZNuueUWOTo6qlOnTqpbt672798vSerRo4e2b98ui8Ui6fxq6R+ttFYFl7tfGzduVK9evaxbtdq2bauGDRvqv//9r7Kzs7Vz506NHTtWPj4+cnJyUosWLeTi4qJdu3apdu3auv/+++Xk5KTWrVurXbt22rp1q/XazZo1U4cOHeTk5KTu3bvr1KlTOnv2rE6ePKl9+/Zp6NChcnV1VZMmTdSlS5c/nMO5c+d0yy23XPGcL/c96OTkpMOHDysvL081atRQ48aNJemafu5cT5e7h+UJDAxU69at5eLiopo1a6pv375l/jvs27evateuLQ8PD3Xs2FG//vqrJCkpKUlhYWG6++675ezsrP79+1tXt6907IceekiBgYFydnZWSkqKbr31VnXr1k1OTk7q0aOHGjRo8Ie1X+3P8MaNG6t58+ZycnJSQECA7r//fv3000+Szv+cLioqUnp6uiwWiwIDAxUYGGhtO3HihLKysuTq6sr2RKAcbEGpwkaMGHHZPeD+/v42ewQfe+wxFRYWas6cOSosLFSXLl30xBNPyNn58t8KNWrUUFZW1hXXV1JSovj4eO3YsUNnzpyRo+P53/fOnj2rmjVr6pVXXtGHH36o6OhoBQUFadCgQWrbtq26deumrKwsLVmyRFlZWerQoYOGDx8uT0/PK752VVW3bl09++yzkqQTJ05oyZIlWrhwoebNm6fCwkK9++67SklJUU5OjiQpPz9fxcXFcnFxkSSbX1Tc3NzKfC1JBQUFOnnypEpLS/X/27vzoKauNgzgT2QLBAhGkIJatNoFi0gRlxk33ArFMoC1OFiYitrWLgiCK21H67QzFOsoiLiBuyKOiGIXpRbRWrVKBaWKTLHUKogJEJdA2JL7/eFwxwAiUD605fnNMGPufe85b3Lj5b0nJ4c5c+aI+wVBgF6vb1e+je+Hxj8IkpWVhcOHD0OpVIr5Nd5wDRw4ELa2tsjJyYGzszMuXbqEjz/+uF39PWtaO19KpRL5+fk4duyYGN/Q0AA3NzeoVCrIZDLI5fJmbVZWVsLe3t5gW+/evVFRUSE+bum8arVaqNVqWFhYQCaTifvt7Ozw559/tpi/lZUVbt261ebn29p7UCqV4rPPPkN6ejq2b9+OAQMG4N1338Urr7zyj647/2+tncOWqNVqJCUl4cqVK9BqtRAEodnNhI2NjfhvMzMz1NTUAHh4bhun6wAPb1gevQFqS9uNU4Vaaq/p/qbaew0vKSlBcnIyioqKUFtbC51OhwEDBgAAXF1dMXPmTOzatQulpaVwd3fH7Nmz0atXL8yfPx979+7FggULYG1tDX9//2bTbYi6u6d/9aMuZW5ujtDQUISGhuL27dv44osv0KdPH7z++utP/DLP0KFDsWnTJhQWFoqj1a05deoUzp49i5UrV8Le3h7V1dUICgoS9w8cOBDR0dHQ6XQ4ffo0YmJisGfPHkilUgQGBiIwMBCVlZX4+uuvcfDgQQQHB//j5/9v0rt3b7z55pv45ptvAADp6em4efMmVq1aBYVCgeLiYoSHh0PowN/SsrOzg5GREXbu3CkW7x1x5swZyOVy9OnTB0qlEgkJCVi5cqU4atY0v0mTJiErKwtKpRIuLi7t/kTlWdb0fNnZ2WHatGktzq9Vq9WoqqoSb0YfpVAocOfOHYNtSqUSDg4OT8yhV69eqK6uRnV1tXjDWl5e/th4Nzc3ZGRkQKVSNSvkWvKk96Cbmxvc3NxQX1+PjIwMxMbGYuvWra1ed54lTc9hS9fEXbt2Qa/XIz4+HtbW1jh37hwSExPb1H7ja9ZIp9MZ3Fi1t22FQgGVSmWwTaVSiUVyU6+99hrOnTuHoKAgcUCkNRs2bICTkxMWLlwICwsLZGRkGHxK5uPjAx8fH2g0GiQkJGDHjh2IjIyEg4MDoqKiIAgCfv/9dyxfvhyvvvoqHB0dn9gnUXfBKSjdzIULF1BSUgK9Xg8LCwsYGRmJX8axsbFBWVnZY491dHQUfznl5eWhrq4O9fX1uHDhArZt29YsXqvVwsTEBFZWVqirq8Pu3bvFffX19Thx4gQ0Gg2MjIwgk8kgkUjQo0cPXL58GcXFxdDpdJBKpTAxMWnTL4t/u1u3buHgwYNQqVQQBAF3795FZmameLOj1WphamoKmUwGjUaD1NTUDvfVs2dPeHh4YMuWLdBoNBAEASqVqs3r/1ZVVSEzMxOpqamYNWsWevToIY7yNY7qZmVl4e+//zY4ztPTE5cuXcLRPnABMgAACthJREFUo0fFL779Wz3pfHl5eSEzMxNXr16FXq9HbW0tLl++jPLycvTs2RMjRoxAYmIi7t+/D51Oh4KCAtTX18PDwwNKpRI//vgjdDod8vLycP78+VankjSys7PDyy+/jJ07d6K+vh7Xr19Hdnb2Y+OHDh2KYcOG4auvvkJhYSEaGhpQW1uL7OxsHDhwoFl8a+9BtVqNc+fOQavVwtjYGObm5uL/29auO0/Tk86hjY0NNBqNONoPPHwNpFIpZDIZKioqcOjQoTb3N3r0aPz222+4dOkSGhoakJaW9o/a9vDwQGlpKU6ePAmdTocTJ06Iyym2xM/PDzU1NVi9ejXKysrE57xv3z7k5OQ0i9dqtbCwsIC5uTlKSkpw9OhRcd8ff/yBa9euob6+HmZmZjAzMxPPd1ZWFu7evQuJRCJ+GtMdruFE7cER8G6mtLQUmzdvxt27d2FhYYGxY8fC09MTAODr64u4uDhkZmZixIgRWLBgQbPj58yZA0dHR2zduhWlpaWwsLDAoEGD8PbbbzeLnTBhAi5evIjQ0FBYWVnhnXfeMdh/8uRJbNmyRVzpZPHixTA1NYVarcaGDRtQUVEBMzMzuLu7Y9q0af+X1+NZYm5ujqKiIhw5cgQajQYymQxDhgzBhx9+CODhvNLVq1cjJCQECoUC/v7+OHPmTIf7i4iIwO7duxEeHg6NRgNbW1t4e3tj2LBhLcbfu3cPgYGBkEgkMDMzw0svvYTo6Ghx9Y3nn38eAQEBWLJkCSQSCSZOnGiwWg4AWFtbw83NDZcvX8bIkSM7nPuz4Enna+DAgQgPD8e2bdtw69YtGBsb48UXXxT3R0REYOvWrQgLC0NdXR369++PFStWwMrKCsuXL0dSUhKSk5Nha2uLqKgo9OvXr015RUVFIT4+HsHBwXBycsLkyZNRWFj42PjGlXLWrl2L8vJyWFpaYvDgwZgxY0az2Nbeg4IgICMjA3FxcRAEAX379hVXvmjtuvM0Pekc9u3bF56envjggw+g1+sRGxuLoKAgrFmzBkFBQXBwcICnpyfS09Pb1F+/fv0QFhaGdevWoaqqCpMnT8agQYPE/e1t29raGsuWLcOWLVuQmJiIUaNGtbqUoKWlJWJjY7Fnzx4sXbpUXAd85MiR4upEjwoNDcX69etx+PBhvPDCCxg9ejRyc3MBPFwRJzk5GXfu3IGxsTGcnZ3FKWV5eXnYtm0bamtr0bNnT8ybN0+cH05ED0mEjnx+TUTUQcnJyaipqfnXz/8mIiLqKH4mRERdRq1WIzs7G97e3k87FSIioqeGU1CIqEukpKQgPT0dPj4+4vJ0RERE3RGnoBARERERdSFOQSEiIiIi6kIswImIiIiIuhALcCIiIiKiLsQCnIiIiIioC7EAJyIiIiLqQizAiYiIiIi6EAtwIuqQPXv2YMSIEZDL5bC2toazszPmzp0LpVIpxvTv3x+ffPJJq+1kZ2dDIpEgJyfnH+fU2JZEIsG1a9ea7f/0008hkUjQv3//f9wXABw6dAgSiQR//fVXp7RHRETdAwtwImq32NhYhISEYOzYsUhNTUVqaipmz56NnJwclJaWtqstd3d3nD17Fs7Ozp2Wn6WlJfbt29ds+759+2Bpadlp/RAREXUEC3Aiarf4+HjMmjULq1evhre3N9544w0sWrQIeXl5cHV1bVdb1tbWGDVqFGQyWafl5+fnh5SUFINtv/76K27cuAFfX99O64eIiKgjWIATUbup1Wo4ODi0uK9Hj+aXlfXr18PJyQlyuRz+/v5QqVTivpamoEgkEsTExGDx4sWws7ODlZUVZs2ahQcPHrQpv8DAQBQVFeHixYvitr1792LSpEno3bt3s/gbN25g+vTpkMvlkMlk8PLyQn5+vkFMfX09IiIioFAoIJfLMWfOHGg0mmZt1dbWIjo6Gk5OTjAzM4OzszP27t3bpryJiKh7YAFORO02bNgwbNy4EUlJSSgrK2s1NiMjAxkZGVi/fj3i4uJw8uRJhIWFPbGPdevWoaCgADt27EBMTAzS0tLw3nvvtSk/R0dHjB8/XhwF1+v12L9/P4KCgprFPnjwAJ6ensjNzcXGjRuxe/duVFRUYNy4cbh586YYt2zZMiQmJmLRokXYv38/dDodli5d2qy9wMBAbNq0CVFRUfj222/h7e2N4OBg/PDDD23KnYiIugGBiKid8vPzhUGDBgkABADCgAEDhPnz5wvFxcUGcU5OTkLfvn2Fmpoacdvy5csFExMTQafTCYIgCCdOnBAACBcuXBBjGttsaGgQtyUnJwsSiUQoKCh4bF6PtrV582ahX79+gl6vF44fPy5IpVLh3r17Qnh4uODk5CQeExcXJ0gkEuHq1avitoqKCkEmkwmRkZHiY3Nzc+Hzzz836G/cuHECAPF5Z2VlCQCEY8eOGcTNmDFDGD58eCuvKBERdSccASeidnNxccGVK1fw3XffITw8HHK5HPHx8XB1dUVeXp5B7Pjx42FmZiY+Hjx4MOrr6w1WS2mJr68vjIyMxMfTp0+HIAg4f/58m3J86623UFZWhl9++QUpKSnw8fGBtbV1s7iff/4ZLi4uBl8CVSgUmDJlCk6fPg0AyM/Ph1arRUBAQLM+HpWZmQmFQoGJEyeioaFB/JkyZQpyc3Oh0+nalDsREf23sQAnog4xNTWFj48P1q5di9zcXBw9ehTV1dVYuXKlQZyNjU2z4wCgpqam1fabztW2traGVCrF7du325SfQqGAl5cXtm/fjrS0NMycObPFOLVaDXt7+2bb7e3tUVlZCQBin01zanpceXk5KisrYWJiYvAzd+5cNDQ0tDl3IiL6bzN+2gkQ0X+Dl5cXhg4dioKCgk5pr+kI+f3791FTU/PYL3+2JCgoCCEhIbC0tMTUqVNbjFEoFCgsLGy2/c6dO1AoFAAg9qlUKtGnTx+DmKZt2dnZ4fvvv2+xr5a+AEpERN0PR8CJqN2aFp4AoNVqcfPmTTz33HOd0seRI0cMpmwcOHAAEokEw4cPb3Mbfn5+8PPzQ3R0NKRSaYsxY8aMQX5+vkERrlarcfz4cYwZMwYAMGTIEJibmyM9Pd3g2LS0NIPHkydPhkqlgqmpKTw8PJr9NI7+ExFR98YRcCJqtyFDhsDX1xdeXl5wcHBASUkJEhISUF5ejvDw8E7po7a2Fv7+/vjoo49QXFyMJUuWYPr06e36gz0ymQwHDx5sNSY0NBRr1qzB1KlT8eWXX0IqleKrr76CsbExIiIiADwc2Z43bx5iYmJgbm4Od3d3pKSk4Pr16wZtTZkyBb6+vvD29sbixYvh6uqKqqoqXLlyBUVFRUhKSmr/C0FERP85LMCJqN1WrFiBI0eOIDIyEiqVCra2tnB1dcVPP/2ECRMmdEofYWFhUKlUCA4ORl1dHQICApCQkNApbT/KysoK2dnZiIyMxPvvvw+dTofRo0fj1KlT6NevnxgXExODhoYGxMbGQq/XIyAgADExMQgJCTFo78CBA4iJiUFiYiJu3LgBuVwOFxcXhIaGdnruRET07yQRBEF42kkQET1KIpFg1apVWLhw4dNOhYiIqNNxDjgRERERURdiAU5ERERE1IU4B5yInjmcGUdERP9lHAEnIiIiIupCLMCJiIiIiLoQC3AiIiIioi7EApyIiIiIqAuxACciIiIi6kIswImIiIiIuhALcCIiIiKiLsQCnIiIiIioC/0PtuigElhwMuUAAAAASUVORK5CYII=\n",
            "text/plain": [
              "<Figure size 640x480 with 1 Axes>"
            ]
          },
          "metadata": {
            "tags": []
          }
        },
        {
          "output_type": "execute_result",
          "data": {
            "text/plain": [
              "<ggplot: (8732845029405)>"
            ]
          },
          "metadata": {
            "tags": []
          },
          "execution_count": 39
        }
      ]
    },
    {
      "cell_type": "markdown",
      "metadata": {
        "id": "An-DdhBSAK-4"
      },
      "source": [
        "Office supplies occupies the highest no of sales through any ship mode. Standard class category has maximum demand given it increases the no of sales. However, if it contributes to profit or not is yet to be found."
      ]
    },
    {
      "cell_type": "markdown",
      "metadata": {
        "id": "JbsUlfd9FwcS"
      },
      "source": [
        "## We visualize sales as per Regions"
      ]
    },
    {
      "cell_type": "code",
      "metadata": {
        "id": "LX-otqUhCT1q",
        "outputId": "0d3e14f8-00f1-4b99-e82f-8bb317e973dd",
        "colab": {
          "base_uri": "https://localhost:8080/",
          "height": 1000
        }
      },
      "source": [
        "#Sale as per Region\r\n",
        "ggplot(data_1, aes(x='Category',color = 'Sales')) + geom_bar() + theme(axis_text_x = element_text(size=10)) + facet_wrap(['Region']) + flip_xlabels\r\n",
        "+ ggtitle(\"Sales From Every Region Of United States of Entire data\")"
      ],
      "execution_count": 55,
      "outputs": [
        {
          "output_type": "stream",
          "text": [
            "/usr/local/lib/python3.6/dist-packages/plotnine/utils.py:1246: FutureWarning: is_categorical is deprecated and will be removed in a future version.  Use is_categorical_dtype instead\n",
            "  if pdtypes.is_categorical(arr):\n"
          ],
          "name": "stderr"
        },
        {
          "output_type": "display_data",
          "data": {
            "image/png": "iVBORw0KGgoAAAANSUhEUgAAA5cAAAQJCAYAAABSXvxYAAAABHNCSVQICAgIfAhkiAAAAAlwSFlzAAAPYQAAD2EBqD+naQAAADh0RVh0U29mdHdhcmUAbWF0cGxvdGxpYiB2ZXJzaW9uMy4yLjIsIGh0dHA6Ly9tYXRwbG90bGliLm9yZy+WH4yJAAAgAElEQVR4nOzdd3QU9f7/8dduOptCgNBNAkEEBAHpLVRB0EtocqmCNMUvRERRERAUlSL3iqEIckG4gJQLiAWkd4RrudKV3kRaIARIIjHJ/P7wl5Ulm8YENgnPxzkcYGZ29j37+czsvqZaDMMwBAAAAACACVZXFwAAAAAAyPsIlwAAAAAA0wiXAAAAAADTCJcAAAAAANMIlwAAAAAA0wiXAAAAAADTCJcAAAAAANMIlwAAAAAA0wiXAAAAAADTCJcActTcuXNlsVi0ZcsWV5cCZNuYMWNksVh06tQpV5dy16Kjo/Xss8+qZMmSslgsatKkiatLUmhoqEvq6N27tywWy31/3wfBnj171Lx5cwUGBspisWjMmDGuLskpV/W99DRp0kShoaGuLgO4ZwiXwAPq0qVLeuONN1SlShX5+/vLz89PZcuWVfv27TV79mxXl3fXUn9MpvcnL9myZUuGy2KxWPTLL7+4ukzTnC1ngQIFVKVKFb3zzjtKSEhwdYku88svv6h///4KCwuTt7e3AgICVLt2bU2cOFFxcXFOX/PKK69oyZIleuGFFzR//nyNGDEi3fmfOnUq0wDapEmTexK4586dq8mTJ+foPM1atWqVWrVqpeDgYHl5eal48eKqVauWXnrpJZ04ccI+3bVr1zRmzJgc2Ym2cuXKXBvM0pOUlKSOHTvq6NGjGjt2rObPn68OHTqkO/293JblZFvkBVu2bNGYMWN07do1V5cCOOXu6gIA3H9nzpxR7dq1FR0drU6dOql///7y9PTUiRMntGPHDk2ePFl9+/Z1dZmmREVFKTAw0NVl5IhOnTopIiLC6biSJUve52runduX8/Lly1q6dKlGjx6tb7/9VmvWrLkvNYwcOVJvvPGGvLy87sv7ZeTTTz/V888/rwIFCqhXr16qXLmyEhIStGHDBr3++uuaPXu2vvnmG5UtW9bhdevXr1erVq301ltvuajytA4fPpxm587cuXN16tQpDRkyxEVVORo+fLjGjx+vsmXL6rnnntNDDz2ky5cv6+eff9Znn32mRo0a2T/ra9eu6e2335Yk00fFVq5cqXnz5uWpgHnixAmdOHFC//jHPzRo0KAsv+5ebMsyawtnfS8v27Jli95++2317t1bBQsWdHU5QBqES+AB9MEHH+jixYuaPHmyXnrppTTjL1y44IKqclb79u1VunTpLE+fmJiolJQUeXt738Oq7k7VqlXVo0cPV5fhICEhQR4eHnJ3z7mvkTuXMzIyUrVr19batWv1448/qkaNGjn2Xulxd3fP0WW6W1u2bFG/fv308MMPa+PGjSpVqpR9XGRkpJYvX66///3vatu2rX744QeHfnvhwgUVKlTIFWWnKzeE9YxcunRJH3zwgYKDg/XTTz/J39/fYXxiYqJu3rzpoupyn9TviOz2M1dsy7La965fv56m3QFkH6fFAg+go0ePSpKaN2/udHzx4sUd/v/dd9+pT58+euSRR2Sz2WSz2VSrVi19+umnWX7PxMRETZw4UY899ph8fHzk7++vFi1aaNu2bWmmXbhwoerVq6dChQrJx8dHwcHB6tChgw4dOpSNpUxf6qmzV65c0YABA1SiRAn5+Pho9+7dkv7cEz506FCVKVNGXl5eKlasmLp27Wr/3FKlnlI4ZswYrVixQo8//ri93kmTJkmSYmNj9fzzz6t48eLy8fFRs2bNdOTIkRxZjts1bNhQAQEBTk8hPXv2rNzc3NSzZ0+H4Zs3b1br1q0VGBgoLy8vVaxYURMmTFBycrLDdKnXCJ0+fVpdunRRkSJFVKBAAR0/flxFihRR7dq1nda0YsUKWSwWTZ069a6Wyc3NTU2bNpWkNJ/9jRs3NGLECD3yyCPy8vJSoUKF1K5dO+3bty/NfK5fv65BgwbZ26BGjRr6/PPPnV5fmd41l+fOnVO/fv1UqlQpeXp6qnTp0howYIDOnz/vMF3q6X9z587V/Pnz9dhjj8nb21ulSpXSm2++meazTc9rr72mlJQULVq0yCFYpurYsaMGDx6sgwcPas6cOZL+6teGYWjevHn20w3nzp2bpffMjtT3un79ugYPHqwSJUrIy8tLjz/+uNauXZtm+juve7NYLNq6datOnz7tcGrk7ac2Xrx4UYMHD1ZoaKg8PT1VrFgx9ejRw+npuRcvXlSvXr1UuHBh2Ww2NWjQQJs3b87y8pw4cULJycmqVauW04Dh6elpD1Jz585VmTJlJElvv/22vfbbr6NbsmSJ2rVrp5CQEHl7e6tQoUJ68skntWPHjjSfy7x58+yfibM2y2pfNwxDU6ZMUfXq1RUQECBfX1+FhYWpW7duafppetasWaOmTZvK399fPj4+qlatmqZNmybDMBxqbty4sSTpueees9eck6dNp/aXI0eOKCIiwr48bdq00bFjx+zTZaUtnF1zmTps3759euqppxQYGKiAgAD7+Oz0vfQcO3ZM7du3V0BAgPz8/NSyZUvt3bvX6bTr1q1T165dFRYWZv9+DA8P11dffeUwXZMmTexHacuUKWNf3tSj3jdu3NCoUaNUt25dBQUFydPTU6GhoRo0aJCuXr2a5doBM1y/exbAfRcWFibpz9PuJkyYkOmRms8//1wHDhxQp06dFBISotjYWC1dulR9+vTR5cuX9dprr2X4+qSkJLVp00Zbt25V165d9cILLyg+Pl4LFixQs2bNtHLlSj399NOS/gyWPXr0UIMGDTR69Gj5+vrq3Llz2rRpkw4fPqxKlSplaRljYmLSHIX09fV1GNaiRQsVLlxYb7zxhlJSUlS8eHHduHFDDRo00KFDh9S1a1c1bNhQx48f1/Tp07VmzRrt3LkzTQ2rVq3StGnTNHDgQPXr10+LFy/WsGHD5O3trU8//VSlSpXSqFGjdP78ef3jH/9Qu3btdODAAVmtWdu/Fx8fr+jo6DTD3dzc7Kf+9u7dW/3799eKFSvUvXt3h+nmzZunlJQU9e7d2z5szpw56tevn6pXr6433nhDBQsW1M6dOzV8+HD99NNPWrx4scM8bt68qUaNGqlWrVp6++23dePGDRUuXFi9evXSP//5T+3bt0+PPfaYw2tmzZolHx8fU0cqjh8/LkkqXLiwfdj169fVsGFDHTt2TL169VLVqlUVExOjWbNmqV69etq+fbsef/xxSX/2vVatWmn37t3q1KmTmjRpol9//VW9e/dW+fLls1TDuXPnVKtWLV26dEn9+vVT1apVtXfvXs2aNUtr1qzR999/r2LFijm8ZubMmfZAGhQUpBUrVmjcuHHy9/fXG2+8keH7nT59Wt9//73q1q2r6tWrpzvdwIEDNXnyZC1btkwvvviinn/+ebVo0UI9e/ZUo0aNNGDAAElS/fr1s7Scd6NVq1YqWLCghg8frvj4eE2ePFlt27bV0aNHFRwcnO7r5s+fr/fee0/R0dH68MMP7cMrVqwo6c8dIvXr19fNmzfVt29flS9fXufOndPHH3+sdevW6YcffrDP//r162rUqJG9P9SuXVsHDx7U008/bd/WZSb1dNdt27bp8OHDeuSRR9KdNjw8XB9++KFefvlltW/f3n6toa+vr32aqVOnKjAwUP369VOJEiV09uxZzZ49W02bNtXWrVvtbTJ58mT985//1Pbt2zV//nz761PHZ6evv//++xo5cqTatGmjfv36ydPTU2fOnNGaNWv022+/qUSJEhl+BrNnz1b//v0VHBysYcOGydfXV8uWLdOgQYO0d+9effLJJ/aav//+e73//vsaMGCAGjVqJEkKCgrK9HPOyrYs1blz5xQeHq62bdtqwoQJOnr0qKZMmaKIiAjt379fVqs1S22RnrNnz6px48Zq3769xo0bZz8am52+l9G869evr2vXrumFF15QxYoVtXv3bjVp0sRhW5Zq7ty5unjxonr06KHSpUvr8uXLmjdvntq2bavFixfr73//uyRpxIgRKlSokD7//HN9+OGHKlKkiCTZt73nzp3TJ598og4dOujvf/+7vL299d1332nmzJnasWOHvv/+e3l4eGT62QCmGAAeOMePHzcCAgIMSUbRokWNjh07GhMmTDB27NhhJCcnp5n+5s2baYYlJycbjRo1MgICAozExET78E8//dSQZGzevNk+bPLkyYYkY8WKFQ7zSExMNKpXr26UKVPGPqx9+/aGn5+fwzyzo1evXoYkp3+mTJniME2XLl2MlJQUh9ePGjXKkGS89957DsO3bNliSDKaN29uH3by5ElDkuHj42McP37cPvz33383ihUrZlgsFmPgwIEO8/nwww8NScbatWszXZbNmzenuyySjJCQEPu0sbGxRoECBYwWLVqkmU+5cuWMkJAQ+7KeP3/e8Pb2Ntq1a5dm+SdNmmRIMrZs2WIf1rhxY0OS8frrr6eZ9+HDhw2LxWIMGjTIYfjp06cNq9Vq9OrVK8vLOXz4cOPy5cvG5cuXjUOHDtnbIiQkxLh165Z9+iFDhhgeHh7G7t27HeYTExNjlC5d2mjSpIl92CeffGJIMoYNG+Yw7Q8//GBYLBZDknHy5En78NGjR6cZ1rNnT0OSsXDhQod5zJs3z5Bk9O3bN82yFC9e3Lh69ap9eHJyslGxYkWjRIkSmX4eX331lSHJGDx4cKbT+vr6GoULF3YYJilLn7th/NWHGzdunO40qe1/+2eSug4NGDDAYdpdu3bZ2/J2ISEhad6jcePGDn34du3atTMCAwMd1qvUen19fY3evXvbh6X2kw8//NBh2kWLFtnXlawYNGiQIclwc3MzatWqZURGRhoLFy40zp8/n2ba1M9t9OjRTuflbJt5/vx5o3DhwkabNm0chqd+ls5kp69Xr17dqFixYmaL6dS1a9cMX19fo0SJEsbly5ftw//44w/jiSeeMCQZ27dvtw9P7eeffvppluafnW2ZYfzZXyQZn332mcPwcePGpdl+ZtYWzvpe6vw//vjjNNNnp++lJ3Wb8fnnnzut/87lddZf4uLijIcfftioVKmSw3Bn26hUt27dcvrdOWvWLEOSsXTp0kxrB8zitFjgAVS2bFnt3btXkZGRstlsWr58uV5//XU1bNhQ5cqV07p16xymt9ls9n8nJCToypUrunr1qp588knFxsbq8OHDGb7f/PnzFRoaqkaNGik6Otr+JzY2Vm3bttXJkyftp4oWLFhQ8fHx+uqrr5SSknLXy7ho0SKtX7/e4U+7du0cpnn99dfT3Ohh+fLl8vf319ChQx2GN27cWE2bNtWmTZsUExPjMK59+/YON1Xx8vJSnTp1ZBiGXn755TTzkZStU2N79+6dZlnWr1+vhQsX2qfx9/dXhw4dtGnTJp09e9Y+fMeOHTp27JieffZZ+7IuW7ZMv//+u/r166crV644tEnqEWRnpza+/vrraYaVL19eTZs21YIFCxxOyZ09e7ZSUlLsR8+yYty4cQoKClJQUJAqVaqksWPHqmXLltqwYYM8PT0l/Xnq34IFC1SvXj2FhYU51J6UlKSWLVtq+/bt9lo+//xzp7XXqFFDTzzxRKY1paSkaOXKlXrkkUfUrVs3h3E9e/ZUWFiYVqxY4XDaoCT16dPH4UiM1WpV8+bNdf78+Uyv3YuNjZUkh9P00hMQEGCf3hVeffVVh//XrVtXvr6+pk79jo2N1Zdffqk2bdrI39/foY19fX1Vt25dh/65fPlyFSxYUC+++KLDfLp06aKHH344y+8bFRWlBQsWqEmTJjpw4ICioqLUvXt3lS5dWn379lV8fHyW53X7NvPGjRu6cuWK3N3dVadOHf33v//N0jyy29cLFiyoc+fOaevWrVmuM9W6det08+ZNDR482H40TPrzGuSRI0dK+vNzNisr27JUJUuWVNeuXR2Gpa6zOXFpQaFChdS/f3+HYdnte86kbjMqVaqU5jtnyJAhTo+q3t5f4uLidOXKFcXHx6tZs2Y6dOiQbty4kaVl8vT0tB+ZTEpK0rVr1xQdHa1mzZpJUpb7HmAGp8UCD6iQkBB99NFH+uijj3Tp0iXt2rVLS5cu1aJFi9S+fXvt3btX5cqVk/Tnc/PeeustrVy50um1O5ldy/Hzzz8rPj4+w9OmLl68qPLly2vEiBHasWOHOnbsqMDAQDVo0EDNmjVTt27d0px6mJGGDRtmekMfZ6dFnjhxQo8++qjTG/tUqVJFmzdv1smTJx2Cw51365RkH3/nuNThV65cyXwh/r+wsDC1aNEi0+mee+45LViwQP/+97/tj59Ife5or1697NP9/PPPkmQPks5cvHjR4f9BQUHp3n33hRdeUOfOnbVs2TL17NlTycnJmjNnjipXrpytUzJ79+6t7t27KykpSYcPH9aECRP066+/ysfHxz5N6g+9bdu2ZdifoqOj9dBDD+nEiRMqUqSI01PRKlasmGZHyp0uX76sGzduqHLlymnGWSwWPfroo/ryyy8VExPjcHMTZ30itYYrV65keNpe6jV/WQmNsbGxWQqhOcHZHTfTW87s9O87HTlyRCkpKVq4cKHT0CHJ4ZTy48ePq0qVKvYdELerVKlSmut102OxWNS9e3d7Hzxw4IA2bdqkjz76SHPmzJG7u7tmzpyZpXnt27dPb731ljZt2pQmGGT1zqXZ7evjxo1T+/bt1aRJExUrVkyNGjVS8+bN1bVr10z7SOpjVqpUqZJmXOqw1FPUzcjqtkzKfB3KiVrc3NwchmW37zlz6dIl3bhxw+klHN7e3goLC0vzGJFTp05p1KhRWr16tdPv05iYGPn5+WW2SJL+vBxh+vTpOnDggJKSkhzGcd0l7gfCJQAVLVpUERERioiIUHBwsMaPH6/Fixdr5MiRMgxDrVq10v79+zV48GDVqlVLgYGBcnNz0+rVq/Xhhx9meoQxJSVFjzzySIY3dkn98R4WFqaDBw9qy5Yt2rhxo7Zv365XX33V/sUbHh6eY8tdoECBHJnPnT9QsjLuziNdOaFp06YKCQmxh8uEhAT95z//UaNGjRyuPUttr3/9618KCQlxOq87HwuQ0WfVrl07FS9eXLNmzVLPnj21Zs0a/frrr5lei3un2394Pvnkk2rZsqWqV6+uLl26aNu2bbJYLPbaw8PDNWrUqHTnlZXrv+6ljPpEZm2f+mP+hx9+yHC6I0eO6ObNm6pVq1b2C/z/UoN7RkflUp+neXvIT3Uv+ndqG3fu3DnNkaX7xd3dXdWqVVO1atXUo0cPPfzww5o3b56mT5+eYdtK0q+//qqGDRvK19dXw4cPV4UKFWSz2WS1WjVu3Dht2rQpSzVkt6/XqVNHx44d04YNG7R582Zt3bpVy5Yt01tvvaVt27apQoUKWVz63MHMOpQVzrZpruh7N2/eVHh4uGJjY/XSSy/psccek7+/v6xWq+bMmaNFixZl+Syejz76SEOGDFGLFi00ffp0lSxZUl5eXkpKSlLr1q1NnQ0EZBXhEoCD1CNN586dkyTt379f//vf/zRq1Ci98847DtOuX78+S/MsX768zp49qyZNmmTpMQ8eHh564okn7KdA7du3TzVr1tRbb711zx+UHRYWpmPHjunWrVtpbmF/4MABWSwW+90JcxuLxaJnn31WY8eO1bfffquTJ0/q+vXrDjfykf46YhsYGJjlowgZ8fDwUJ8+ffT+++/rl19+sd/I586702ZXxYoV9dJLL2nixIlatGiRunXrpqCgIBUsWFAxMTFZqr1s2bI6fPiwrly5kuboZeoR3IwEBQXJz89PBw8eTDPOMAwdPHhQgYGBOfpM1dDQUNWoUUO7du3S3r17VbVqVafTpR5F69Sp012/V5EiReTn56ejR48qOTk5zQ/6pKQkHT16VP7+/g6nS+aE9I7glStXTlarVQkJCVlq49R1NjExMc3Ry5y4w3TRokVVrlw5/e9//1N0dLSKFSuW4dHHFStW6MaNG1q5cqX9dMRUqWcU3C69eWW3r0t/Bqa2bduqbdu2kv68+2vr1q01fvz4DO8anLrzKfVGSLc7cOCAwzS5TU4+wzK7fc+ZokWLys/Pz2nf+/3333X8+HGHbVHqpQyzZ89Wnz59HKafNWtWmnlktLzz5s1TaGio1q5d63CENSvbOiCncM0l8ADasmVLukcqUq9RSz2lJ/XH5p17in/77Tf961//ytL7Pfvss4qJidF7773ndPztp2Bevnw5zfiKFSvKZrPlyKlQmenQoYNiY2M1ZcoUh+Hbt2/Xpk2b1KxZsxwNEjkt9RERc+fO1dy5c2Wz2fTMM884TNO5c2d5e3trzJgxTq//S0hIyPI1Pqn69+8vq9WqsWPHatWqVXrmmWdy5AHfr732mnx9fTVmzBglJSXJarWqR48e2r9/v/0RDne6vT+lXvM0YcIEh2l+/PHHLO0csVqtateunX755RctW7bMYdzChQt1/PhxdejQIccf0j5hwgRZrVZ17drV6anoK1euVFRUlCpVqpTmB2l2uLm5KSIiQteuXdPs2bPTjJ89e7ZiY2MVERGR5bsbZ5Wvr69iYmLSbFsKFy6sNm3aaNWqVek+TuT2Nu7QoYOuXbum6dOnO0yzePHiLJ8Se/HiRf34449Oxx05ckQHDx60Xw+cWrvk/DTD9LaZ33zzjb777rs006c3r+z2dWfbztRnw2a27XziiSfk6+urqVOnOlxTnpycbN9ud+zYMcN5uEpGbZFd2e17zlitVkVEROjQoUNauXKlw7jJkyen2eam11/27duX5vVS1vre7UcoDcNIs2MYuJc4cgk8gCZPnqzNmzfr6aefVo0aNRQYGKjo6GitWrVKW7duVeXKle0/WCtUqKDKlStr4sSJunnzph599FGdPHlSM2fOVFhYWJa+0F966SVt3LhRY8aM0bZt29SyZUsVKlRIZ8+e1bfffqsTJ07Yr/lp1aqV/Pz8FB4eruDgYMXHx2vx4sW6du2a/cYS99KwYcO0fPlyDRs2THv37lX9+vXtjyIJCAhQVFTUPa/hTnv37tWCBQucjmvSpInDtaVly5ZVo0aNtGjRIsXHx6tnz55pru8rVaqUZs6caX92aa9evVS2bFldvXpVv/zyi1asWKGVK1emeTZcRkJDQ9WqVSt99tlnkpStG/lkpHDhwho0aJDGjx+vf//73+rTp4/ee+89ffvtt+rdu7dWrlypRo0ayWaz6cyZM9q4caN8fHzsPwyfe+45zZ49Wx988IFOnTqlJk2a6OzZs5o+fbpq1qyp77//PtNg+P7772vDhg3q2rWrNm/erCpVqtgfRfLQQw+lu9PEjObNm2vGjBl68cUXValSJfXq1UuVK1dWQkKCNmzYoC+//FIPP/ywvvrqK6fXB2fH+PHjtWXLFj3//PPatGmT6tWrJ0natWuXlixZotKlS2vcuHE5sVgO6tatq6+//lqDBg1S/fr15ebmpmbNmqlo0aKaMWOGGjZsqCeeeELdunVTrVq1ZLVadfr0aa1evVo1a9a0H4l79dVXtWjRIg0dOlT79u1TrVq1dOjQIc2ZM0dVqlTR/v37M63l/Pnzqlmzpv1GT2XLllVycrJ+/vlnzZ8/3/6c3tSAXbhwYZUrV06LFy9WWFiYihUrJpvNpr/97W9q3bq1bDabevbsqf/7v/9TkSJF9L///U8LFy50Wk/dunU1depUvfjii3rqqafk4eGhOnXqqEyZMtnq6xUrVlSdOnVUu3ZtlS5dWlevXrWH0tuvuXYmICBAkydPVv/+/VWzZk316dNHNptNy5Yt086dO9W/f381bNgwu02cRna2ZVmVUVvcjez0vfS8++67WrNmjTp37qyBAweqQoUK2r17t7788kuFhYU5XAvZoEEDlShRQq+88opOnDih0NBQ/fzzz5o1a5aqVKmSZqdH3bp1Jf15k7Lu3bvL29tblStXVuXKlfXMM8/o9ddfV6tWrdSpUyfFx8fr888/V2Ji4l19FsBdccEdagG42O7du41hw4YZtWvXNooVK2a4u7sbfn5+Ro0aNYx33nnHuH79usP0p0+fNrp06WIULVrU8Pb2NqpWrWrMnj3b6WNHnA0zDMNISkoypk+fbtSpU8fw9fU1vL29jdDQUKNDhw7GkiVL7NPNmjXLaNWqlVGiRAnD09PTCAoKMsLDwx2myUjqbf3Pnj2b6TTpuXr1qjFkyBAjJCTE8PDwMIoUKWJ06dLFOHz4sMN0Gd0CP733yOy2+bfL7Pb9cnKre8P4qw2ctcPtdu/ebXTq1MkoVqyY4eHhYRQrVsyoV6+eMXbsWOPKlSv26TJ6ZMTtvvjiC0OS8eijj2Y6rbPlHDt2rNPxly9fNnx9fY3Q0FD7I0ni4+ON999/36hatarh4+Nj2Gw2o1y5ckb37t3TPOYlJibGGDhwoFG0aFHDy8vLePzxx40VK1YYQ4cONSQZFy9etE+b3m3+z549a/Tt29coUaKE4e7ubpQsWdLo37+/8dtvvzldFmePaMjoEQLpOXjwoNG3b1+jTJkyhpeXl+Hn52fUrFnTGD9+vNPHFxhG9h5FkurixYvGyy+/bJQvX97w8vIyvLy8jPLlyxtDhw51+HxSZbQOpffohzuHxcXFGX369DGKFi1qWK3WNP316tWrxhtvvGFUqFDBvuwVKlQw+vfvn+bRHL/99pvRo0cPIzAw0PDx8THq169vbNq0KdN1PdXNmzeNGTNmGB07djTKlStn2Gw2w8PDwyhdurTRqVMnh0fzpPrvf/9r1K9f3yhQoECax0vs2LHDCA8PN/z9/Q0/Pz+jWbNmxo4dO5zWk5ycbLzyyitGqVKl7J/D7f0nq3193LhxRuPGjY2iRYsaHh4eRvHixY0nn3zSWLduXabLn2r16tVG48aNDV9fX8PLy8t47LHHjClTpqR5ZFFOP4rkzm2Zs/5iGOlvPzNqi6z2x9tlp++l5/Dhw0ZERITh5+dn+Pr6Gk888YTx008/Od2e7t+/32jTpo0RGBhoFChQwKhbt67xxRdfpFcARfYAACAASURBVLvNmDBhglGmTBnD3d3d4fNITk42JkyYYDz88MOGl5eXUbJkSWPgwIHG1atX72q7ANwNi2Hcg7tKAAAeOKnXd3300UeKjIx0dTmZeuqpp7R161Zdv349x0/5BADgQcS3KQAgR0RFRalAgQKmb+ST05xdX/zDDz9ozZo1atGiBcESAIAcwjWXAIC7dunSJW3cuFHfffedvvnmG7366qu57oZHAwcOVExMjBo2bKiAgAAdOHBA//rXv+Tj46OxY8e6ujwAAPINTosFANy1LVu2qGnTpvL391f79u318ccfO30eoistXLhQ06ZN0+HDh3X9+nUVKlRI4eHhGj16tP35qgAAwDzCJQAAAADANC40AQAAAACYRrgEAAAAAJhGuAQAAAAAmEa4BAAAAACYRrgEAAAAAJhGuAQAAAAAmEa4BAAAAACY5u7qApB7HTlyxNUlAABcoHz58umO47sBAB5MGX03pOLIJQAAAADANMIlAAAAAMA0wiUAAAAAwDTCJQDcY+PHj9cnn3zi6jIAAADuKW7oAyBf2LJli5YuXaqTJ0/K29tbISEh6ty5s+rXr3/X87xw4YK6du2qtWvXytPTMwerBQDkBkOGDNGhQ4fk5uZmH/bQQw/d9Q5BvjfwoCNcAsjzli1bpvnz52vIkCGqU6eOvLy8tGfPHm3cuNFUuMyK5ORkhx8lAIC8ZdCgQWrbtq2rywDyBcIlgDwtLi5Os2fP1rBhw9S0aVP78Bo1aqhGjRqSpPXr1+uzzz7T5cuXVbZsWb388ssqU6aMJKlLly7q0KGDNmzYoHPnzqlKlSoaMWKE/Pz8NGjQIElSRESEJOntt9+Wp6en3nnnHXXr1k1LlixRmTJlNHHiRI0dO1Z79uzRrVu3VLZsWQ0ZMkRly5a9z58GACCnZLRd/+677zRjxgxduHBB3t7eatmypV544QWn3xu1a9d22TIA9xvXXALI0w4ePKjExESFh4c7Hf/tt99q9uzZGjVqlL744gu1aNFCI0aM0B9//GGfZv369Ro7dqyWLVummzdv6j//+Y8kaerUqZKkL774Qt988439B0JsbKzOnz+vhQsXauzYsZKkmjVr6t///rdWrFihChUq2IcDAPKmjLbrEyZMUJcuXbR69WotXLjQ/h2U3vcG8KAgXALI02JjYxUQECB3d+cnYnz55Zfq2rWrypYtKzc3N7Vt21YWi0WHDh2yT9OxY0cVK1ZMPj4+Cg8P19GjRzN93/79+8vT01NeXl6SpNatW8tms8nT01PPPvusTp06pdjY2JxZSADAPTN9+nQ9/fTT9j/jxo2TlPF23cPDQ+fOnVNsbKx8fHxUqVIlVy4CkGtwWiyAPC0gIECxsbFKSkpyGjAvXLigGTNmaNasWfZhSUlJio6Otv+/UKFC9n97e3srISEh0/f09va2/z85OVmzZ8/W1q1bde3aNVksFkl/BV8AQO714osvprnmMrPt+jvvvKMFCxaoR48eKlWqlHr16qV69eq5onwgVyFcAsjTHn30UXl6emr79u0O11ymKlq0qLp06aInn3zyntWwceNGbd++XR988IFKlCihuLg4/e1vf7tn7wcAuLcy266XL19e77zzjpKTk7V582aNHj1aX3zxhQsrBnIHTosFkKfZbDb17dtXUVFR2rp1qxISEpScnKw9e/Zo0qRJatu2rT777DMdO3ZMhmEoISFB3377reLj4zOdd8GCBWW1WnXu3LkMp4uPj5eHh4f8/f1169YtzZkzJ6cWDwDgAhlt1//44w+tW7dON27ckJubm3x9fWWxWOTm5pbl7w0gv+LIJYA8r1OnTipcuLCWLFmi8ePHy9vbW6GhoercubPq1aunW7duafz48bpw4YK8vLxUpUoVVatWLdP5ent7q0ePHho6dKj++OMPvfXWW06fW9aqVSt9//33euaZZxQQEKDnnnvuXiwmAOAemDp1qj7++GP7/318fLRw4cIMt+sbN27U1KlTlZSUpOLFi2v06NH274c7vze4qQ8eJBbDMAxXF4Hc6ciRI64uAQDgAuXLl093HN8NAPBgyui7IRWnxQIAAAAATCNcAgAAAABMI1wCAAAAAEwjXAIAAAAATCNcAgAAAABM41EkSFehQoVcXUKuZbFY5OPjo4SEBHHD5fyH9s3faF9z+G5In5ubmwIDAxUTE6Pk5GRXl4McRvvmb7RvzuDIJXAXrFarChQoIKuVVSg/on3zN9oXAIB7g29WAAAAAIBphEsAAAAAgGmESwAAAACAaYRLAAAAAIBphEsAAAAAgGmESwAAAACAaYRLAAAAAIBphEsAAAAAgGmESwAAAACAaYRLAAAAAIBphEsAAAAAgGmESwAAAACAaYRLAAAAAIBphEsAAAAAgGmESwAAAACAaYRLAAAAAIBphEsAAAAAgGmESwAAAACAaYRLAAAAAIBphEsAAAAAgGmESwAAAACAaYRLAAAAAIBphEsAAAAAgGmESwAAAACAaYRLAAAAAIBphEsAAAAAgGmESwAAAACAaYRLAAAAAIBphEsAAAAAgGmESwAAAACAaYRLAAAAAIBphEsAAAAAgGmESwAAAACAaYRLAAAAAIBphEsAAAAAgGmESwAAAACAaYRLAAAAAIBphEsAAAAAgGmESwAAAACAaYRLAAAAAIBphEsAAAAAgGnuri4AuZenp6e8vLxcXUauZLFYJEk2m02GYbi4GuQ02jd/o33NsdlsslrZN+0MfSt/o33zN9o3ZxAuka7ExEQlJia6uoxcyc3NTZ6enoqLi1NycrKry0EOo33zN9o3cxntWIyLi7uPleQt9K38jfbN32jfzGXloBO7HgEAAAAAphEuAQAAAACmES4BAAAAAKYRLgEAAAAApnFDHwAAAOSoyMhIV5eAbIiKinJ1CcgnOHIJAAAAADCNcAkAAAAAMI1wCQAAAAAwjXAJAAAAADCNcAkAAAAAMI1wCQAAAAAwjXAJAAAAADCNcAkAAAAAMI1wCQAAAAAwjXAJAAAAADCNcAkAAAAAMI1wCQAAAAAwjXAJAAAAADCNcAkAAAAAMI1wCQAAAAAwjXAJAAAAADCNcAkAAAAAMI1wCQAAAAAwjXAJAAAAADCNcAkAAAAAMI1wCQAAAAAwjXAJAAAAADCNcAkAAAAAMI1wCQAAAAAwjXAJAAAAADCNcAkAAAAAMI1wCQAAAAAwjXAJAAAAADCNcAkAAAAAMI1wCQAAAAAwjXAJAAAAADCNcAkAAAAAMM3d1QV8/fXX2rRpk06dOqV69epp2LBh9nH9+vXTtWvXZLX+mYGDgoI0bdo0+/gDBw5oxowZunDhgoKDgzV48GCVKVPGYd7Lli1TfHy8qlevrsGDB8vX1/f+LRwAAAAAPCBcfuSyUKFC6ty5s1q2bOl0/PDhw7V06VItXbrUIVhev35d7733njp06KBFixYpPDxc7777rv744w9J0k8//aRFixZp1KhRmjt3rqxWq6ZPn35flgkAAAAAHjQuD5f169dX3bp15e/vn63X7dq1SyVKlFCzZs3k4eGhiIgIGYahPXv2SJI2bdqk5s2bKywsTAUKFFDPnj21a9cuxcXF3YvFAAAAAIAHmsvDZWYmT56sHj166M0339ShQ4fsw8+cOeNwCqzFYlFoaKjOnDkjSTp9+rTD+JIlS8rd3V2//vrr/SseAAAAAB4QLr/mMiNDhw5VWFiYJGnjxo16++23NWXKFBUtWlQJCQlprp+02WxKSEiQJP3+++8Zjr9TdHS0oqOj78FS5F1Wq1VBQUGuLiNXcnNzc/gb+Qvtm7/RvubwuaWPvoW8ij7L+ptTcnW4rFSpkv3fbdq00fbt2/Xjjz+qdevW8vHxUXx8vMP0cXFx8vHxkSR5e3unOQU2Pj7ePv5Oy5cv16xZs3J4CfK23r17a9CgQa4uI1fL7uncyFto3/yN9r07gYGBri4h16NvIa9hvf4L6685uTpc3slqtcowDElScHCw1q5dax9nGIZOnTql1q1bS5JCQkJ08uRJNWnSRJL022+/6Y8//lDp0qWdzrtjx45q3LjxvV2APMZqtSomJsbVZeRKbm5u8vf31/Xr15WcnOzqcpDDaN/8jfbNXEY/NPleSB99C3kV6zXrb1ZkZSeEy8NlcnKykpOTlZKSopSUFCUmJtpDzaVLl1S+fHlJf96g5+jRo/YjafXq1dPcuXO1efNmNWzYUKtXr5YkVatWTZLUrFkzTZo0SeHh4SpZsqQWLlyoevXqyWazOa2jSJEiKlKkyH1Y4rwjOjqalSsTqf0X+RPtm7/RvneHzyxz9C3kNfTXv7D+muPycLlkyRItXrzY/v+dO3eqWbNm6tChgz755BOdP39e7u7ueuihhzRq1CiVKFFC0p+HrN98803NnDlT06ZNU3BwsEaOHCkPDw9JUvXq1dW1a1eNHTtW8fHxqlatmiIjI12yjAAAAACQ31mM1PNMgTtwg6P0ubm5KTAwUDExMezdyodo3/yN9s1cRmfy8N2QPvrWX9ihn7dERUW5ugSXY/3NXFbO8sz1jyIBAAAAAOR+hEsAAAAAgGmESwAAAACAaYRLAAAAAIBphEsAAAAAgGmESwAAAACAaYRLAAAAAIBphEsAAAAAgGmESwAAAACAae6uLgBA3hYZGenqEpANUVFRri4BAADkUxy5BAAAAACYRrgEAAAAAJhGuAQAAAAAmEa4BAAAAACYRrgEAAAAAJhGuAQAAAAAmEa4BAAAAACYRrgEAAAAAJhGuAQAAAAAmEa4BAAAAACYRrgEAAAAAJhGuAQAAAAAmEa4BAAAAACYRrgEAAAAAJhGuAQAAAAAmEa4BAAAAACYRrgEAAAAAJhGuAQAAAAAmEa4BAAAAACYRrgEAAAAAJhGuAQAAAAAmEa4BAAAAACYRrgEAAAAAJhGuAQAAAAAmEa4BAAAAACYRrgEAAAAAJhGuAQAAAAAmEa4BAAAAACYRrgEAAAAAJhGuAQAAAAAmObu6gKQe3l6esrLy8vVZeRKFotFkmSz2WQYhourAbLOz8/P1SW4HOuvOTabTVYr+6adoW8hr+K7gfU3pxAuka7ExEQlJia6uoxcyc3NTZ6enoqLi1NycrKrywGy7MaNG64uweVYfzOX0Y7FuLi4+1hJ3kLfQl7FdwPrb1Zk5aATux4BAAAAAKYRLgEAAAAAphEuAQAAAACmES4BAAAAAKYRLgEAAAAAphEuAQAAAACmES4BAAAAAKYRLgEAAAAAphEuAQAAAACmES4BAAAAAKYRLgEAAAAAphEuAQAAAACmES4BAAAAAKYRLgEAAAAAphEuAQAAAACmES4BAAAAAKYRLgEAAAAAphEuAQAAAACmES4BAAAAAKYRLgEAAAAAphEuAQAAAACmES4BAAAAAKYRLgEAAAAAphEuAQAAAACmES4BAAAAAKYRLgEAAAAAphEuAQAAAACmES4BAAAAAKYRLgEAAAAAphEuAQAAAACmES4BAAAAAKYRLgEAAAAAphEuAQAAAACmES4BAAAAAKYRLgEAAAAAphEuAQAAAACmES4BAAAAAKa5u7oASfr666+1adMmnTp1SvXq1dOwYcPs406fPq0pU6bo1KlTKlasmAYMGKCqVavax+/cuVPz5s3T1atXVaFCBUVGRqpo0aL28QsWLNCaNWuUlJSkBg0a6IUXXpCHh8d9XT4AAAAAyO9yxZHLQoUKqXPnzmrZsqXD8KSkJI0dO1a1a9fWokWL1KVLF40bN07Xrl2TJJ09e1YfffSRBg4cqIULFyo0NFQTJ060v37dunXaunWrJk2apE8++US//vqrFi5ceF+XDQAAAAAeBLkiXNavX19169aVv7+/w/D9+/fr1q1b6tSpkzw8PNSoUSMFBwdr586dkqQtW7bo8ccfV/Xq1eXl5aVu3brp5MmTOnPmjCRpw4YNioiIUPHixeXv768uXbpo48aN9335AAAAACC/yxXhMj1nzpxRaGiorNa/yixbtqxOnz4t6c9TZsuUKWMfV6BAARUvXtw+/syZMypbtqzDa2NjYxUTE3OflgAAAAAAHgy54prL9CQkJMhmszkMs9lsunTpkiTp999/dzo+ISHB6fjUfyckJCgwMNDhddHR0YqOjs7xZcjLrFargoKCXF1GruTm5ubwN5BX0GdZf83ic0sffQt5FX2W9Ten5Opw6ePjo7i4OIdhcXFx8vHxkSR5e3srPj7eYXx8fLzD+Ntfnzpt6vjbLV++XLNmzcrR+vO63r17a9CgQa4uI1e781RuILe7c8fag4z19+7QhzJH30Jew3r9F9Zfc3J1uAwODtby5cuVkpJiPzX25MmTCg8PlySFhIToxIkT9ukTEhJ04cIFhYSE2F9/8uRJVapUSZJ04sQJBQQEOF2BOnbsqMaNG9/rRcpTrFYrpxCnw83NTf7+/rp+/bqSk5NdXQ6QZazTrL9ZkdEPTfpQ+uhbyKtYr1l/syIrOyFyRbhMTk5WcnKyUlJSlJKSosTERFmtVlWpUkWenp5asWKFIiIi9N///lenT59WgwYNJElNmjTRK6+8oj179qhSpUr67LPPFBoaquDgYElS8+bNtXz5ctWoUUM2m02LFy9W8+bNndZQpEgRFSlS5L4tc14QHR3NypWJ1L4L5BX017+w/t4dPrPM0beQ19Bf/8L6a06uCJdLlizR4sWL7f/fuXOnmjVrpiFDhmjkyJGaOnWqFi9erKJFi2r48OEqWLCgJOmhhx5SZGSkpk2bppiYGD3yyCN67bXX7PNp2bKlLl++rFdeeUXJycmqX7++unfvft+XDwAAAADyu1wRLrt166Zu3bo5HRcaGqpJkyal+9qGDRuqYcOGTsdZLBb16NFDPXr0yJE6AQAAAADO5epHkQAAAAAA8gbCJQAAAADANMIlAAAAAMA0wiUAAAAAwDTCJQAAAADANMIlAAAAAMA0wiUAAAAAwDTCJQAAAADANMIlAAAAAMA0wiUAAAAAwDTCJQAAAADANMIlAAAAAMA0wiUAAAAAwDTCJQAAAADANMIlAAAAAMA0wiUAAAAAwDTCJQAAAADANMIlAAAAAMA0wiUAAAAAwDTCJQAAAADANMIlAAAAAMA0wiUAAAAAwDTCJQAAAADANMIlAAAAAMA0wiUAAAAAwDTCJQAAAADANMIlAAAAAMA0wiUAAAAAwDTCJQAAAADANMIlAAAAAMA0wiUAAAAAwDTCJQAAAADANMIlAAAAAMA0wiUAAAAAwDTCJQAAAADANMIlAAAAAMA0wiUAAAAAwDTCJQAAAADANMIlAAAAAMA0wiUAAAAAwDR3VxeA3MvT01NeXl6uLiNXslgskiSbzSbDMFxcDZB1fn5+ri7B5Vh/zbHZbLJa2TftDH0LeRXfDay/OYVwiXQlJiYqMTHR1WXkSm5ubvL09FRcXJySk5NdXQ6QZTdu3HB1CS7H+pu5jHYsxsXF3cdK8hb6FvIqvhtYf7MiKwed2PUIAAAAADCNcAkAAAAAMI1wCQAAAAAwjXAJAAAAADCNcAkAAAAAMI1wCQAAAAAwjXAJAAAAADCNcAkAAAAAMI1wCQAAAAAwjXAJAAAAADCNcAkAAAAAMI1wCQAAAAAwjXAJAAAAADCNcAkAAAAAMI1wCQAAAAAwjXAJAAAAADCNcAkAAAAAMI1wCQAAAAAwjXAJAAAAADCNcAkAAAAAMI1wCQAAAAAwjXAJAAAAADCNcAkAAAAAMI1wCQAAAAAwzd3VBQAAgAdPZGSkq0tANkRFRbm6BAB5AEcuAQAAAACmES4BAAAAAKYRLgEAAAAAphEuAQAAAACmES4BAAAAAKYRLgEAAAAAphEuAQAAAACmES4BAAAAAKYRLgEAAAAAphEuAQAAAACmES4BAAAAAKa5u7oAAAAAAHlHZGSkq0tANkRFRd2398r14XLy5Mnatm2b3N3/KnXatGkKCgqSJF2+fFlTpkzRzz//rICAAD377LMKDw+3T3vgwAHNmDFDFy5cUHBwsAYPHqwyZcrc9+UAAAAAgPws14dLSYqIiFCvXr2cjps0aZJCQ0M1YsQIHTlyRO+++65CQkIUEhKi69ev67333lP//v3VqFEjrVq1Su+++65mzJghDw+P+7wUAAAAAJB/5elrLn/77TcdOXJEPXv2lJeXl6pUqaLatWtr06ZNkqRdu3apRIkSatasmTw8PBQRESHDMLRnzx4XVw4AAAAA+UueCJdr165Vt27dFBkZqfXr19uHnz59WkFBQfL19bUPK1OmjE6fPi1JOnPmjMMpsBaLRaGhoTpz5sz9Kx4AAAAAHgC5/rTYv/3tb+rTp49sNpsOHjyoCRMmyGazqX79+vr9998dgqUk2Ww2JSQkSJISEhIyHH+76OhoRUdH37sFyYOsVqv92lY4cnNzc/gbyCvos6y/ZvG5PZho9/yN9s3f7mf75vpwGRYWZv/3Y489pqeeeko7d+5U/fr15e3trbi4OIfp4+Pj5ePjI0ny8fFRfHy8w/i4uDj7+NstX75cs2bNugdLkHf17t1bgwYNcnUZuZq/v7+rSwCyJTAw0NUl5Bqsv3eHPvRgot3zN9o3f7uf7Zvrw+WdLBaLDMOQJIWEhOjy5cu6efOm/QjliRMnFBISIkkKDg7W2rVr7a81DEOnTp1S69at08y3Y8eOaty48X1YgrzDarUqJibG1WXkSm5ubvL399f169eVnJzs6nKALGOdZv3Niox+iNCHHky0e/5G++ZvOdW+WQmpuT5c7tixQ48//ri8vb31yy+/aNWqVRowYIAkqWTJkipXrpwWLFig5557TkePHtV3332niRMnSpLq1aunuXPnavPmzWrYsKFWr14tSapWrVqa9ylSpIiKFCly/xYsD4iOjuaHVyaSk5P5jJCn0F//wvp7d/jMHky0e/5G++Zv97N9c324/PrrrzVt2jSlpKSoSJEi6tGjh8NzLIcNG6aoqCh1795dBQsW1Isvvmg/cunv768333xTM2fO1LRp0xQcHKyRI0fyGBIAAAAAyGG5PlyOHz8+w/FBQUEaO3ZsuuOrVKmiqVOn5nRZyIbIyEhXl4BsiIqKcnUJAAAAyIPyxKNIAAAAAAC5G+ESAAAAAGAa4RIAAAAAYBrhEgAAAABgGuESAAAAAGAa4RIAAAAAYBrhEgAAAABgGuESAAAAAGAa4RIAAAAAYJq7qwsAAORekZGRri4B2RAVFeXqEgAADzCOXAIAAAAATCNcAgAAAABMI1wCAAAAAEwjXAIAAAAATCNcAgAAAABMI1wCAAAAAEwjXAIAAAAATCNcAgAAAABMI1wCAAAAAEwjXAIAAAAATCNcAgAAAABMI1wCAAAAAEwjXAIAAAAATCNcAgAAAABMI1wCAAAAAEwjXAIAAAAATCNcAgAAAABMI1wCAAAAAEwjXAIAAAAATCNcAgAAAABMI1wCAAAAAEwjXAIAAAAATCNcAgAAAABMI1wCAAAAAEwjXAIAAAAATCNcAgAAAABMI1wCAAAAAEwjXAIAAAAATCNcAgAAAABMI1wCAAAAAExzd3UByL08PT3l5eXl6jJwn/n5+bm6BNxDtG/+dj/a12azyWpl3/SDhm1H/kb75m/3s30Jl0hXYmKiEhMTXV0G7rMbN264ugTcQ7Rv/pZT7ZvRjsW4uLgceQ/kLWw78jfaN3+7H98Nqdj1CAAAAAAwjXAJAAAAADCNcAkAAAAAMI1wCQAAAAAwjXAJAAAAADCNcAkAAAAAMI1wCQAAAAAwjXAJAAAAADCNcAkAAAAAMI1wCQAAAAAwjXAJAAAAADCNcAkAAAAAMI1w+f/Yu/M4K+v7XuCfWViGURBFAqgsmhg1EVFbI2pF3Jo0C1V6U9crMRKNRtxqXS7eNlFrm5jrihVJE21ESaImbo37kgS9bW6Mthq3hk1cmYBBWUSGuX/4chJkG+c3w5k5vN+vFy9mnufMme9zfs8z3/M5zwYAAEAx4RIAAIBiwiUAAADFhEsAAACKCZcAAAAUEy4BAAAoJlwCAABQTLgEAACgmHAJAABAMeESAACAYsIlAAAAxYRLAAAAigmXAAAAFBMuAQAAKCZcAgAAUEy4BAAAoJhwCQAAQDHhEgAAgGLCJQAAAMWESwAAAIoJlwAAABQTLgEAACgmXAIAAFBMuAQAAKCYcAkAAECx+koX0NnefvvtTJkyJU888UQaGhpy2GGHZdy4cZUuCwAAoKpUfbicOnVq3n333Xzve9/LG2+8kQsuuCDbbrtt9txzz0qXBgAAUDWq+rDY5cuXZ+bMmTn22GPTp0+fDB8+PIceemjuv//+SpcGAABQVao6XL788stpaWnJsGHDWqeNGDEi8+bNq2BVAAAA1aeqD4tdvnx5+vTps9q0xsbGLFu2bI3HNjU1pampaWOV1i3U1tZm6623rnQZbGR1dXWVLoFOZHyr28YYX+vQpsm4VzfjW9025vjWtLS0tGy037aR/fa3v83ZZ5+d2267rXXazJkzM3369FxzzTWrPXbq1KmZNm3axi6xS5swYUK+9rWvVboMAACgG6jqPZfbbLNNkmTevHkZOnRokmT27NmtX/+x8ePHZ8yYMRu1vq6utrY2ixYtqnQZXVJdXV369u2bxYsXp7m5udLl0MGMb3UzvhvWv3//dc7TF9bNulXdjG91M74btr7e8L6qDpe9e/fOvvvum+9///s544wzsmDBgtx333057bTT1njsgAEDMmDAgApU2XU1NTXZuDagubnZa1TFjG91M77t4zXbMOtWdTO+1c34lqnqcJkkJ554Yq6++upMmDAhDQ0NGT9+vNuQAAAAdLCqD5ebbbZZzj333EqXAQAAUNWq+lYkAAAAbBzCJQAAAMXaFS4PPPDAPPfcc2ud98ILL+TAAw8sKgoAAIDupV3h8pFHHsnixYvXOm/x4sX52c9+VlQUAAAA3Uu7D4utqalZ6/THuk4f8QAAIABJREFUHnssAwcObHdBAAAAdD9tvlrsJZdckksuuSTJe8Fy7Nixqa1dPZu+8847WblyZU4++eSOrRIAAIAurc3hcp999slZZ52VlpaWfOMb38iRRx6ZbbfddrXH9OzZMzvvvHM+//nPd3ihAAAAdF1tDpdjxozJmDFjkry353LixIkZMmRIpxUGAABA99HmcPnH/u7v/q6j6wAAAKAba1e4XLVqVb7zne/klltuyfz587N8+fLV5tfU1OS3v/1thxQIAABA19eucHnOOefk29/+dsaMGZOxY8emZ8+eHV0XAAAA3Ui7wuX06dPz9a9/PRdccEFH1wMAAEA3VNPS0tLyYX9oyy23zI9+9KMcdNBBnVETAAAA3Uzthh+ypqOPPjp33nlnR9cCAABAN9Wuw2L33nvvTJ48Oa+//noOOeSQbLHFFms85vDDDy8uDgAAgO6hXYfF1tauf4dnTU1Nmpub210UAAAA3Uu79lzOnj27o+sAAACgG2vXnksAAAD4Y+3aczlv3rwNPmbo0KHteWoAAAC6oXafc1lTU7Pexzjnsvt74YUXKl0CABWw4447rnOe3gCwaVpfb3hfu/Zc/vjHP15j2qJFi3Lvvffm//7f/5t//Md/bM/TAgAA0E11+DmXZ555ZpYvX55rrrmmI5+WCvDpNMCmyZ5LAD6oLXsu139PkXb4i7/4i8yYMaOjnxYAAIAurMPD5WOPPZbevXt39NMCdEmvvfZaxo4dmxUrVlS6FACAimrXOZeTJk1aY9qKFSvy7LPP5he/+EX+5m/+prgwgBJPP/10rrvuusyaNStJss022+RLX/pS9t5776LnHTt2bG644QZXxAbopm666ab88pe/zGWXXdY67fTTT09TU1NuvPHG1mkXX3xxGhoacuaZZ37o33H99ddn3rx5+d//+393SM3QXbQrXN55551rTOvdu3e23XbbXHPNNTnhhBOKCwNoryVLluS8887LKaeckkMOOSTNzc157rnnNniVawCq32677ZYbbrghK1asSM+ePbNixYrMmjUrffr0SVNTUwYMGJAkeeqpp3LSSSdVuFroXtoVLmfPnt3RdQB0mPnz52flypX59Kc/nSSpq6vLyJEjW+ffc889uemmm7Jw4cLsuOOOOf3001v3RB5xxBE588wzs9deeyVJ7rjjjjz00EO5/PLL87WvfS1JcuKJJyZJTj755Pzpn/5pkuSRRx7J9773vbz99tv59Kc/nVNOOWWjLS8AbbfTTjultrY2zz33XEaOHJlnn302H/3oR/ORj3wkTz31VA466KC88sorWbBgQXbbbbf88Ic/zJ133pnf//732WWXXXLWWWdl6623TktLS6ZOnZr77rsv77zzTrbaaquceeaZWbZsWaZPn56WlpZ85jOfSb9+/VyPhE1Gh59zCVBp2267bXr27JkLL7wwjz/+eN58883WeU8++WSmTJmSc889Nz/+8Y+zxx575LzzzmvTOZNXX311kmTq1Kn56U9/ms9//vOt8371q1/lu9/9buu8J554ouMXDIBidXV1+eQnP5mnnnoqyXt7KEeOHJmRI0euNm277bbLo48+mgceeCDf+ta3ctttt+VjH/tYvvGNbyRJfvnLX+ahhx7KtGnTcvfdd+ef/umfMnDgwIwePTpHH3109t9///z0pz8VLNmktDtc/vrXv87/+B//I4MHD06vXr0yePDgfPGLX8yTTz7ZkfUBfGiNjY25+uqr07t371xxxRUZP358zjjjjLz88su5//778+lPfzq77LJLevTokaOOOirvvPNO/uu//qvod37pS19KQ0NDhgwZkt122y0vvvhiBy0NAB1tt91222C4HDVqVO644458+ctfzqBBg1JfX58JEybk+eefz+uvv54ePXpkxYoVmTNnTlauXJnBgwdnyJAhlVwsqLh2HRb785//PIccckgGDRqUI488Mh/5yEfy+uuv58c//nFGjx6d+++/P/vtt19H1wrQZtttt13OPvvsJO9d0fXb3/52/uEf/iGbbbZZ66GsSVJbW5uBAwemqamp6PdtueWWrV/36tUry5YtK3o+ADrPbrvtlunTp2fZsmV54YUX8olPfCK9evXK0qVLs3Dhwjz11FOZOHFi7rvvvnzjG99Y7Zz9mpqaLFiwILvvvnsmTJiQ73znO3nppZey11575eSTT249ZxM2Re0Kl+eee24OOOCA3HXXXamv/8NTfOtb38pnP/vZnHvuufnFL37RYUUClBg0aFAOP/zwXHjhhRk7dmxef/311nmrVq3KggULWt8MNDQ0ZPny5a3zFy5cuNHrBaBz7bzzzkneO69+2LBh6dWrV5Jk5MiReeCBB/Laa69l1KhRGThwYM4888yMGjVqrc/zl3/5l/nLv/zLvPXWW7n00ktz3XXX5fzzz3cBOTZZ7Tos9te//nUmTZq0WrBM3juGfdKkSc41Aipq3rx5mTFjRl5//fW0tLRk0aJFufvuu/OJT3wiBx98cO655548++yzWblyZW6++ebU19dn1113TZJ87GMfy4MPPph33303c+bMyT333LPac/fv3z8vv/xyJRYLgA5SX1+fXXbZJT/4wQ9Wu+DbyJEjM2PGjGy33XbZcsst84UvfCHf+c53Wv/uv/XWW3n44YeTJM8991yeeeaZvPvuu+nVq1d69eqV2tr33lr3798/r732WlatWrXxFw4qqF17LhsbG/PGG2+sdd7rr7+exsbGoqIASjQ0NOT555/PrbfemrfffjuNjY3Zfffdc8YZZ2SrrbbKV7/61VxyySVZuHBhPvaxj+WSSy5Jz549kyTHH398LrroonzhC1/IzjvvnEMPPTT/+Z//2frcEyZMyKWXXpp33nknJ510Uv7kT/6kUosJQIFRo0bliSeeWCNcLlq0qPX0rsMPPzy1tbU5//zz09TUlM022yx77rlnxo4dmyVLluSaa67Jq6++mh49euSTn/xkzjrrrCTJmDFj8sADD2TcuHHp27dvpk+fXpFlhI2tpqWlpeXD/tDxxx+fu+++O9OnT8/BBx/cOv2BBx7IMccck89+9rP5l3/5lw4tlI3vhRdeqHQJAFTAjjvuuM55egPApml9veF97dpz+e1vfzvPPPNM/vzP/zx9+/bNwIED88Ybb2Tx4sX50z/901x66aXteVoAAAC6qXaFy/79++fxxx/PXXfdlV/84hdZtGhRttxyy+y333757Gc/23q8OQAAAJuGdoXLBx98MPPmzcuXvvSlfOELX1ht3vXXX59hw4Zl7NixHVIgAAAAXV+7djFOnjx5tUv5/7EFCxZk8uTJRUUBAADQvbQrXD7zzDPrvELiHnvskWeeeaaoKAAAALqXdh0WW1NTk9///vdrnbdo0aI0NzcXFUXXsOWWW1a6hC6rrq4u/fv3t75XKeNb3YxvGb1h3axb1c34Vjfj2zHatefyU5/6VKZMmZIP3sWkpaUl11xzTT71qU91SHEAAAB0D+3ac/n1r389Y8eOzciRIzNhwoQMHjw4r7zySv71X/81L7zwQh555JEOLhMAAICurF3hcvTo0XnwwQfzt3/7tznnnHOyatWq1NbWtk7fe++9O7pOAAAAurB2hcsk2XfffTNz5swsW7YsixYtyhZbbJE+ffp0ZG0AAAB0E+0Ol+9raGhIQ0NDR9QCAABAN9WuC/oAAADAHxMuAQAAKCZcAgAAUEy4BAAAoJhwCQAAQDHhEgAAgGLCJQAAAMWESwAAAIoJlwAAABQTLgEAACgmXAIAAFCsvtIFAABQXSZNmlTpEvgQrrzyykqXQJWw5xIAAIBiwiUAAADFhEsAAACKCZcAAAAUEy4BAAAoJlwCAABQTLgEAACgmHAJAABAMeESAACAYsIlAAAAxYRLAAAAigmXAAAAFBMuAQAAKCZcAgAAUEy4BAAAoJhwCQAAQDHhEgAAgGLCJQAAAMWESwAAAIoJlwAAABQTLgEAACgmXAIAAFBMuAQAAKCYcAkAAEAx4RIAAIBi9ZUugK6rsbExtbU+f1ibmpqaJO+9Ri0tLRWuho5mfKub8S2jN6ybdYvuavPNN690CRVn++0YwiXrtGTJkkqX0GXV1dWlZ8+eWbJkSZqbmytdDh3M+FY347thvXr1Wuc8vWHdrFt0V2+99ValS6g42++Gra83vM9HjwAAABQTLgEAACgmXAIAAFBMuAQAAKCYcAkAAEAx4RIAAIBiwiUAAADFhEsAAACKCZcAAAAUEy4BAAAoJlwCAABQTLgEAACgmHAJAABAMeESAACAYsIlAAAAxYRLAAAAigmXAAAAFBMuAQAAKCZcAgAAUEy4BAAAoJhwCQAAQDHhEgAAgGLCJQAAAMWESwAAAIoJlwAAABQTLgEAACgmXAIAAFBMuAQAAKCYcAkAAEAx4RIAAIBiwiUAAADFhEsAAACKCZcAAAAUEy4BAAAoJlwCAABQTLgEAACgmHAJAABAMeESAACAYvWVLuCuu+7KQw89lDlz5mT06NE5++yzW+edcMIJefPNN1Nb+14G3nrrrTNlypTW+U8//XSuvfbavPbaaxk6dGhOPfXUjBgxYrXnvuWWW7J06dLsvvvuOfXUU7PZZpttvIUDAADYRFR8z+WWW26ZL37xizn00EPXOv+8887LD3/4w/zwhz9cLVguXrw4F198cQ4//PDcfPPN2X///XPRRRfl3XffTZL8+te/zs0335wLLrgg119/fWpra3PNNddslGUCAADY1FQ8XO6zzz7Ze++907dv3w/1c48//ngGDx6cAw88MD169Mi4cePS0tKSJ598Mkny0EMP5aCDDsoOO+yQPn365Nhjj83jjz+eJUuWdMZiAAAAbNIqHi435PLLL88xxxyT888/P7/5zW9ap8+bN2+1Q2BramoyfPjwzJs3L0kyd+7c1eYPGTIk9fX1mT9//sYrHgAAYBNR8XMu1+fMM8/MDjvskCR58MEH8/Wvfz1XXXVVBg4cmGXLlq1x/mRjY2OWLVuWJFm+fPl6539QU1NTmpqaOmEpuq/6+vpstdVWlS6jS6qrq1vtf6qL8a1uxreM123drFt0V9ZZ229H6dLhcpdddmn9+i/+4i/y85//PL/61a/ymc98Jg0NDVm6dOlqj1+yZEkaGhqSJL17917jENilS5e2zv+gW2+9NdOmTevgJejeJk6cmBNPPLHSZXRpH/ZwbroX41vdjG/79O/fv9IldHnWLbob2/Uf2H7LdOlw+UG1tbVpaWlJkgwdOjT33ntv67yWlpbMmTMnn/nMZ5Ikw4YNy+zZs3PAAQckSV555ZW8++672Xbbbdf63OPHj8+YMWM6dwG6mfr6+ixatKjSZXRJdXV16du3bxYvXpzm5uZKl0MHM77Vzfhu2PreaOoL62bdoruyXdt+26ItH0JUPFw2Nzenubk5q1atyqpVq7JixYrU1tZm0aJFeeONN7Ljjjsmee8CPS+++GK+9rWvJUlGjx6d66+/Pg8//HD222+//Nu//VuSZNSoUUmSAw88MJdeemn233//DBkyJNOnT8/o0aPT2Ni41joGDBiQAQMGbIQl7j6amppsXBvw/vpLdTK+1c34to/XbMOsW3Q31tc/sP2WqXi4/MEPfpAZM2a0fj9z5swceOCBOfzww3Pdddfl1VdfTX19fbbbbrtccMEFGTx4cJL3dlmff/75mTp1aqZMmZKhQ4dm8uTJ6dGjR5Jk9913z5FHHpkLL7wwS5cuzahRozJp0qSKLCMAAEC1q2l5/zhT+AAXOFq3urq69O/fP4sWLfLpVhUyvtXN+G7Y+o7k0RvWzbr1Bz7Q716uvPLKSpdQcbbfDWvLUZ5d/lYkAAAAdH3CJQAAAMWESwAAAIoJlwAAABQTLgEAACgmXAIAAFBMuAQAAKCYcAkAAEAx4RIAAIBiwiUAAADFhEsAAACKCZcAAAAUEy4BAAAoJlwCAABQTLgEAACgmHAJAABAMeESAACAYsIlAAAAxYRLAAAAigmXAAAAFBMuAQAAKCZcAgAAUEy4BAAAoJhwCQAAQDHhEgAAgGLCJQAAAMWESwAAAIoJlwAAABQTLgEAACgmXAIAAFBMuAQAAKCYcAkAAEAx4RIAAIBiwiUAAADFhEsAAACKCZcAAAAUEy4BAAAoJlwCAABQTLgEAACgWH2lC6DramxsTG2tzx/WpqamJsl7r1FLS0uFq6GjGd/qZnzL6A3rZt2iu9p8880rXULF2X47hnDJOi1ZsqTSJXRZdXV16dmzZ5YsWZLm5uZKl0MHM77VzfhuWK9evdY5T29YN+sW3dVbb71V6RIqzva7YevrDe/z0SMAAADFhEsAAACKCZcAAAAUEy4BAAAoJlwCAABQTLgEAACgmHAJAABAMeESAACAYsIlAAAAxYRLAAAAigmXAAAAFBMuAQAAKCZcAgAAUEy4BAAAoJhwCQAAQDHhEgAAgGLCJQAAAMWESwAAAIoJlwAAABQTLgEAACgmXAIAAFBMuAQAAKCYcAkAAEAx4RIAAIBiwiUAAADFhEsAAACKCZcAAAAUEy4BAAAoJlwCAABQTLgEAACgmHAJAABAMeESAACAYsIlAAAAxYRLAAAAigmXAAAAFBMuAQAAKCZcAgAAUEy4BAAAoFh9pQtIkrvuuisPPfRQ5syZk9GjR+fss89unTd37txcddVVmTNnTj7ykY/kK1/5SnbbbbfW+TNnzswNN9yQhQsXZqeddsqkSZMycODA1vk33nhj7rnnnqxcuTL77rtvTjrppPTo0WOjLh8AAEC16xJ7Lrfccst88YtfzKGHHrra9JUrV+bCCy/MXnvtlZtvvjlHHHFELrnkkrz55ptJkpdeeilXXHFFvvrVr2b69OkZPnx4vvnNb7b+/H333ZdHH300l156aa677rrMnz8/06dP36jLBgAAsCnoEuFyn332yd57752+ffuuNv2//uu/8s477+Sv/uqv0qNHj/zZn/1Zhg4dmpkzZyZJHnnkkeyxxx7Zfffd06tXrxx11FGZPXt25s2blyR54IEHMm7cuAwaNCh9+/bNEUcckQcffHCjLx8AAEC16xLhcl3mzZuX4cOHp7b2D2Vuv/32mTt3bpL3DpkdMWJE67w+ffpk0KBBrfPnzZuX7bfffrWf/f3vf59FixZtpCUAAADYNHSJcy7XZdmyZWlsbFxtWmNjY954440kyfLly9c6f9myZWud//7Xy5YtS//+/Vf7uaampjQ1NXX4MnRn9fX12WqrrSpdRpdUV1e32v9UF+Nb3YxvGa/bulm36K6ss7bfjtKlw2VDQ0OWLFmy2rQlS5akoaEhSdK7d+8sXbp0tflLly5dbf4f//z7j31//h+79dZbM23atA6tv7ubOHFiTjzxxEqX0aV98FDuTdFRRx1V6RL4EG666aZKl9Bl2H7b54MfzrIm6xbdje36D2y/Zbp0uBw6dGhuvfXWrFq1qvXQ2NmzZ2f//fdPkgwbNiyzZs1qffyyZcvy2muvZdiwYa0/P3v27Oyyyy5JklmzZqVfv35r3YDGjx+fMWPGdPYidSv19fUOIV6Hurq69O3bN4sXL05zc3Oly4E2s03bfttifW80rUPrZt2iu7Jd237boi0fQnSJcNnc3Jzm5uasWrUqq1atyooVK1JbW5tdd901PXv2zG233ZZx48bl3//93zN37tzsu+++SZIDDjggZ511Vp588snssssuuemmmzJ8+PAMHTo0SXLQQQfl1ltvzZ577pnGxsbMmDEjBx100FprGDBgQAYMGLDRlrk7aGpqsnFtwPvrLnQX1tc/sP22j9dsw6xbdDfW1z+w/ZbpEuHyBz/4QWbMmNH6/cyZM3PggQfm9NNPz+TJk3P11VdnxowZGThwYM4777xsscUWSZLtttsukyZNypQpU7Jo0aJ8/OMfz9/+7d+2Ps+hhx6aBQsW5Kyzzkpzc3P22WefHH300Rt9+QAAAKpdlwiXRx111DrP2xo+fHguvfTSdf7sfvvtl/3222+t82pqanLMMcfkmGOO6ZA6AQAAWLsufSsSAAAAugfhEgAAgGLCJQAAAMWESwAAAIoJlwAAABQTLgEAACgmXAIAAFBMuAQAAKCYcAkAAEAx4RIAAIBiwiUAAADFhEsAAACKCZcAAAAUEy4BAAAoJlwCAABQTLgEAACgmHAJAABAMeESAACAYsIlAAAAxYRLAAAAigmXAAAAFBMuAQAAKCZcAgAAUEy4BAAAoJhwCQAAQDHhEgAAgGLCJQAAAMWESwAAAIoJlwAAABQTLgEAACgmXAIAAFBMuAQAAKCYcAkAAEAx4RIAAIBiwiUAAADFhEsAAACKCZcAAAAUEy4BAAAoJlwCAABQrL7SBdB1NTY2prbW5w9rU1NTk+S916ilpaXC1UDbbb755pUuoeJsv2X0hnWzbtFd6Q22344iXLJOS5YsqXQJXVZdXV169uyZJUuWpLm5udLlQJu99dZblS6h4my/G9arV691ztMb1s26RXelN9h+22J9veF9PnoEAACgmHAJAABAMeESAACAYsIlAAAAxYRLAAAAigmXAAAAFHMrEgBgo5s0aVKlS+BDuPLKKytdAtAN2HMJAABAMeESAACAYsIlAAAAxYRLAAAAigmXAAAAFBMuAQAAKCZcAgAAUEy4BAAAoJhwCQAAQDHhEgAAgGLCJQAAAMWESwAAAIoJlwAAABQTLgEAACgmXAIAAFBMuAQAAKCYcAkAAEAx4RIAAIBi9ZUuAAAA6D4mTZpU6RL4EK688sqN9rvsuQQAAKCYcAkAAEAx4RIAAIBiwiUAAADFhEsAAACKCZcAAAAUEy4BAAAoJlwCAABQTLgEAACgmHAJAABAMeESAACAYsIlAAAAxeorXcCGXH755fnZz36W+vo/lDplypRsvfXWSZIFCxbkqquuyrPPPpt+/frlf/7P/5n999+/9bFPP/10rr322rz22msZOnRoTj311IwYMWKjLwcAAEA16/LhMknGjRuX4447bq3zLr300gwfPjz/63/9r7zwwgu56KKLMmzYsAwbNiyLFy/OxRdfnIkTJ+bP/uzPcvfdd+eiiy7Ktddemx49emzkpQAAAKhe3fqw2FdeeSUvvPBCjj322PTq1Su77rpr9tprrzz00ENJkscffzyDBw/OgQcemB49emTcuHFpaWnJk08+WeHKAQAAqku3CJf33ntvjjrqqEyaNCn3339/6/S5c+dm6623zmabbdY6bcSIEZk7d26SZN68easdAltTU5Phw4dn3rx5G694AACATUCXPyz285//fI4//vg0NjbmmWeeyT/90z+lsbEx++yzT5YvX75asEySxsbGLFu2LEmybNmy9c7/Y01NTWlqauq8BemG6uvrs9VWW1W6jC6prq5utf+hu7DO2n5Led02Tca9uhnf6rYxx7fLh8sddtih9euRI0fms5/9bGbOnJl99tknvXv3zpIlS1Z7/NKlS9PQ0JAkaWhoyNKlS1ebv2TJktb5f+zWW2/NtGnTOmEJuq+JEyfmxBNPrHQZXVrfvn0rXQJ8KP379690CV2G7bd9rEObJuNe3YxvdduY49vlw+UH1dTUpKWlJUkybNiwLFiwIG+//XbrHspZs2Zl2LBhSZKhQ4fm3nvvbf3ZlpaWzJkzJ5/5zGfWeN7x48dnzJgxG2EJuo/6+vosWrSo0mV0SXV1denbt28WL16c5ubmSpcDbWabtv22xfreiFiHNk3GvboZ3+rWUePblpDa5cPlL37xi+yxxx7p3bt3nnvuudx99935yle+kiQZMmRIPvrRj+bGG2/Ml770pbz44ov5j//4j3zzm99MkowePTrXX399Hn744ey33375t3/7tyTJqFGj1vg9AwYMyIABAzbegnUDTU1N3nhtQHNzs9eIbsX6+ge23/bxmm2ajHt1M77VbWOOb5cPl3fddVemTJmSVatWZcCAATnmmGNWu4/l2WefnSuvvDJHH310tthii5x88smtey779u2b888/P1OnTs2UKVMydOjQTJ482W1IAAAAOliXD5f/+I//uN75W2+9dS688MJ1zt91111z9dVXd3RZAAAA/JFucSsSAAAAujbhEgAAgGLCJQAAAMWESwAAAIoJlwAAABQTLgEAACgmXAIAAFBMuAQAAKCYcAkAAEAx4RIAAIBiwiUAAADFhEsAAACKCZcAAAAUEy4BAAAoJlwCAABQTLgEAACgmHAJAABAMeESAACAYsIlAAAAxYRLAAAAigmXAAAAFBMuAQAAKCZcAgAAUEy4BAAAoJhwCQAAQLH6ShdA9Zs0aVKlS+BDuPLKKytdAgAA3ZA9lwAAABQTLgEAACgmXAIAAFBMuAQAAKCYcAkAAEAxV4sFYJ1c7bl7cbVnACrJnksAAACKCZcAAAAUEy4BAAAoJlwCAABQTLgEAACgmHAJAABAMeESAACAYu5zyTo1NjamttbnD5uazTffvNIl0ImMb3XbGOOrN2ya/O2obsa3um3M8RUuWaclS5ZUugQq4K233qp0CXQi41vdOmp8e/Xqtc55esOmyd+O6mZ8q9vG6A3v89EjAAAAxYRLAAAAigmXAAAAFBMuAQAAKCZcAgAAUEy4BAAAoJhwCQAAQDHhEgAAgGLCJQAAAMWESwAAAIoJlwAAABQTLgEAACgmXAIAAFBMuAQAAKCYcAkAAEAx4RIAAIBiwiUAAADFhEsAAACKCZcAAAAUEy4BAAAoJlwCAABQTLgEAACgmHAJAABAMeESAACAYsIlAAAAxYRLAAAAigmXAAAAFBMuAQAAKCZcAgAAUEy4BAAAoJhwCQAAQDHhEgAAgGLCJQAAAMWESwAAAIoJlwAAABQTLgEAACgmXAIAAFBMuAQAAKBYfaUL6Gxvv/12pkyZkieeeCINDQ057LDDMm7cuEqXBQAAUFWqPlxOnTo17777br73ve/ljTfeyAUXXJD7958fAAAgAElEQVRtt902e+65Z6VLAwAAqBpVfVjs8uXLM3PmzBx77LHp06dPhg8fnkMPPTT3339/pUsDAACoKlUdLl9++eW0tLRk2LBhrdNGjBiRefPmVbAqAACA6lPVh8UuX748ffr0WW1aY2Njli1btsZjm5qa0tTUtLFK6xbq6+uz1VZbVboMNrK6urpKl0AnMr7VbWOMr3Vo02Tcq5vxrW4bc3xrWlpaWjbab9vIfvvb3+bss8/Obbfd1jpt5syZmT59eq655prVHjt16tRMmzZtY5fYpU2cODEnnnhipcsAAAC6garec7nNNtskSebNm5ehQ4cmSWbPnt369R8bP358xowZs1Hr6+rq6+uzaNGiSpfRJdXV1aVv375ZvHhxmpubK10OHcz4Vjfju2H9+/df5zx9Yd2sW9XN+FY347th6+sN76vqcNm7d+/su++++f73v58zzjgjCxYsyH333ZfTTjttjccOGDAgAwYMqECVXVdTU5ONawOam5u9RlXM+FY349s+XrMNs25VN+Nb3YxvmaoOl0ly4okn5uqrr86ECRPS0NCQ8ePHuw0JAABAB6v6cLnZZpvl3HPPrXQZAAAAVa2qb0UCAADAxiFcAgAAUEy4BAAAoJhwCQAAQDHhEgAAgGLCJQAAAMWESwAAAIoJlwAAABQTLgEAACgmXAIAAFBMuAQAAKCYcAkAAECxmpaWlpZKFwHdTVNTU2699daMHz8+AwYMqHQ5dDDjW92ML53FulXdjG91M74dw55LaIempqZMmzYtTU1NlS6FTmB8q5vxpbNYt6qb8a1uxrdjCJcAAAAUEy4BAAAoJlwCAABQTLgEAACgmHAJAABAMeESAACAYsIlAAAAxYRLAAAAigmXAAAAFBMuAQAAKCZcAgAAUEy4BAAAoJhwCQAAQDHhEgAAgGLCJQAAAMWESwAAAIoJlwAAABQTLgEAACgmXAIAAFBMuAQAAKCYcAkAAEAx4RIAAIBiwiUAAADFhEsAAACKCZcAAAAUEy4BAAAoJlwCAABQTLgEAACgmHAJAABAMeESAACAYsIlAAAAxYRLAAAAigmXAAAAFBMuAQAAKCZcAgAAUEy4BAAAoJhwCQAAQDHhEgAAgGLCJQAAAMWESwAAAIoJlwAAABQTLgEAACgmXAIAAFBMuAQAAKCYcAkAAEAx4RIAAIBiwiUAAADFhEsAAACKCZcAAAAUEy4BAAAoJlwCAABQTLgEAACgmHAJAABAMeESAACAYsIlAAAAxYRLAAAAigmXAAAAFBMuAQAAKCZcAgAAUEy4BAAAoJhwCQAAQDHhEgAAgGLCJQAAAMWESwAAAIoJlwAAABQTLgEAACgmXAIAAFCs7u///u//vtJFQHfU0NCQP/mTP0mfPn0qXQqdwPhWN+NLZ7FuVTfjW92Mb7malpaWlkoXAQAAQPfmsFgAAACKCZcAAAAUEy4BqGqvvfZapUsAoIvRGzqHC/oAfEBzc3PmzJmTHj16pGfPnpUuh0JHH310nn766dTW1mabbbZJXV1dpUsCuiG9obroDZ3DBX2ATd60adMybNiwHHrooWlubs7555+f5557Lr169coFF1yQXXfdtdIlUmDWrFl58MEH87Of/SwrV67Mfvvtl0MOOSQ77rhjpUsDujC9obrpDZ3Dnkv4EF599dXcfvvtuffee/OJT3wivXv3zq9+9ausXLky/fr1q3R5tNPVV1+dL3zhC9lqq63yH//xH3n00Ufzf/7P/0mvXr1y//3355BDDql0iRTo379/9txzz4wbNy7bbLNNnn322Xz/+9/Pz3/+86xYsSKDBw9O7969K10m3ZjeUJ30huqmN3QO51xCGz399NM59dRT8/zzz+fxxx/P8uXLkySzZ8/OTTfdVOHqKLF48eL0798/SfL//t//y7777pttttkmBx98cObOnVvh6ugodXV12WeffXLOOefkuOOOy6uvvprvfe97Of7443PZZZdl4cKFlS6RbkhvqF56w6ZBb+hYwiW00Q033JBjjjkmF154YXr06NE6feTIkXn++ecrWBmltthii7z00ktpbm7OE088kVGjRiVJVqxYkdpafyarxYsvvph//ud/znHHHZfbb789hx12WKZOnZpvfOMbWbhwYS6++OJKl0g3pDdUL71h06A3dKz6ShcA3cXcuXNz1llnrTG9X79+Wbx4cQUqoqMcdNBB+eY3v5n+/funpqam9Q3E888/n2233bbC1VHqJz/5SR588MG8/PLL2XPPPXPGGWdkzz33bH1zOGjQoJx22mk54YQTKlwp3ZHeUL30huqmN3QO4RLaqLGxMYsWLcqgQYNWmz5r1qxstdVWFaqKjnDUUUdl2LBhaWpqyr777tu696G2tjbjx4+vcHWU+ulPf5qDDz44Bx10ULbccsu1PqZfv3459dRTN3JlVAO9oXrpDdVNb+gcrhYLbfTd7343L7zwQs4555ycdNJJueyyy/Lmm2/m8ssvz9ixY3PkkUdWukQ6wIoVK1xiHmgzvWHToDdA2wiX0Ebvvvtupk6dmgcffDCrVq1KXV1dVq1alf333z+nnXaa+yN1Y83NzfnRj36Ue+65J2+++WauvfbaDBo0KDfeeGMGDhyYQw89tNIlUmD27NlrnV5TU5OePXtm6623Xu1cOfgw9IbqpTdUN72hczgsFtqgpaUlb775ZiZOnJi//uu/zty5c7N8+fJsv/32GTJkSKXLo9CPfvSjPPTQQ5kwYUKuvvrq1unDhg3LHXfc4Q1EN3f66aenpqZmnfPr6uqy33775ZRTTrFngg9Fb6huekN10xs6h3AJbdDS0pITTzwxV199dYYMGZKtt9660iXRgR566KGccsop2W233fLP//zPrdNHjBiR+fPnV7AyOsJ5552XG264IYcddljrzbFfeOGF3H777TniiCPS3Nycf/3Xf82NN96Y448/vsLV0p3oDdVNb6huekPnEC6hDWprazN48OAsXrzYp9FVaOHChRk8ePAa01etWpXm5uYKVERH+tGPfpSJEydmjz32aJ02fPjwDBgwINOnT8+3v/3t9O7dO9/97ne9geBD0Ruqm95Q3fSGzuEmPdBGxx13XK6//no3Tq5C2223XZ555pk1pj/22GPZfvvtK1ARHWnu3LkZOHDgGtMHDhzYuj2PGDHCjbJpF72heukN1U1v6Bz2XEIbXXbZZXnnnXdy2mmnpb6+fo3j72+66aYKVUapv/7rv84VV1yRhQsXZtWqVXn88cfz8ssv56GHHsoFF1xQ6fIotM022+SWW27JKaec0npxhpUrV+aWW27JNttskyT53e9+ly222KKSZdJN6Q3VS2+obnpD53C1WGijBx98cL3zDzrooI1UCZ3hmWeeyYwZMzJnzpwsW7YsO+ywQ4444ojsvvvulS6NQs8++2wuuuii1NbWZvjw4UmSOXPmZNWqVbnggguy00475eGHH86iRYty+OGHV7ZYuh29obrpDdVLb+gcwiUAVW/p0qV59NFH88orryR57xPr/fffP3369KlwZQBUit7Q8YRLaKMFCxasd76rBAJsevQGgD8QLqGNxo0bt977If3kJz/ZiNVQ6qijjsq1116bvn375sgjj1zv2Dpnqvt79dVXc8cdd7TePmDo0KH53Oc+t9YrQcKHoTdUF71h06I3dDwX9IE2uvzyy1f7fuXKlZk1a1Zuv/32HHPMMRWqivb68pe/nIaGhiTJCSecUOFq6ExPPPFELrroomy//fbZeeedk7x3rs0999yTyZMnO3eKInpDddEbNh16Q+ew5xIK/fKXv8yPf/zj/MM//EOlSwHW4rTTTssee+yR4447brXpN9xwQ37961+vEQ6gI+gN0LXpDZ3DfS6h0DbbbJMXX3yx0mXwIS1durTN/+je5s+fn0MOOWSN6QcffHBeeumlClTEpkBv6J70hk2H3tA5HBYLbfTBRtLS0pJFixbl5ptvzpAhQypUFe21oXNpkvfGuKamxjlT3Vy/fv0ya9asNbbT2bNnp1+/fhWqimqhN1QXvWHToTd0DuES2mhtDaelpSUDBgzI2WefXaGqaK+LL7640iWwkRx66KGZMmVKXn/99ey0005J3juv5tZbb824ceMqXB3dnd5QXfSGTYfe0Dmccwlt9PTTT6/2fU1NTfr165fBgwenrq6uQlUBG9LS0pI77rgjP/nJT7Jw4cIkyZZbbpnDDjssn//85ze4lwLWR2+A7klv6BzCJbTR008/nZ133nmNNwvNzc159tln88lPfrJCldER3n777dx///2t51lst912Ofjgg7P55ptXuDI60vuHMLpBNh1Fb6huesOmQW/oOC7oA200efLkvPXWW2tMX7JkSSZPnlyBiugoTz/9dE444YTceeedefvtt/P222/nrrvuysSJE9fYK0H31qdPH28e6FB6Q/XSGzYdekPHcc4ltNH7J/B/0FtvvZVevXpVoCI6ytSpU7Pffvvlq1/9auveh+bm5lx77bWZOnVqrrrqqgpXyId12mmntfmQJpebp4TeUL30huqjN3Q+4RI24P17lNXU1OSKK65Iff0fNptVq1Zlzpw5rSeC0z29+uqrOeecc1Y7rK2uri7jxo3Lww8/XMHKaK+999670iVQ5fSG6qc3VB+9ofMJl7ABjY2NSd77dLqhoSE9e/ZsnVdfX5+Pf/zj+fM///NKlUcH2H777TN//vxsu+22q02fP39+hg8fXpmiKHLkkUdWugSqnN5Q/fSG6qM3dD4X9IE2uvnmm3PYYYeld+/elS6FDvbzn/88119/fT73uc/l4x//eJLk+eefz913353jjjtutTcWI0aMqFSZFPrv//7v1otyDB06NDvssEOFK6Ia6A3VS2/YNOgNHUu4BDZ5G7qfVU1NjZtmd2NvvvlmvvWtb+Xpp59u3du0ZMmS7Lrrrjn77LPdLBtYK72huukNnUO4hPU4/fTTc9FFF2WzzTbb4EngTvzuvt544402P3bgwIGdWAmd4Zvf/GZee+21nHHGGdluu+2SJPPmzcvll1+ewYMHu9E9H5resGnQG6qb3tA5nHMJ6/GpT30qPXr0SOIk8GrmTUF1e+KJJ3LhhRe2vnlI3jv06aSTTsrf/d3fVbAyuiu9YdOgN1Q3vaFzCJewHn984reTwKvb/Pnzc9ddd2X+/PlJkm233Taf+9zn1riQA91PS0vLGje4T9676uOqVasqUBHdnd6w6dAbqpfe0DlqK10AdDfvvvtumpqasmDBgtX+0X099thjOfXUU/Pb3/42I0aMyIgRIzJr1qyceuqpeeyxxypdHoV23XXXTJs2Lb/73e9ap/3ud7/Lv/zLv2S33XarYGVUE72h+ugN1U1v6BzOuYQ2evnll3PVVVflueeeW226k/m7v6985SsZM2ZMjj766NWm33TTTXnkkUdy3XXXVagyOsKCBQty0UUX5aWXXsqAAQOSJE1NTRk6dGgmT57cOg3aQ2+oXnpDddMbOofDYqGNrrjiitTV1eWCCy5I//7913sBB7qXhQsXZuzYsWtMP+CAA3LbbbdVoCI60tZbb53LL788Tz75ZF5++eUk7x3aNmrUqApXRjXQG6qX3lDd9IbOIVxCG82ePTuXXXaZ8yyq0K677prf/OY3GTJkyGrTf/Ob3+QTn/hEhaqiI9XU1GT33XfP7rvvXulSqDJ6Q/XSG6qf3tDxhEtoo+222y6LFy+udBl0gr322is33HBD/vu//3u1G2XPnDkzRx11VP793/+99bGf+tSnKlUmBZ566qk89dRT+f3vf7/GhRpOO+20ClVFNdAbqpfeUP30ho7nnEtoo6eeeirTp0/Psccem2HDhqW+fvXPZvr06VOhyii1oRtlv8/5U93TzTffnB/84Af56Ec/utbDFs8///wKVUY10Buql95Q3fSGziFcQhu932Q++MfHRRugazvuuOMyYcKEtZ47BaX0Buie9IbO4bBYaKOLL7640iUA7bBy5crstNNOlS6DKqU3QPekN3QO4RLaYOXKlZkxY0ZOPvnkNU7sp/ubMWPGeucfccQRG6kSOsMhhxySRx991DjS4fSG6qY3VDe9oXMIl9AG9fX1mTNnTqXLoJM8/vjjq33f3Nyc119/PXV1dRk0aJDG0829++67uffee/PUU09l+PDha5wT9+Uvf7lCldHd6Q3VTW+obnpD5xAuoY0OOOCA3H///TnuuOMqXQod7Iorrlhj2tKlS3P55Zdn9OjRFaiIjjRnzpxsv/32SZJ58+ZVuBqqjd5QvfSG6qY3dA4X9IE2mjp1ah5++OEMGTIkO+ywQ3r37r3afJ9wVZ85c+bkoosuyne+851KlwJ0UXrDpkdvgHWz5xLaaN68edlhhx2SJK+88kqFq2FjWLp0aZYsWVLpMoAuTG/Y9OgNsG72XAKbvDvvvHO171taWrJo0aI8/PDD+eQnP5m/+Zu/qVBldITly5fnlltuyX/+53/mzTffzAfb3rRp0ypUGdCV6Q3VTW/oHPZcApu822+/fbXva2tr07dv3xx44IH5q7/6/+3de1BU9f/H8ddyNfACGKsmKBpeYkoys4uFmCUW2WBeKqEm1NKmNIppUjPKLDUru0+JJal5S6vJUKapLK8jjpccxRCjpMUENMF0CVCQ3x9+218rmsqyHNjzfMzwB59zPPtm//C17/2c8/mMMKgqNJT33ntPe/fu1YABA865UTYAnAvZ4NnIBvdg5hK4SFOnTv3P4+x1BjRNo0aNUlpamqKioowuBR6IbACaJ7LBPZi5BC5Sly5dnH6vrq7WgQMHZLPZNHDgQIOqgjscPnxYlZWVCgsLk5eXl9HlwEWBgYFq1aqV0WXAQ5EN5kE2eBaywT2YuQRctHTpUlVWVmrMmDFGl4JL9N1336m8vFxDhw51jL3//vv6/vvvJUkdO3bUtGnTFBoaalSJaAA//vijtm7dqqefflr+/v5GlwOTIBuaL7LBHMgG96C5BFx06NAhPfPMM1q6dKnRpeASPfPMM7rzzjt1xx13SJJ27NihV155RSkpKQoPD1d6errCw8M1ceJEgyvFpUpJSXF6fqaoqEiSZLVa5e3t7XTu22+/3ai1wRzIhuaLbPBcZIP7cVss4KK8vDz5+fkZXQbqoaioSJGRkY7ft27dqhtvvFEDBgyQJD300EPn3EQbTd9NN91kdAkwObKh+SIbPBfZ4H40l8BFmjlzZp2x0tJS5efn6/777zegIriqqqpKAQEBjt/37dunQYMGOX5v3769jh07ZkRpcNGoUaOMLgEmQTZ4HrLBc5EN7kdzCVxAcXGxrFarAgMDncYtFos6duyopKQk9e7d26Dq4Aqr1ar8/HxZrVYdP35cNptNV111leN4WVmZ0wcMNE+//PKLTp8+rR49ejiN5+XlycvLS926dTOoMjRnZIPnIhvMgWxwD5pL4AIee+wxLViwQCkpKZKk1157TY8++qiCg4MNrgyuGjhwoNLT02Wz2bRnzx6FhYU53QqVm5urzp07G1ghGsLcuXM1bNiwOh8gjh49qi+//FJvvPGGQZWhOSMbPBfZYA5kg3uwjjJwAWevebVjxw5VVVUZVA0a0rBhwxQXF6ctW7bI19dXkyZNcjqem5urmJgYg6pDQyksLNSVV15ZZ7xr164qLCw0oCJ4ArLBc5EN5kA2uAczlwBMy8vLS0lJSUpKSjrn8cmTJzdyRXAHX19fHTt2TO3bt3caLysrY686AHWQDeZANrgH7xxwARaLxWnZagDNy7XXXqtFixapvLzcMWa32/Xpp5/q2muvNbAyNGdkA9C8kQ3uwT6XwAUkJCSoT58+8vE5M9G/bds29erVq86Gu88995wR5QG4gKNHj2rKlCk6ceKEunbtKkn67bffFBQUpOnTp7MROuqFbACaN7LBPWgugQu42L2s/lnUAUDTU1lZqXXr1qmgoEB+fn6KiIhQ//79HY0BcKnIBqD5IxsaHs0lAAAAAMBlPHMJAP9z6tQpHTx4UDU1NUaXggb2448/atKkSUpOTtbhw4clSatWrVJ2drbBlQFo6sgGz0U2NDyaSwCmV1VVpXfffVcjR47UhAkTdOTIEUlSenq6Pv/8c4Org6uysrI0f/589enTR3a7XadPn5YktWzZUpmZmQZXB6CpIhs8G9ngHjSXAExv0aJFKigo0MyZM+Xn5+cYj46O1saNGw2sDA1hzZo1mjBhgu677z55e3s7xiMjI1VQUGBcYQCaNLLBs5EN7kFzCcD0srOzNW7cOEVFRTltLdCpUycVFxcbWBkaQklJiWMlwH/z9fVl03sA50U2eDaywT1oLgGY3l9//aWgoKA641VVVexj5wHatWun3377rc74zp07FRYWZkBFAJoDssGzkQ3uQXMJwPQiIyO1ffv2OuPffvutevToYUBFaAjLly9XVVWVEhISlJ6ero0bN6q2tlb79+/XihUrtGjRIg0bNszoMgE0UWSDZyIb3IutSACY3s8//6yXXnpJsbGx+uGHHzR48GAVFhZq3759mjlzpiIjI40uEfUwdOhQLViwQEFBQVq3bp2WLVvmuJUtJCREo0aNUlxcnMFVAmiqyAbPRDa4F80lAEgqKirSF198oQMHDqiyslJdu3bV8OHDFRERYXRpqKeEhAQtXLjQ6ba2qqoqVVRUnPNWNwA4G9ngecgG9/IxugAAaAo6dOigCRMmGF0GGtjZz0X5+/vL39/foGoANDdkg2ciG9yHmUsAprd9+3Z5eXnpuuuucxrfuXOnamtr1adPH4MqgysSEhIUEBBwwYU3li5d2kgVAWhOyAbPRDa4FzOXAExv4cKFevjhh+uM19bWauHChXyAaMYSExMVEBBgdBkAmiGywXORDe5DcwnA9IqKihQeHl5nPCwsTEVFRQZUhIYSExPDMzQA6oVs8Fxkg/uwFQkA0wsICDjnhthFRUVq0aKFARWhIbAPHQBXkA2eiWxwL5pLAKZ344036uOPP3b6JvrQoUPKyMjQDTfcYGBlcAVLCgBwBdngmcgG92JBHwCmV15ermnTpik/P19t27aVJB09elRRUVGaMmWKWrZsaXCFAIDGRjYAl47mEgB05pvMXbt26cCBA/Lz81NERISuvvpqo8sCABiIbAAuDc0lAAAAAMBlrBYLwJQyMzM1ePBg+fn5KTMz8z/PveeeexqpKgCAkcgGwDU0lwBMadWqVYqNjZWfn59WrVp13vMsFgsfIADAJMgGwDXcFgvAlMrLyxUYGGh0GQCAJoRsAFzDViQATCkpKUnHjh2TJE2dOlV2u93gigAARiMbANfQXAIwpRYtWujEiROSpJycHNXU1BhcEQDAaGQD4BpuiwVgSrNmzVJubq7Cw8OVk5Ojnj17ysfn3I+hz5gxo5GrAwAYgWwAXMOCPgBMKTU1VT/88IOKi4uVk5OjTp06yd/f3+iyAAAGIhsA19BcAjClmpoa3XXXXZKk/Px8Pfzww2rZsqXBVQEAjEQ2AK7hmUsAppSYmOhYtAEAAIlsAFxFcwnAlP69aMPevXtZtAEAQDYALmJBHwCmxKINAICzkQ2Aa3jmEoApsWgDAOBsZAPgGppLAKbk7+/Pog0AACdkA+AabosFgP85fvy4JKl169YGVwIAaCrIBuDiMXMJwNTsdrsWL16sjRs3qry8XJIUGBiomJgYPfjgg3xjDQAmRDYA9cPMJQDTOnHihJ599lkdPXpUsbGxCgsLkyQVFhZqw4YNuvzyy/Xaa6/xIQIATIRsAOqP5hKAaX300UfavXu3pk+fruDgYKdjZWVleuGFFxQdHa1HHnnEoAoBAI2NbADqj30uAZjW1q1bNXr06DofHiQpODhYycnJys7ONqAyAIBRyAag/mguAZhWaWmpOnXqdN7jnTt3VllZWSNWBAAwGtkA1B/NJQDTat26tQ4fPnze4yUlJWrVqlUjVgQAMBrZANQfzSUA0+rdu7c+/fRTnTp1qs6xU6dOacmSJerdu7cBlQEAjEI2APXHgj4ATOvPP/9UamqqfH19FR8fr7CwMNXW1urgwYPKysrSqVOn9Oabbyo0NNToUgEAjYRsAOqP5hKAqRUXF2vu3LnatWuX/vnv0GKxKDo6WuPHj9cVV1xhcIUAgMZGNgD1Q3MJADqzYfahQ4ckSR06dOB5GgAA2QBcIppLAAAAAIDLWNAHAAAAAOAymksAAAAAgMtoLgEAAAAALqO5BAAAAAC4jOYSAIBG9vXXXysuLk4hISHy8/NTly5dNH78eO3fv/+ir/HVV1/pgw8+cGOVAABcGlaLBQCgEU2ePFmzZ8/WiBEj9MADDyg0NFS//vqrMjIyZLfb9dNPP13UdZKTk7V9+3bl5OS4uWIAAC6Oj9EFAABgFllZWZo9e7bS0tI0ffp0x3j//v01evRorV692sDqGk5FRYUuu+wyo8sAADQybosFAKCRzJkzR+3atVNaWto5jw8ZMsRxXt++fdWmTRtZrVYNGTLE6ZbZ5ORkLVy4UHv37pXFYpHFYlFycrLj+JYtWzRw4EAFBgaqTZs2SkxM1OHDh51e6+DBgxoyZIgCAgIUHh6ut956S0899ZQiIiKcztuzZ48GDx7suNaIESNks9mczrFYLHr11Vc1adIktW/fXlarVZmZmbJYLPrll1+czi0rK9Nll13GLb0A4IGYuQQAoBFUV1dr8+bNGj58uHx9ff/z3IMHD2rChAnq3Lmzjh8/rrlz56pfv37av3+/QkJClJaWpiNHjmjfvn1asmSJJCk0NFTSmcZywIABio+P12effaby8nI9//zzSkhI0JYtWyRJtbW1SkhIUElJidLT09WmTRu9/vrr+v333+Xl9f/fOxcWFqp///668sortXjxYlVWVmrq1KmKjY3V7t271apVK8e577zzjm666SbNnz9f1dXVio+PV8eOHZWRkaFZs2Y5zlu6dKkkKTExsWHeWPjHNW8AAAVdSURBVABAk8EzlwAANIKSkhK1b99ekydPdmq2LqSmpkYnT56U1WrVnDlzNG7cOEnnf+YyNjZW1dXV2rRpkywWiyTp559/1tVXX63Vq1crPj5eWVlZuvvuu7VhwwbFxMRIkux2u8LCwhQUFKSCggJJUmpqqubNmyebzaaQkBBJ0r59+xQVFaV33nlHEydOlHRm5jIqKko5OTmO15SktLQ0ZWRkyGazydvbW5LUp08f9ezZ09EUAwA8B7fFAgDQiP7dfJ1Pdna2Bg0apLZt28rHx0cBAQGy2+0XXE3277//1ubNmzVy5EjV1NSourpa1dXV6t69u8LDw7Vt2zZJ0rZt2xQUFORoLCWpZcuWuv32252ut3HjRg0cONDRWEpSz549FR0drU2bNjmde9ddd9X528aOHauioiJ98803kqTdu3dr586dGjt27AXfAwBA80NzCQBAI2jbtq1atGhR53nFs9lsNsXFxammpkbp6enavHmztm3bJqvVqsrKyv/8t2VlZaqpqdHTTz8tX19fpx+bzabCwkJJUlFRkeM22n+zWq11rteuXbs657Vr106lpaV1xs4WERGhQYMGaf78+ZKkjIwMdenSRbfddtt//h0AgOaJZy4BAGgEPj4+uuWWW7R27VpVV1fLx+fcEfzNN9/Ibrfryy+/VFBQkKQzz2ue3cydS1BQkCwWi5577jkNHTq0zvHLL79cktShQwcdOXKkzvGzF/0JCQmpMyaducW3e/fuTmPnm5F99NFHlZiYqD/++ENLlizRk08+eVGztwCA5oeZSwAAGklqaqqKi4s1Y8aMcx7PyspSRUWFLBaL06I/K1asUHV1tdO5fn5+dWYyAwMDdfPNNys3N1fXX399nZ9/VoLt27evjh07pg0bNjj+rd1u19q1a52ud+utt2rt2rUqKytzjOXl5Wn37t269dZbL+pvTkhIUHBwsBITE1VaWuq0qi0AwLN4T5s2bZrRRQAAYAbdunVTRUWFZsyYodzcXPn4+OjPP//U+vXrlZKSoqysLKWmpmru3LmOlWFXr16tl19+WRaLRb169VJ8fLwkKT8/XytXrlS3bt1UVVWlkydPKigoSFdddZWef/557dmzRz4+PiopKdGmTZs0Z84cBQcHKyIiQpGRkcrMzNSiRYsUGhoqm82mxx9/XBUVFfLx8VFKSookKSoqSvPmzdOaNWtktVq1a9cuPfLII2rdurXS09Pl7+8vSXrppZcUFxenfv361fmbvb29deTIES1btkxxcXF64oknGu8NBwA0KmYuAQBoRLNnz9ZXX32l0tJSjRkzRrfffrtefPFF9ezZUytXrtQ111yjBQsWaMeOHRoyZIiWLVumzz//XG3atHG6ztixYzVy5EhNnDhRffv21T/fFffr10+bNm2S3W7X6NGjFR8fr+nTpysgIECRkZGSztzCumrVKkVHR2vcuHEaP3687r77bt1xxx1OrxMeHq7169crODhYSUlJGjdunKKjo7Vu3TqnbUgu5N5775UkjRkzxsV3DwDQlLEVCQAA0MmTJxUVFaWYmBh98sknDXrtF154QR988IH++OMPx2wnAMDzsKAPAAAmNG/ePJ0+fVo9evRQWVmZPvzwQxUUFGj58uUN9hp5eXnKy8vTe++9pyeeeILGEgA8HM0lAAAm1KJFC7366qsqKCiQJEVHR2vNmjW6/vrrG+w1xo8fr+zsbN15552aMmVKg10XANA0cVssAAAAAMBlLOgDAAAAAHAZzSUAAAAAwGU0lwAAAAAAl9FcAgAAAABcRnMJAAAAAHAZzSUAAAAAwGU0lwAAAAAAl9FcAgAAAABc9n9ZjUk7S664OwAAAABJRU5ErkJggg==\n",
            "text/plain": [
              "<Figure size 1000x1000 with 4 Axes>"
            ]
          },
          "metadata": {
            "tags": []
          }
        },
        {
          "output_type": "execute_result",
          "data": {
            "text/plain": [
              "<ggplot: (8732844827901)>"
            ]
          },
          "metadata": {
            "tags": []
          },
          "execution_count": 55
        }
      ]
    },
    {
      "cell_type": "markdown",
      "metadata": {
        "id": "sldiXL9ND0zZ"
      },
      "source": [
        "The above Graph Shows the sale of various categories in different Region of the United States. It is indicated that Sales of \"Office supplies\" are high in every Region compared to other Categories.\"Technology\" and\r\n",
        "\"Furniture\" has very less sale in South Region compared to other regions of US.\r\n",
        "\r\n",
        "However, sales of \"Technology\" and \"Furniture\" category are less in other regions as well."
      ]
    },
    {
      "cell_type": "markdown",
      "metadata": {
        "id": "Oili-Ad4Fieb"
      },
      "source": [
        "##Now we see discount given as per quantity of sale of each category"
      ]
    },
    {
      "cell_type": "code",
      "metadata": {
        "id": "pDd7NzszDxke",
        "outputId": "4138f95c-8991-4bee-b77f-dfdc525f7326",
        "colab": {
          "base_uri": "https://localhost:8080/",
          "height": 1000
        }
      },
      "source": [
        "#Discount as per quantity\r\n",
        "ggplot(data_1, aes(x='Category',color = 'Quantity')) + geom_bar() + theme(axis_text_x = element_text(size=10)) + facet_wrap(['Discount']) + flip_xlabels + ggtitle(\"Discount as per every quantity of Sale in Entire data\")"
      ],
      "execution_count": 58,
      "outputs": [
        {
          "output_type": "stream",
          "text": [
            "/usr/local/lib/python3.6/dist-packages/plotnine/utils.py:1246: FutureWarning: is_categorical is deprecated and will be removed in a future version.  Use is_categorical_dtype instead\n",
            "  if pdtypes.is_categorical(arr):\n"
          ],
          "name": "stderr"
        },
        {
          "output_type": "display_data",
          "data": {
            "image/png": "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\n",
            "text/plain": [
              "<Figure size 1000x1000 with 12 Axes>"
            ]
          },
          "metadata": {
            "tags": []
          }
        },
        {
          "output_type": "execute_result",
          "data": {
            "text/plain": [
              "<ggplot: (-9223363304010949358)>"
            ]
          },
          "metadata": {
            "tags": []
          },
          "execution_count": 58
        }
      ]
    },
    {
      "cell_type": "markdown",
      "metadata": {
        "id": "bZK95O66GYMU"
      },
      "source": [
        "From the above chart, we see that there is no discount provided with higher quantity of products sold. More discounts for any quantity sold is provided in Central region than any other region."
      ]
    },
    {
      "cell_type": "markdown",
      "metadata": {
        "id": "ABabhwADAVHQ"
      },
      "source": [
        "# **CALCULATE PROFIT/LOSS IN SALE**"
      ]
    },
    {
      "cell_type": "code",
      "metadata": {
        "id": "g-swG_JlAchV",
        "colab": {
          "base_uri": "https://localhost:8080/",
          "height": 284
        },
        "outputId": "f2f6cdb7-9d6a-419b-f172-51ded5b8ff51"
      },
      "source": [
        "#Adding Profit and Profit Percentage coulumn\n",
        "data_1['profit%'] = data_1['Profit'] / data_1['Sales'] * 100\n",
        "data_1.describe()"
      ],
      "execution_count": 61,
      "outputs": [
        {
          "output_type": "execute_result",
          "data": {
            "text/html": [
              "<div>\n",
              "<style scoped>\n",
              "    .dataframe tbody tr th:only-of-type {\n",
              "        vertical-align: middle;\n",
              "    }\n",
              "\n",
              "    .dataframe tbody tr th {\n",
              "        vertical-align: top;\n",
              "    }\n",
              "\n",
              "    .dataframe thead th {\n",
              "        text-align: right;\n",
              "    }\n",
              "</style>\n",
              "<table border=\"1\" class=\"dataframe\">\n",
              "  <thead>\n",
              "    <tr style=\"text-align: right;\">\n",
              "      <th></th>\n",
              "      <th>Sales</th>\n",
              "      <th>Quantity</th>\n",
              "      <th>Discount</th>\n",
              "      <th>Profit</th>\n",
              "      <th>profit%</th>\n",
              "    </tr>\n",
              "  </thead>\n",
              "  <tbody>\n",
              "    <tr>\n",
              "      <th>count</th>\n",
              "      <td>9994.000000</td>\n",
              "      <td>9994.000000</td>\n",
              "      <td>9994.000000</td>\n",
              "      <td>9994.000000</td>\n",
              "      <td>9994.000000</td>\n",
              "    </tr>\n",
              "    <tr>\n",
              "      <th>mean</th>\n",
              "      <td>229.858001</td>\n",
              "      <td>3.789574</td>\n",
              "      <td>0.156203</td>\n",
              "      <td>28.656896</td>\n",
              "      <td>12.031393</td>\n",
              "    </tr>\n",
              "    <tr>\n",
              "      <th>std</th>\n",
              "      <td>623.245101</td>\n",
              "      <td>2.225110</td>\n",
              "      <td>0.206452</td>\n",
              "      <td>234.260108</td>\n",
              "      <td>46.675435</td>\n",
              "    </tr>\n",
              "    <tr>\n",
              "      <th>min</th>\n",
              "      <td>0.444000</td>\n",
              "      <td>1.000000</td>\n",
              "      <td>0.000000</td>\n",
              "      <td>-6599.978000</td>\n",
              "      <td>-275.000000</td>\n",
              "    </tr>\n",
              "    <tr>\n",
              "      <th>25%</th>\n",
              "      <td>17.280000</td>\n",
              "      <td>2.000000</td>\n",
              "      <td>0.000000</td>\n",
              "      <td>1.728750</td>\n",
              "      <td>7.500000</td>\n",
              "    </tr>\n",
              "    <tr>\n",
              "      <th>50%</th>\n",
              "      <td>54.490000</td>\n",
              "      <td>3.000000</td>\n",
              "      <td>0.200000</td>\n",
              "      <td>8.666500</td>\n",
              "      <td>27.000000</td>\n",
              "    </tr>\n",
              "    <tr>\n",
              "      <th>75%</th>\n",
              "      <td>209.940000</td>\n",
              "      <td>5.000000</td>\n",
              "      <td>0.200000</td>\n",
              "      <td>29.364000</td>\n",
              "      <td>36.250000</td>\n",
              "    </tr>\n",
              "    <tr>\n",
              "      <th>max</th>\n",
              "      <td>22638.480000</td>\n",
              "      <td>14.000000</td>\n",
              "      <td>0.800000</td>\n",
              "      <td>8399.976000</td>\n",
              "      <td>50.000000</td>\n",
              "    </tr>\n",
              "  </tbody>\n",
              "</table>\n",
              "</div>"
            ],
            "text/plain": [
              "              Sales     Quantity     Discount       Profit      profit%\n",
              "count   9994.000000  9994.000000  9994.000000  9994.000000  9994.000000\n",
              "mean     229.858001     3.789574     0.156203    28.656896    12.031393\n",
              "std      623.245101     2.225110     0.206452   234.260108    46.675435\n",
              "min        0.444000     1.000000     0.000000 -6599.978000  -275.000000\n",
              "25%       17.280000     2.000000     0.000000     1.728750     7.500000\n",
              "50%       54.490000     3.000000     0.200000     8.666500    27.000000\n",
              "75%      209.940000     5.000000     0.200000    29.364000    36.250000\n",
              "max    22638.480000    14.000000     0.800000  8399.976000    50.000000"
            ]
          },
          "metadata": {
            "tags": []
          },
          "execution_count": 61
        }
      ]
    },
    {
      "cell_type": "markdown",
      "metadata": {
        "id": "qsgtu3IAt5ab"
      },
      "source": [
        "### To know the maximum profit and loss:"
      ]
    },
    {
      "cell_type": "code",
      "metadata": {
        "id": "cXsgkV0HuXZT",
        "colab": {
          "base_uri": "https://localhost:8080/",
          "height": 50
        },
        "outputId": "1e0fbfbb-9cd6-461b-e0a3-d0a2ed87f1b8"
      },
      "source": [
        "print(\"MAX PROFIT\")\n",
        "max(data_1['profit%'])"
      ],
      "execution_count": null,
      "outputs": [
        {
          "output_type": "stream",
          "text": [
            "MAX PROFIT\n"
          ],
          "name": "stdout"
        },
        {
          "output_type": "execute_result",
          "data": {
            "text/plain": [
              "50.0"
            ]
          },
          "metadata": {
            "tags": []
          },
          "execution_count": 39
        }
      ]
    },
    {
      "cell_type": "code",
      "metadata": {
        "id": "TuHXiMnzutyk",
        "colab": {
          "base_uri": "https://localhost:8080/",
          "height": 50
        },
        "outputId": "5603b779-af2b-4cb0-8848-683308b11f9a"
      },
      "source": [
        "print(\"MIN PROFIT\")\n",
        "min(data_1['profit%'])"
      ],
      "execution_count": null,
      "outputs": [
        {
          "output_type": "stream",
          "text": [
            "MIN PROFIT\n"
          ],
          "name": "stdout"
        },
        {
          "output_type": "execute_result",
          "data": {
            "text/plain": [
              "-275.0"
            ]
          },
          "metadata": {
            "tags": []
          },
          "execution_count": 40
        }
      ]
    },
    {
      "cell_type": "markdown",
      "metadata": {
        "id": "yx1G6-a7vCle"
      },
      "source": [
        "### Now to understand how much percentage of data was under loss"
      ]
    },
    {
      "cell_type": "code",
      "metadata": {
        "id": "xNygRo1hvHGM",
        "colab": {
          "base_uri": "https://localhost:8080/",
          "height": 34
        },
        "outputId": "0b7e261f-1820-4f19-da85-c7d129033015"
      },
      "source": [
        "L1=data_1[data_1['profit%'] < 0].shape\n",
        "L1"
      ],
      "execution_count": null,
      "outputs": [
        {
          "output_type": "execute_result",
          "data": {
            "text/plain": [
              "(1871, 13)"
            ]
          },
          "metadata": {
            "tags": []
          },
          "execution_count": 42
        }
      ]
    },
    {
      "cell_type": "code",
      "metadata": {
        "id": "K8cvqYQWwb1m",
        "colab": {
          "base_uri": "https://localhost:8080/",
          "height": 34
        },
        "outputId": "6eda6fa0-f5db-4c90-b6ed-c03dfc00c04f"
      },
      "source": [
        "total=data_1.shape\n",
        "total"
      ],
      "execution_count": null,
      "outputs": [
        {
          "output_type": "execute_result",
          "data": {
            "text/plain": [
              "(9994, 13)"
            ]
          },
          "metadata": {
            "tags": []
          },
          "execution_count": 43
        }
      ]
    },
    {
      "cell_type": "code",
      "metadata": {
        "id": "xwaYVMUiwfYb",
        "colab": {
          "base_uri": "https://localhost:8080/",
          "height": 34
        },
        "outputId": "c7708c71-f58f-4c51-f51a-f9178bfe78c0"
      },
      "source": [
        "L1_per=1871/9994*100\n",
        "L1_per"
      ],
      "execution_count": null,
      "outputs": [
        {
          "output_type": "execute_result",
          "data": {
            "text/plain": [
              "18.721232739643785"
            ]
          },
          "metadata": {
            "tags": []
          },
          "execution_count": 44
        }
      ]
    },
    {
      "cell_type": "markdown",
      "metadata": {
        "id": "Xz-eFFwNwqxN"
      },
      "source": [
        "We find that around 18% of total data is under zero i.e. there is 18 percent loss in sales of various category products"
      ]
    },
    {
      "cell_type": "markdown",
      "metadata": {
        "id": "ifgsJvt1xcoK"
      },
      "source": [
        "## **CALCULATE PROFIT/LOSS IN CITY**"
      ]
    },
    {
      "cell_type": "code",
      "metadata": {
        "id": "O3Qa6MYQxlTs",
        "colab": {
          "base_uri": "https://localhost:8080/",
          "height": 235
        },
        "outputId": "4f528977-bb60-4c6e-fdd7-4b187c572608"
      },
      "source": [
        "#Adding Profit and Profit Percentage coulumn\n",
        "profit_city = data_1.groupby(\"City\").sum()['Profit']\n",
        "profit_city"
      ],
      "execution_count": null,
      "outputs": [
        {
          "output_type": "execute_result",
          "data": {
            "text/plain": [
              "City\n",
              "Aberdeen          6.6300\n",
              "Abilene          -3.7584\n",
              "Akron          -186.6356\n",
              "Albuquerque     634.0881\n",
              "Alexandria      318.6183\n",
              "                 ...    \n",
              "Woonsocket       78.6791\n",
              "Yonkers        2767.7557\n",
              "York           -102.1692\n",
              "Yucaipa          13.2080\n",
              "Yuma           -465.9909\n",
              "Name: Profit, Length: 531, dtype: float64"
            ]
          },
          "metadata": {
            "tags": []
          },
          "execution_count": 45
        }
      ]
    },
    {
      "cell_type": "code",
      "metadata": {
        "id": "732-isrqzJnr",
        "colab": {
          "base_uri": "https://localhost:8080/",
          "height": 134
        },
        "outputId": "c7ce504c-98cc-4042-fbd8-9f4b0048bfaa"
      },
      "source": [
        "#we need to sort to get the max and min profit values\n",
        "profit_city.sort_values(ascending = False).head()"
      ],
      "execution_count": null,
      "outputs": [
        {
          "output_type": "execute_result",
          "data": {
            "text/plain": [
              "City\n",
              "New York City    62036.9837\n",
              "Los Angeles      30440.7579\n",
              "Seattle          29156.0967\n",
              "San Francisco    17507.3854\n",
              "Detroit          13181.7908\n",
              "Name: Profit, dtype: float64"
            ]
          },
          "metadata": {
            "tags": []
          },
          "execution_count": 46
        }
      ]
    },
    {
      "cell_type": "code",
      "metadata": {
        "id": "qPbCrznfzVvg",
        "colab": {
          "base_uri": "https://localhost:8080/",
          "height": 134
        },
        "outputId": "d455a67a-a331-41c9-e30d-6dfbfc6c4343"
      },
      "source": [
        "profit_city.sort_values(ascending = True).head()"
      ],
      "execution_count": null,
      "outputs": [
        {
          "output_type": "execute_result",
          "data": {
            "text/plain": [
              "City\n",
              "Philadelphia   -13837.7674\n",
              "Houston        -10153.5485\n",
              "San Antonio     -7299.0502\n",
              "Lancaster       -7239.0684\n",
              "Chicago         -6654.5688\n",
              "Name: Profit, dtype: float64"
            ]
          },
          "metadata": {
            "tags": []
          },
          "execution_count": 47
        }
      ]
    },
    {
      "cell_type": "code",
      "metadata": {
        "id": "Ce6LR-OMzZRY",
        "colab": {
          "base_uri": "https://localhost:8080/",
          "height": 354
        },
        "outputId": "4cd7e1f6-b169-4f1f-f4f9-3c5f129dedcd"
      },
      "source": [
        "profit_city.sort_values(ascending = False).head().plot(kind ='bar')\n",
        "plot.title(\"MAXIMUM PROFIT OF CITY\")\n",
        "plot.show()"
      ],
      "execution_count": null,
      "outputs": [
        {
          "output_type": "display_data",
          "data": {
            "image/png": "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\n",
            "text/plain": [
              "<Figure size 432x288 with 1 Axes>"
            ]
          },
          "metadata": {
            "tags": [],
            "needs_background": "light"
          }
        }
      ]
    },
    {
      "cell_type": "markdown",
      "metadata": {
        "id": "fpiExi3hAzKJ"
      },
      "source": [
        "New York city has max profit i.e. NY is the most profitable city in terms of office supplies sales."
      ]
    },
    {
      "cell_type": "code",
      "metadata": {
        "id": "E1aIBcLX1XAK",
        "colab": {
          "base_uri": "https://localhost:8080/",
          "height": 347
        },
        "outputId": "0f0b43e4-1b0f-4a8d-f768-459a2e2a95e4"
      },
      "source": [
        "profit_city.sort_values(ascending = True).head().plot(kind ='bar')\n",
        "plot.title(\"MINIMUM PROFIT OF CITY\")\n",
        "plot.show()"
      ],
      "execution_count": null,
      "outputs": [
        {
          "output_type": "display_data",
          "data": {
            "image/png": "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\n",
            "text/plain": [
              "<Figure size 432x288 with 1 Axes>"
            ]
          },
          "metadata": {
            "tags": [],
            "needs_background": "light"
          }
        }
      ]
    },
    {
      "cell_type": "markdown",
      "metadata": {
        "id": "lMdqMSMvA1Xq"
      },
      "source": [
        "while chicago has the lowest profit in terms of sale of office supplies."
      ]
    },
    {
      "cell_type": "markdown",
      "metadata": {
        "id": "-NsoqoaBKpv9"
      },
      "source": [
        "#**Profit/Loss as per State**"
      ]
    },
    {
      "cell_type": "code",
      "metadata": {
        "id": "c78uOJF-Kkj5",
        "outputId": "59d08db4-1656-4c03-b147-eef58f70dfb8",
        "colab": {
          "base_uri": "https://localhost:8080/"
        }
      },
      "source": [
        "#Adding Profit and Profit Percentage coulumn\r\n",
        "profit_state = data_1.groupby(\"State\").sum()['Profit']\r\n",
        "profit_state"
      ],
      "execution_count": 62,
      "outputs": [
        {
          "output_type": "execute_result",
          "data": {
            "text/plain": [
              "State\n",
              "Alabama                  5786.8253\n",
              "Arizona                 -3427.9246\n",
              "Arkansas                 4008.6871\n",
              "California              76381.3871\n",
              "Colorado                -6527.8579\n",
              "Connecticut              3511.4918\n",
              "Delaware                 9977.3748\n",
              "District of Columbia     1059.5893\n",
              "Florida                 -3399.3017\n",
              "Georgia                 16250.0433\n",
              "Idaho                     826.7231\n",
              "Illinois               -12607.8870\n",
              "Indiana                 18382.9363\n",
              "Iowa                     1183.8119\n",
              "Kansas                    836.4435\n",
              "Kentucky                11199.6966\n",
              "Louisiana                2196.1023\n",
              "Maine                     454.4862\n",
              "Maryland                 7031.1788\n",
              "Massachusetts            6785.5016\n",
              "Michigan                24463.1876\n",
              "Minnesota               10823.1874\n",
              "Mississippi              3172.9762\n",
              "Missouri                 6436.2105\n",
              "Montana                  1833.3285\n",
              "Nebraska                 2037.0942\n",
              "Nevada                   3316.7659\n",
              "New Hampshire            1706.5028\n",
              "New Jersey               9772.9138\n",
              "New Mexico               1157.1161\n",
              "New York                74038.5486\n",
              "North Carolina          -7490.9122\n",
              "North Dakota              230.1497\n",
              "Ohio                   -16971.3766\n",
              "Oklahoma                 4853.9560\n",
              "Oregon                  -1190.4705\n",
              "Pennsylvania           -15559.9603\n",
              "Rhode Island             7285.6293\n",
              "South Carolina           1769.0566\n",
              "South Dakota              394.8283\n",
              "Tennessee               -5341.6936\n",
              "Texas                  -25729.3563\n",
              "Utah                     2546.5335\n",
              "Vermont                  2244.9783\n",
              "Virginia                18597.9504\n",
              "Washington              33402.6517\n",
              "West Virginia             185.9216\n",
              "Wisconsin                8401.8004\n",
              "Wyoming                   100.1960\n",
              "Name: Profit, dtype: float64"
            ]
          },
          "metadata": {
            "tags": []
          },
          "execution_count": 62
        }
      ]
    },
    {
      "cell_type": "code",
      "metadata": {
        "id": "pq8aHU5tK6i9",
        "outputId": "16c9ef00-fa09-4770-cc4d-5b0fa4d468ed",
        "colab": {
          "base_uri": "https://localhost:8080/",
          "height": 344
        }
      },
      "source": [
        "profit_state.sort_values(ascending = False).head().plot(kind ='bar')\r\n",
        "plot.title(\"MAXIMUM PROFIT OF STATE\")\r\n",
        "plot.show()"
      ],
      "execution_count": 63,
      "outputs": [
        {
          "output_type": "display_data",
          "data": {
            "image/png": "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\n",
            "text/plain": [
              "<Figure size 432x288 with 1 Axes>"
            ]
          },
          "metadata": {
            "tags": [],
            "needs_background": "light"
          }
        }
      ]
    },
    {
      "cell_type": "code",
      "metadata": {
        "id": "J4O8kePgLCme",
        "outputId": "4f8c1c25-bc0c-4bb2-b8fe-136d9abdfebf",
        "colab": {
          "base_uri": "https://localhost:8080/",
          "height": 357
        }
      },
      "source": [
        "profit_state.sort_values(ascending = True).head().plot(kind ='bar')\r\n",
        "plot.title(\"MINIMUM PROFIT OF STATE\")\r\n",
        "plot.show()"
      ],
      "execution_count": 65,
      "outputs": [
        {
          "output_type": "display_data",
          "data": {
            "image/png": "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\n",
            "text/plain": [
              "<Figure size 432x288 with 1 Axes>"
            ]
          },
          "metadata": {
            "tags": [],
            "needs_background": "light"
          }
        }
      ]
    },
    {
      "cell_type": "markdown",
      "metadata": {
        "id": "nR1qFYX3LS2C"
      },
      "source": [
        "California and NY are among the max profit states while North Carolina is among the least."
      ]
    },
    {
      "cell_type": "markdown",
      "metadata": {
        "id": "WvxSl_2BApxo"
      },
      "source": [
        "## Variance as per city, state, region"
      ]
    },
    {
      "cell_type": "code",
      "metadata": {
        "id": "iUR449zIA7E5",
        "colab": {
          "base_uri": "https://localhost:8080/",
          "height": 431
        },
        "outputId": "e403b715-b2a9-4ecd-8991-cfb123ed5d47"
      },
      "source": [
        "data_1.groupby(\"City\").Profit.agg([\"sum\",\"mean\",\"min\",\"max\",\"count\",\"median\",\"std\",\"var\"])"
      ],
      "execution_count": null,
      "outputs": [
        {
          "output_type": "execute_result",
          "data": {
            "text/html": [
              "<div>\n",
              "<style scoped>\n",
              "    .dataframe tbody tr th:only-of-type {\n",
              "        vertical-align: middle;\n",
              "    }\n",
              "\n",
              "    .dataframe tbody tr th {\n",
              "        vertical-align: top;\n",
              "    }\n",
              "\n",
              "    .dataframe thead th {\n",
              "        text-align: right;\n",
              "    }\n",
              "</style>\n",
              "<table border=\"1\" class=\"dataframe\">\n",
              "  <thead>\n",
              "    <tr style=\"text-align: right;\">\n",
              "      <th></th>\n",
              "      <th>sum</th>\n",
              "      <th>mean</th>\n",
              "      <th>min</th>\n",
              "      <th>max</th>\n",
              "      <th>count</th>\n",
              "      <th>median</th>\n",
              "      <th>std</th>\n",
              "      <th>var</th>\n",
              "    </tr>\n",
              "    <tr>\n",
              "      <th>City</th>\n",
              "      <th></th>\n",
              "      <th></th>\n",
              "      <th></th>\n",
              "      <th></th>\n",
              "      <th></th>\n",
              "      <th></th>\n",
              "      <th></th>\n",
              "      <th></th>\n",
              "    </tr>\n",
              "  </thead>\n",
              "  <tbody>\n",
              "    <tr>\n",
              "      <th>Aberdeen</th>\n",
              "      <td>6.6300</td>\n",
              "      <td>6.630000</td>\n",
              "      <td>6.6300</td>\n",
              "      <td>6.6300</td>\n",
              "      <td>1</td>\n",
              "      <td>6.63000</td>\n",
              "      <td>NaN</td>\n",
              "      <td>NaN</td>\n",
              "    </tr>\n",
              "    <tr>\n",
              "      <th>Abilene</th>\n",
              "      <td>-3.7584</td>\n",
              "      <td>-3.758400</td>\n",
              "      <td>-3.7584</td>\n",
              "      <td>-3.7584</td>\n",
              "      <td>1</td>\n",
              "      <td>-3.75840</td>\n",
              "      <td>NaN</td>\n",
              "      <td>NaN</td>\n",
              "    </tr>\n",
              "    <tr>\n",
              "      <th>Akron</th>\n",
              "      <td>-186.6356</td>\n",
              "      <td>-8.887410</td>\n",
              "      <td>-80.9955</td>\n",
              "      <td>66.5408</td>\n",
              "      <td>21</td>\n",
              "      <td>0.61920</td>\n",
              "      <td>37.225537</td>\n",
              "      <td>1385.740617</td>\n",
              "    </tr>\n",
              "    <tr>\n",
              "      <th>Albuquerque</th>\n",
              "      <td>634.0881</td>\n",
              "      <td>45.292007</td>\n",
              "      <td>-5.6943</td>\n",
              "      <td>138.3552</td>\n",
              "      <td>14</td>\n",
              "      <td>27.68800</td>\n",
              "      <td>44.986753</td>\n",
              "      <td>2023.807910</td>\n",
              "    </tr>\n",
              "    <tr>\n",
              "      <th>Alexandria</th>\n",
              "      <td>318.6183</td>\n",
              "      <td>19.913644</td>\n",
              "      <td>0.0000</td>\n",
              "      <td>83.2810</td>\n",
              "      <td>16</td>\n",
              "      <td>8.37355</td>\n",
              "      <td>25.611603</td>\n",
              "      <td>655.954233</td>\n",
              "    </tr>\n",
              "    <tr>\n",
              "      <th>...</th>\n",
              "      <td>...</td>\n",
              "      <td>...</td>\n",
              "      <td>...</td>\n",
              "      <td>...</td>\n",
              "      <td>...</td>\n",
              "      <td>...</td>\n",
              "      <td>...</td>\n",
              "      <td>...</td>\n",
              "    </tr>\n",
              "    <tr>\n",
              "      <th>Woonsocket</th>\n",
              "      <td>78.6791</td>\n",
              "      <td>19.669775</td>\n",
              "      <td>13.8915</td>\n",
              "      <td>22.8900</td>\n",
              "      <td>4</td>\n",
              "      <td>20.94880</td>\n",
              "      <td>4.016137</td>\n",
              "      <td>16.129358</td>\n",
              "    </tr>\n",
              "    <tr>\n",
              "      <th>Yonkers</th>\n",
              "      <td>2767.7557</td>\n",
              "      <td>184.517047</td>\n",
              "      <td>-264.9208</td>\n",
              "      <td>2400.9657</td>\n",
              "      <td>15</td>\n",
              "      <td>16.75080</td>\n",
              "      <td>620.704272</td>\n",
              "      <td>385273.793188</td>\n",
              "    </tr>\n",
              "    <tr>\n",
              "      <th>York</th>\n",
              "      <td>-102.1692</td>\n",
              "      <td>-20.433840</td>\n",
              "      <td>-50.8704</td>\n",
              "      <td>23.7742</td>\n",
              "      <td>5</td>\n",
              "      <td>-27.93120</td>\n",
              "      <td>27.462464</td>\n",
              "      <td>754.186920</td>\n",
              "    </tr>\n",
              "    <tr>\n",
              "      <th>Yucaipa</th>\n",
              "      <td>13.2080</td>\n",
              "      <td>13.208000</td>\n",
              "      <td>13.2080</td>\n",
              "      <td>13.2080</td>\n",
              "      <td>1</td>\n",
              "      <td>13.20800</td>\n",
              "      <td>NaN</td>\n",
              "      <td>NaN</td>\n",
              "    </tr>\n",
              "    <tr>\n",
              "      <th>Yuma</th>\n",
              "      <td>-465.9909</td>\n",
              "      <td>-116.497725</td>\n",
              "      <td>-479.9880</td>\n",
              "      <td>48.7011</td>\n",
              "      <td>4</td>\n",
              "      <td>-17.35200</td>\n",
              "      <td>244.787330</td>\n",
              "      <td>59920.836908</td>\n",
              "    </tr>\n",
              "  </tbody>\n",
              "</table>\n",
              "<p>531 rows × 8 columns</p>\n",
              "</div>"
            ],
            "text/plain": [
              "                   sum        mean  ...         std            var\n",
              "City                                ...                           \n",
              "Aberdeen        6.6300    6.630000  ...         NaN            NaN\n",
              "Abilene        -3.7584   -3.758400  ...         NaN            NaN\n",
              "Akron        -186.6356   -8.887410  ...   37.225537    1385.740617\n",
              "Albuquerque   634.0881   45.292007  ...   44.986753    2023.807910\n",
              "Alexandria    318.6183   19.913644  ...   25.611603     655.954233\n",
              "...                ...         ...  ...         ...            ...\n",
              "Woonsocket     78.6791   19.669775  ...    4.016137      16.129358\n",
              "Yonkers      2767.7557  184.517047  ...  620.704272  385273.793188\n",
              "York         -102.1692  -20.433840  ...   27.462464     754.186920\n",
              "Yucaipa        13.2080   13.208000  ...         NaN            NaN\n",
              "Yuma         -465.9909 -116.497725  ...  244.787330   59920.836908\n",
              "\n",
              "[531 rows x 8 columns]"
            ]
          },
          "metadata": {
            "tags": []
          },
          "execution_count": 50
        }
      ]
    },
    {
      "cell_type": "code",
      "metadata": {
        "id": "9SicDgBrBgnh",
        "colab": {
          "base_uri": "https://localhost:8080/",
          "height": 1000
        },
        "outputId": "d0387cfc-f81d-4f5a-c0ee-f7145c273f4d"
      },
      "source": [
        "data_1.groupby(\"State\").Profit.agg([\"mean\",\"min\",\"max\",\"count\",\"std\",\"var\"])"
      ],
      "execution_count": null,
      "outputs": [
        {
          "output_type": "execute_result",
          "data": {
            "text/html": [
              "<div>\n",
              "<style scoped>\n",
              "    .dataframe tbody tr th:only-of-type {\n",
              "        vertical-align: middle;\n",
              "    }\n",
              "\n",
              "    .dataframe tbody tr th {\n",
              "        vertical-align: top;\n",
              "    }\n",
              "\n",
              "    .dataframe thead th {\n",
              "        text-align: right;\n",
              "    }\n",
              "</style>\n",
              "<table border=\"1\" class=\"dataframe\">\n",
              "  <thead>\n",
              "    <tr style=\"text-align: right;\">\n",
              "      <th></th>\n",
              "      <th>mean</th>\n",
              "      <th>min</th>\n",
              "      <th>max</th>\n",
              "      <th>count</th>\n",
              "      <th>std</th>\n",
              "      <th>var</th>\n",
              "    </tr>\n",
              "    <tr>\n",
              "      <th>State</th>\n",
              "      <th></th>\n",
              "      <th></th>\n",
              "      <th></th>\n",
              "      <th></th>\n",
              "      <th></th>\n",
              "      <th></th>\n",
              "    </tr>\n",
              "  </thead>\n",
              "  <tbody>\n",
              "    <tr>\n",
              "      <th>Alabama</th>\n",
              "      <td>94.865989</td>\n",
              "      <td>0.0000</td>\n",
              "      <td>1459.2000</td>\n",
              "      <td>61</td>\n",
              "      <td>210.901876</td>\n",
              "      <td>44479.601429</td>\n",
              "    </tr>\n",
              "    <tr>\n",
              "      <th>Arizona</th>\n",
              "      <td>-15.303235</td>\n",
              "      <td>-814.4832</td>\n",
              "      <td>211.4955</td>\n",
              "      <td>224</td>\n",
              "      <td>109.266267</td>\n",
              "      <td>11939.117124</td>\n",
              "    </tr>\n",
              "    <tr>\n",
              "      <th>Arkansas</th>\n",
              "      <td>66.811452</td>\n",
              "      <td>1.4190</td>\n",
              "      <td>843.1706</td>\n",
              "      <td>60</td>\n",
              "      <td>123.249880</td>\n",
              "      <td>15190.532873</td>\n",
              "    </tr>\n",
              "    <tr>\n",
              "      <th>California</th>\n",
              "      <td>38.171608</td>\n",
              "      <td>-325.5720</td>\n",
              "      <td>1906.4850</td>\n",
              "      <td>2001</td>\n",
              "      <td>97.691593</td>\n",
              "      <td>9543.647400</td>\n",
              "    </tr>\n",
              "    <tr>\n",
              "      <th>Colorado</th>\n",
              "      <td>-35.867351</td>\n",
              "      <td>-3399.9800</td>\n",
              "      <td>247.9960</td>\n",
              "      <td>182</td>\n",
              "      <td>276.424024</td>\n",
              "      <td>76410.240842</td>\n",
              "    </tr>\n",
              "    <tr>\n",
              "      <th>Connecticut</th>\n",
              "      <td>42.823071</td>\n",
              "      <td>-15.5826</td>\n",
              "      <td>294.6710</td>\n",
              "      <td>82</td>\n",
              "      <td>66.138081</td>\n",
              "      <td>4374.245726</td>\n",
              "    </tr>\n",
              "    <tr>\n",
              "      <th>Delaware</th>\n",
              "      <td>103.930988</td>\n",
              "      <td>-48.7839</td>\n",
              "      <td>5039.9856</td>\n",
              "      <td>96</td>\n",
              "      <td>518.953513</td>\n",
              "      <td>269312.749126</td>\n",
              "    </tr>\n",
              "    <tr>\n",
              "      <th>District of Columbia</th>\n",
              "      <td>105.958930</td>\n",
              "      <td>4.4344</td>\n",
              "      <td>648.5624</td>\n",
              "      <td>10</td>\n",
              "      <td>213.461353</td>\n",
              "      <td>45565.749398</td>\n",
              "    </tr>\n",
              "    <tr>\n",
              "      <th>Florida</th>\n",
              "      <td>-8.875461</td>\n",
              "      <td>-1811.0784</td>\n",
              "      <td>327.5922</td>\n",
              "      <td>383</td>\n",
              "      <td>126.324165</td>\n",
              "      <td>15957.794770</td>\n",
              "    </tr>\n",
              "    <tr>\n",
              "      <th>Georgia</th>\n",
              "      <td>88.315453</td>\n",
              "      <td>0.1134</td>\n",
              "      <td>3177.4750</td>\n",
              "      <td>184</td>\n",
              "      <td>283.026694</td>\n",
              "      <td>80104.109456</td>\n",
              "    </tr>\n",
              "    <tr>\n",
              "      <th>Idaho</th>\n",
              "      <td>39.367767</td>\n",
              "      <td>1.1151</td>\n",
              "      <td>259.5297</td>\n",
              "      <td>21</td>\n",
              "      <td>63.027976</td>\n",
              "      <td>3972.525785</td>\n",
              "    </tr>\n",
              "    <tr>\n",
              "      <th>Illinois</th>\n",
              "      <td>-25.625787</td>\n",
              "      <td>-2929.4845</td>\n",
              "      <td>874.9875</td>\n",
              "      <td>492</td>\n",
              "      <td>175.695233</td>\n",
              "      <td>30868.814827</td>\n",
              "    </tr>\n",
              "    <tr>\n",
              "      <th>Indiana</th>\n",
              "      <td>123.375411</td>\n",
              "      <td>0.0000</td>\n",
              "      <td>8399.9760</td>\n",
              "      <td>149</td>\n",
              "      <td>693.643105</td>\n",
              "      <td>481140.757367</td>\n",
              "    </tr>\n",
              "    <tr>\n",
              "      <th>Iowa</th>\n",
              "      <td>39.460397</td>\n",
              "      <td>2.5920</td>\n",
              "      <td>394.2680</td>\n",
              "      <td>30</td>\n",
              "      <td>73.763444</td>\n",
              "      <td>5441.045702</td>\n",
              "    </tr>\n",
              "    <tr>\n",
              "      <th>Kansas</th>\n",
              "      <td>34.851813</td>\n",
              "      <td>1.7280</td>\n",
              "      <td>149.3820</td>\n",
              "      <td>24</td>\n",
              "      <td>42.619311</td>\n",
              "      <td>1816.405680</td>\n",
              "    </tr>\n",
              "    <tr>\n",
              "      <th>Kentucky</th>\n",
              "      <td>80.573357</td>\n",
              "      <td>0.0000</td>\n",
              "      <td>1416.8000</td>\n",
              "      <td>139</td>\n",
              "      <td>171.126404</td>\n",
              "      <td>29284.246011</td>\n",
              "    </tr>\n",
              "    <tr>\n",
              "      <th>Louisiana</th>\n",
              "      <td>52.288150</td>\n",
              "      <td>1.8672</td>\n",
              "      <td>346.0396</td>\n",
              "      <td>42</td>\n",
              "      <td>83.357777</td>\n",
              "      <td>6948.518922</td>\n",
              "    </tr>\n",
              "    <tr>\n",
              "      <th>Maine</th>\n",
              "      <td>56.810775</td>\n",
              "      <td>3.8822</td>\n",
              "      <td>131.3550</td>\n",
              "      <td>8</td>\n",
              "      <td>53.816911</td>\n",
              "      <td>2896.259868</td>\n",
              "    </tr>\n",
              "    <tr>\n",
              "      <th>Maryland</th>\n",
              "      <td>66.963608</td>\n",
              "      <td>-47.1798</td>\n",
              "      <td>1270.9900</td>\n",
              "      <td>105</td>\n",
              "      <td>148.214655</td>\n",
              "      <td>21967.584011</td>\n",
              "    </tr>\n",
              "    <tr>\n",
              "      <th>Massachusetts</th>\n",
              "      <td>50.262975</td>\n",
              "      <td>-297.6848</td>\n",
              "      <td>503.7822</td>\n",
              "      <td>135</td>\n",
              "      <td>94.386407</td>\n",
              "      <td>8908.793776</td>\n",
              "    </tr>\n",
              "    <tr>\n",
              "      <th>Michigan</th>\n",
              "      <td>95.934069</td>\n",
              "      <td>0.0000</td>\n",
              "      <td>4946.3700</td>\n",
              "      <td>255</td>\n",
              "      <td>374.559894</td>\n",
              "      <td>140295.114453</td>\n",
              "    </tr>\n",
              "    <tr>\n",
              "      <th>Minnesota</th>\n",
              "      <td>121.608847</td>\n",
              "      <td>0.0000</td>\n",
              "      <td>4630.4755</td>\n",
              "      <td>89</td>\n",
              "      <td>505.784116</td>\n",
              "      <td>255817.572102</td>\n",
              "    </tr>\n",
              "    <tr>\n",
              "      <th>Mississippi</th>\n",
              "      <td>59.867475</td>\n",
              "      <td>0.0000</td>\n",
              "      <td>388.8128</td>\n",
              "      <td>53</td>\n",
              "      <td>80.793505</td>\n",
              "      <td>6527.590392</td>\n",
              "    </tr>\n",
              "    <tr>\n",
              "      <th>Missouri</th>\n",
              "      <td>97.518341</td>\n",
              "      <td>2.2990</td>\n",
              "      <td>2302.9671</td>\n",
              "      <td>66</td>\n",
              "      <td>308.032711</td>\n",
              "      <td>94884.151220</td>\n",
              "    </tr>\n",
              "    <tr>\n",
              "      <th>Montana</th>\n",
              "      <td>122.221900</td>\n",
              "      <td>2.2098</td>\n",
              "      <td>1379.9770</td>\n",
              "      <td>15</td>\n",
              "      <td>350.364144</td>\n",
              "      <td>122755.033590</td>\n",
              "    </tr>\n",
              "    <tr>\n",
              "      <th>Nebraska</th>\n",
              "      <td>53.607742</td>\n",
              "      <td>0.2016</td>\n",
              "      <td>743.9880</td>\n",
              "      <td>38</td>\n",
              "      <td>133.163393</td>\n",
              "      <td>17732.489334</td>\n",
              "    </tr>\n",
              "    <tr>\n",
              "      <th>Nevada</th>\n",
              "      <td>85.045279</td>\n",
              "      <td>-109.5822</td>\n",
              "      <td>1644.2913</td>\n",
              "      <td>39</td>\n",
              "      <td>265.901543</td>\n",
              "      <td>70703.630825</td>\n",
              "    </tr>\n",
              "    <tr>\n",
              "      <th>New Hampshire</th>\n",
              "      <td>63.203807</td>\n",
              "      <td>-105.3164</td>\n",
              "      <td>517.4793</td>\n",
              "      <td>27</td>\n",
              "      <td>119.893107</td>\n",
              "      <td>14374.357098</td>\n",
              "    </tr>\n",
              "    <tr>\n",
              "      <th>New Jersey</th>\n",
              "      <td>75.176260</td>\n",
              "      <td>-31.3722</td>\n",
              "      <td>2365.9818</td>\n",
              "      <td>130</td>\n",
              "      <td>236.387912</td>\n",
              "      <td>55879.245021</td>\n",
              "    </tr>\n",
              "    <tr>\n",
              "      <th>New Mexico</th>\n",
              "      <td>31.273408</td>\n",
              "      <td>-5.6943</td>\n",
              "      <td>138.3552</td>\n",
              "      <td>37</td>\n",
              "      <td>39.290011</td>\n",
              "      <td>1543.704967</td>\n",
              "    </tr>\n",
              "    <tr>\n",
              "      <th>New York</th>\n",
              "      <td>65.637011</td>\n",
              "      <td>-553.6476</td>\n",
              "      <td>3919.9888</td>\n",
              "      <td>1128</td>\n",
              "      <td>232.540498</td>\n",
              "      <td>54075.083184</td>\n",
              "    </tr>\n",
              "    <tr>\n",
              "      <th>North Carolina</th>\n",
              "      <td>-30.083985</td>\n",
              "      <td>-3839.9904</td>\n",
              "      <td>303.8040</td>\n",
              "      <td>249</td>\n",
              "      <td>297.900997</td>\n",
              "      <td>88745.003951</td>\n",
              "    </tr>\n",
              "    <tr>\n",
              "      <th>North Dakota</th>\n",
              "      <td>32.878529</td>\n",
              "      <td>0.8680</td>\n",
              "      <td>162.0948</td>\n",
              "      <td>7</td>\n",
              "      <td>58.123254</td>\n",
              "      <td>3378.312671</td>\n",
              "    </tr>\n",
              "    <tr>\n",
              "      <th>Ohio</th>\n",
              "      <td>-36.186304</td>\n",
              "      <td>-6599.9780</td>\n",
              "      <td>607.6080</td>\n",
              "      <td>469</td>\n",
              "      <td>341.346473</td>\n",
              "      <td>116517.414355</td>\n",
              "    </tr>\n",
              "    <tr>\n",
              "      <th>Oklahoma</th>\n",
              "      <td>73.544788</td>\n",
              "      <td>0.5520</td>\n",
              "      <td>523.7052</td>\n",
              "      <td>66</td>\n",
              "      <td>109.026519</td>\n",
              "      <td>11886.781743</td>\n",
              "    </tr>\n",
              "    <tr>\n",
              "      <th>Oregon</th>\n",
              "      <td>-9.600569</td>\n",
              "      <td>-384.7164</td>\n",
              "      <td>228.0792</td>\n",
              "      <td>124</td>\n",
              "      <td>74.450034</td>\n",
              "      <td>5542.807564</td>\n",
              "    </tr>\n",
              "    <tr>\n",
              "      <th>Pennsylvania</th>\n",
              "      <td>-26.507598</td>\n",
              "      <td>-1665.0522</td>\n",
              "      <td>1119.9968</td>\n",
              "      <td>587</td>\n",
              "      <td>136.294675</td>\n",
              "      <td>18576.238478</td>\n",
              "    </tr>\n",
              "    <tr>\n",
              "      <th>Rhode Island</th>\n",
              "      <td>130.100523</td>\n",
              "      <td>-127.5792</td>\n",
              "      <td>2591.9568</td>\n",
              "      <td>56</td>\n",
              "      <td>384.816449</td>\n",
              "      <td>148083.699355</td>\n",
              "    </tr>\n",
              "    <tr>\n",
              "      <th>South Carolina</th>\n",
              "      <td>42.120395</td>\n",
              "      <td>0.5584</td>\n",
              "      <td>422.5100</td>\n",
              "      <td>42</td>\n",
              "      <td>73.698963</td>\n",
              "      <td>5431.537207</td>\n",
              "    </tr>\n",
              "    <tr>\n",
              "      <th>South Dakota</th>\n",
              "      <td>32.902358</td>\n",
              "      <td>1.3068</td>\n",
              "      <td>132.5898</td>\n",
              "      <td>12</td>\n",
              "      <td>43.803938</td>\n",
              "      <td>1918.784959</td>\n",
              "    </tr>\n",
              "    <tr>\n",
              "      <th>Tennessee</th>\n",
              "      <td>-29.189583</td>\n",
              "      <td>-1237.8462</td>\n",
              "      <td>223.9936</td>\n",
              "      <td>183</td>\n",
              "      <td>176.636392</td>\n",
              "      <td>31200.415012</td>\n",
              "    </tr>\n",
              "    <tr>\n",
              "      <th>Texas</th>\n",
              "      <td>-26.121174</td>\n",
              "      <td>-3701.8928</td>\n",
              "      <td>624.9875</td>\n",
              "      <td>985</td>\n",
              "      <td>189.022781</td>\n",
              "      <td>35729.611690</td>\n",
              "    </tr>\n",
              "    <tr>\n",
              "      <th>Utah</th>\n",
              "      <td>48.047802</td>\n",
              "      <td>0.2016</td>\n",
              "      <td>449.9850</td>\n",
              "      <td>53</td>\n",
              "      <td>83.929399</td>\n",
              "      <td>7044.143964</td>\n",
              "    </tr>\n",
              "    <tr>\n",
              "      <th>Vermont</th>\n",
              "      <td>204.088936</td>\n",
              "      <td>0.9588</td>\n",
              "      <td>1013.1270</td>\n",
              "      <td>11</td>\n",
              "      <td>301.653921</td>\n",
              "      <td>90995.087755</td>\n",
              "    </tr>\n",
              "    <tr>\n",
              "      <th>Virginia</th>\n",
              "      <td>83.026564</td>\n",
              "      <td>0.0000</td>\n",
              "      <td>2799.9840</td>\n",
              "      <td>224</td>\n",
              "      <td>235.266720</td>\n",
              "      <td>55350.429592</td>\n",
              "    </tr>\n",
              "    <tr>\n",
              "      <th>Washington</th>\n",
              "      <td>66.013146</td>\n",
              "      <td>-73.0548</td>\n",
              "      <td>6719.9808</td>\n",
              "      <td>506</td>\n",
              "      <td>325.305395</td>\n",
              "      <td>105823.600064</td>\n",
              "    </tr>\n",
              "    <tr>\n",
              "      <th>West Virginia</th>\n",
              "      <td>46.480400</td>\n",
              "      <td>-76.9536</td>\n",
              "      <td>219.4416</td>\n",
              "      <td>4</td>\n",
              "      <td>125.265494</td>\n",
              "      <td>15691.444107</td>\n",
              "    </tr>\n",
              "    <tr>\n",
              "      <th>Wisconsin</th>\n",
              "      <td>76.380004</td>\n",
              "      <td>0.2598</td>\n",
              "      <td>673.8816</td>\n",
              "      <td>110</td>\n",
              "      <td>124.946125</td>\n",
              "      <td>15611.534206</td>\n",
              "    </tr>\n",
              "    <tr>\n",
              "      <th>Wyoming</th>\n",
              "      <td>100.196000</td>\n",
              "      <td>100.1960</td>\n",
              "      <td>100.1960</td>\n",
              "      <td>1</td>\n",
              "      <td>NaN</td>\n",
              "      <td>NaN</td>\n",
              "    </tr>\n",
              "  </tbody>\n",
              "</table>\n",
              "</div>"
            ],
            "text/plain": [
              "                            mean        min  ...         std            var\n",
              "State                                        ...                           \n",
              "Alabama                94.865989     0.0000  ...  210.901876   44479.601429\n",
              "Arizona               -15.303235  -814.4832  ...  109.266267   11939.117124\n",
              "Arkansas               66.811452     1.4190  ...  123.249880   15190.532873\n",
              "California             38.171608  -325.5720  ...   97.691593    9543.647400\n",
              "Colorado              -35.867351 -3399.9800  ...  276.424024   76410.240842\n",
              "Connecticut            42.823071   -15.5826  ...   66.138081    4374.245726\n",
              "Delaware              103.930988   -48.7839  ...  518.953513  269312.749126\n",
              "District of Columbia  105.958930     4.4344  ...  213.461353   45565.749398\n",
              "Florida                -8.875461 -1811.0784  ...  126.324165   15957.794770\n",
              "Georgia                88.315453     0.1134  ...  283.026694   80104.109456\n",
              "Idaho                  39.367767     1.1151  ...   63.027976    3972.525785\n",
              "Illinois              -25.625787 -2929.4845  ...  175.695233   30868.814827\n",
              "Indiana               123.375411     0.0000  ...  693.643105  481140.757367\n",
              "Iowa                   39.460397     2.5920  ...   73.763444    5441.045702\n",
              "Kansas                 34.851813     1.7280  ...   42.619311    1816.405680\n",
              "Kentucky               80.573357     0.0000  ...  171.126404   29284.246011\n",
              "Louisiana              52.288150     1.8672  ...   83.357777    6948.518922\n",
              "Maine                  56.810775     3.8822  ...   53.816911    2896.259868\n",
              "Maryland               66.963608   -47.1798  ...  148.214655   21967.584011\n",
              "Massachusetts          50.262975  -297.6848  ...   94.386407    8908.793776\n",
              "Michigan               95.934069     0.0000  ...  374.559894  140295.114453\n",
              "Minnesota             121.608847     0.0000  ...  505.784116  255817.572102\n",
              "Mississippi            59.867475     0.0000  ...   80.793505    6527.590392\n",
              "Missouri               97.518341     2.2990  ...  308.032711   94884.151220\n",
              "Montana               122.221900     2.2098  ...  350.364144  122755.033590\n",
              "Nebraska               53.607742     0.2016  ...  133.163393   17732.489334\n",
              "Nevada                 85.045279  -109.5822  ...  265.901543   70703.630825\n",
              "New Hampshire          63.203807  -105.3164  ...  119.893107   14374.357098\n",
              "New Jersey             75.176260   -31.3722  ...  236.387912   55879.245021\n",
              "New Mexico             31.273408    -5.6943  ...   39.290011    1543.704967\n",
              "New York               65.637011  -553.6476  ...  232.540498   54075.083184\n",
              "North Carolina        -30.083985 -3839.9904  ...  297.900997   88745.003951\n",
              "North Dakota           32.878529     0.8680  ...   58.123254    3378.312671\n",
              "Ohio                  -36.186304 -6599.9780  ...  341.346473  116517.414355\n",
              "Oklahoma               73.544788     0.5520  ...  109.026519   11886.781743\n",
              "Oregon                 -9.600569  -384.7164  ...   74.450034    5542.807564\n",
              "Pennsylvania          -26.507598 -1665.0522  ...  136.294675   18576.238478\n",
              "Rhode Island          130.100523  -127.5792  ...  384.816449  148083.699355\n",
              "South Carolina         42.120395     0.5584  ...   73.698963    5431.537207\n",
              "South Dakota           32.902358     1.3068  ...   43.803938    1918.784959\n",
              "Tennessee             -29.189583 -1237.8462  ...  176.636392   31200.415012\n",
              "Texas                 -26.121174 -3701.8928  ...  189.022781   35729.611690\n",
              "Utah                   48.047802     0.2016  ...   83.929399    7044.143964\n",
              "Vermont               204.088936     0.9588  ...  301.653921   90995.087755\n",
              "Virginia               83.026564     0.0000  ...  235.266720   55350.429592\n",
              "Washington             66.013146   -73.0548  ...  325.305395  105823.600064\n",
              "West Virginia          46.480400   -76.9536  ...  125.265494   15691.444107\n",
              "Wisconsin              76.380004     0.2598  ...  124.946125   15611.534206\n",
              "Wyoming               100.196000   100.1960  ...         NaN            NaN\n",
              "\n",
              "[49 rows x 6 columns]"
            ]
          },
          "metadata": {
            "tags": []
          },
          "execution_count": 51
        }
      ]
    },
    {
      "cell_type": "markdown",
      "metadata": {
        "id": "CtBasCisyp7x"
      },
      "source": [
        "State-wise, Vermont has the highest mean profit in sale among all others across US."
      ]
    },
    {
      "cell_type": "code",
      "metadata": {
        "id": "CVcqc4rfBlS0",
        "colab": {
          "base_uri": "https://localhost:8080/",
          "height": 195
        },
        "outputId": "aa410db2-1701-48af-bbba-8f09a56c8a68"
      },
      "source": [
        "data_1.groupby(\"Region\").Profit.agg([\"mean\",\"min\",\"max\",\"count\",\"std\",\"var\"])"
      ],
      "execution_count": null,
      "outputs": [
        {
          "output_type": "execute_result",
          "data": {
            "text/html": [
              "<div>\n",
              "<style scoped>\n",
              "    .dataframe tbody tr th:only-of-type {\n",
              "        vertical-align: middle;\n",
              "    }\n",
              "\n",
              "    .dataframe tbody tr th {\n",
              "        vertical-align: top;\n",
              "    }\n",
              "\n",
              "    .dataframe thead th {\n",
              "        text-align: right;\n",
              "    }\n",
              "</style>\n",
              "<table border=\"1\" class=\"dataframe\">\n",
              "  <thead>\n",
              "    <tr style=\"text-align: right;\">\n",
              "      <th></th>\n",
              "      <th>mean</th>\n",
              "      <th>min</th>\n",
              "      <th>max</th>\n",
              "      <th>count</th>\n",
              "      <th>std</th>\n",
              "      <th>var</th>\n",
              "    </tr>\n",
              "    <tr>\n",
              "      <th>Region</th>\n",
              "      <th></th>\n",
              "      <th></th>\n",
              "      <th></th>\n",
              "      <th></th>\n",
              "      <th></th>\n",
              "      <th></th>\n",
              "    </tr>\n",
              "  </thead>\n",
              "  <tbody>\n",
              "    <tr>\n",
              "      <th>Central</th>\n",
              "      <td>17.092709</td>\n",
              "      <td>-3701.8928</td>\n",
              "      <td>8399.9760</td>\n",
              "      <td>2323</td>\n",
              "      <td>291.487465</td>\n",
              "      <td>84964.942066</td>\n",
              "    </tr>\n",
              "    <tr>\n",
              "      <th>East</th>\n",
              "      <td>32.135808</td>\n",
              "      <td>-6599.9780</td>\n",
              "      <td>5039.9856</td>\n",
              "      <td>2848</td>\n",
              "      <td>251.605084</td>\n",
              "      <td>63305.118416</td>\n",
              "    </tr>\n",
              "    <tr>\n",
              "      <th>South</th>\n",
              "      <td>28.857673</td>\n",
              "      <td>-3839.9904</td>\n",
              "      <td>3177.4750</td>\n",
              "      <td>1620</td>\n",
              "      <td>212.893088</td>\n",
              "      <td>45323.466948</td>\n",
              "    </tr>\n",
              "    <tr>\n",
              "      <th>West</th>\n",
              "      <td>33.849032</td>\n",
              "      <td>-3399.9800</td>\n",
              "      <td>6719.9808</td>\n",
              "      <td>3203</td>\n",
              "      <td>174.109081</td>\n",
              "      <td>30313.971920</td>\n",
              "    </tr>\n",
              "  </tbody>\n",
              "</table>\n",
              "</div>"
            ],
            "text/plain": [
              "              mean        min        max  count         std           var\n",
              "Region                                                                   \n",
              "Central  17.092709 -3701.8928  8399.9760   2323  291.487465  84964.942066\n",
              "East     32.135808 -6599.9780  5039.9856   2848  251.605084  63305.118416\n",
              "South    28.857673 -3839.9904  3177.4750   1620  212.893088  45323.466948\n",
              "West     33.849032 -3399.9800  6719.9808   3203  174.109081  30313.971920"
            ]
          },
          "metadata": {
            "tags": []
          },
          "execution_count": 52
        }
      ]
    },
    {
      "cell_type": "markdown",
      "metadata": {
        "id": "a8m7_0wDCPnn"
      },
      "source": [
        "From the above table, we can figure out profit from which city, state and region is max and min along with mean, standard deviation and variance as per profit. West Region has maximum profit among all regions on average, closely followed by East, then the South and Central region. "
      ]
    },
    {
      "cell_type": "markdown",
      "metadata": {
        "id": "iCjsas0uSiYG"
      },
      "source": [
        "# Count Plot"
      ]
    },
    {
      "cell_type": "code",
      "metadata": {
        "id": "BIyI-LH2QWwB",
        "colab": {
          "base_uri": "https://localhost:8080/",
          "height": 482
        },
        "outputId": "442f3a24-f0bf-4621-f570-a9d0df7c0a10"
      },
      "source": [
        "plot.figure(figsize=(10,6),dpi=90)\n",
        "sb.countplot(x=\"Region\",data=data_1)\n",
        "plot.show()"
      ],
      "execution_count": null,
      "outputs": [
        {
          "output_type": "display_data",
          "data": {
            "image/png": "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\n",
            "text/plain": [
              "<Figure size 900x540 with 1 Axes>"
            ]
          },
          "metadata": {
            "tags": [],
            "needs_background": "light"
          }
        }
      ]
    },
    {
      "cell_type": "markdown",
      "metadata": {
        "id": "Omqps3NoYAAI"
      },
      "source": [
        "Similar to above discovery, West region has maximum sales , followed by east. South has the least sale among all regions."
      ]
    },
    {
      "cell_type": "code",
      "metadata": {
        "id": "XXHSB3QIRaB1",
        "colab": {
          "base_uri": "https://localhost:8080/",
          "height": 388
        },
        "outputId": "65499f90-2a6c-469b-b799-851fbe4822d1"
      },
      "source": [
        "plot.figure(figsize=(10,6))\n",
        "sb.countplot(x=\"Category\",data=data_1)\n",
        "plot.show()"
      ],
      "execution_count": null,
      "outputs": [
        {
          "output_type": "display_data",
          "data": {
            "image/png": "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\n",
            "text/plain": [
              "<Figure size 720x432 with 1 Axes>"
            ]
          },
          "metadata": {
            "tags": [],
            "needs_background": "light"
          }
        }
      ]
    },
    {
      "cell_type": "markdown",
      "metadata": {
        "id": "UF45bRiFYIIV"
      },
      "source": [
        "office supplies have maximum sales with a much bigger margin above Furniture and Technology category."
      ]
    },
    {
      "cell_type": "code",
      "metadata": {
        "id": "eFpGHaZjRnwg",
        "colab": {
          "base_uri": "https://localhost:8080/",
          "height": 388
        },
        "outputId": "272ed65a-1996-4133-d867-66624be28b90"
      },
      "source": [
        "plot.figure(figsize=(20,6))\n",
        "sb.countplot(x=\"Sub-Category\",data=data_1)\n",
        "plot.show()"
      ],
      "execution_count": null,
      "outputs": [
        {
          "output_type": "display_data",
          "data": {
            "image/png": "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\n",
            "text/plain": [
              "<Figure size 1440x432 with 1 Axes>"
            ]
          },
          "metadata": {
            "tags": [],
            "needs_background": "light"
          }
        }
      ]
    },
    {
      "cell_type": "markdown",
      "metadata": {
        "id": "GdJeN8M6X0n1"
      },
      "source": [
        "Binders have maximum sale followed by paper while copiers, Machines, Fasteners,Bookcases are among the least sales sub-category of various products for sale."
      ]
    },
    {
      "cell_type": "markdown",
      "metadata": {
        "id": "-UUvI2dySms6"
      },
      "source": [
        "#Plotting with Pie Chart"
      ]
    },
    {
      "cell_type": "code",
      "metadata": {
        "id": "JG0-L6xiTP9P",
        "colab": {
          "base_uri": "https://localhost:8080/",
          "height": 575
        },
        "outputId": "dedf5273-2e39-4a4c-d249-4a4fcdf4b9e4"
      },
      "source": [
        "plot.figure(figsize=(30,10))\n",
        "data_1['Region'].value_counts().plot.pie(autopct=\"%1.1f%%\")\n",
        "plot.show()"
      ],
      "execution_count": null,
      "outputs": [
        {
          "output_type": "display_data",
          "data": {
            "image/png": "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\n",
            "text/plain": [
              "<Figure size 2160x720 with 1 Axes>"
            ]
          },
          "metadata": {
            "tags": []
          }
        }
      ]
    },
    {
      "cell_type": "markdown",
      "metadata": {
        "id": "RsH_2fTjTZ7g"
      },
      "source": [
        "West region has maximum no of sales while South has the minimum sale."
      ]
    },
    {
      "cell_type": "code",
      "metadata": {
        "id": "bwzMbQZMTjqa",
        "colab": {
          "base_uri": "https://localhost:8080/",
          "height": 575
        },
        "outputId": "1d6271a8-ca06-441c-e031-f29ef607489d"
      },
      "source": [
        "plot.figure(figsize=(30,10))\n",
        "data_1['Category'].value_counts().plot.pie(autopct=\"%1.1f%%\")\n",
        "plot.show()"
      ],
      "execution_count": null,
      "outputs": [
        {
          "output_type": "display_data",
          "data": {
            "image/png": "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\n",
            "text/plain": [
              "<Figure size 2160x720 with 1 Axes>"
            ]
          },
          "metadata": {
            "tags": []
          }
        }
      ]
    },
    {
      "cell_type": "markdown",
      "metadata": {
        "id": "mDTwIPGOTyTG"
      },
      "source": [
        "Office Supplies have max sale (occupying 60.3% of total sales) followed by Furniture (21.2%) and Technology (18.5%)"
      ]
    },
    {
      "cell_type": "markdown",
      "metadata": {
        "id": "pGPeZqZB7cz4"
      },
      "source": [
        "#**Final Suggestion**"
      ]
    },
    {
      "cell_type": "markdown",
      "metadata": {
        "id": "WU05PLZK7bem"
      },
      "source": [
        "1.  It is discovered that even if the max profit is obtained from office supplies in West region, there is potential for increasing profit margin in the East region as well as it has very close profit margins with the West. Similar efforts could also be made in the South and Central region.\r\n",
        "2.  Chicago has the least profit margin among all cities while New York has the highest which is in the East region. Central Region is among the least profit margin regions and therefore, discounts should be provided only for higher quantities of products demanded rather than in all of them.  \r\n",
        "2.  Standard ship mode contributes to maximum overall profits. Therefore, further investment in standard shipping mode is recommended to maintain/increase profit margin of sale. "
      ]
    }
  ]
}
