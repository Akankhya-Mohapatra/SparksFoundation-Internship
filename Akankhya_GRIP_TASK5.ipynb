{
  "nbformat": 4,
  "nbformat_minor": 0,
  "metadata": {
    "colab": {
      "name": "GRIP_TASK5.ipynb",
      "provenance": [],
      "collapsed_sections": []
    },
    "kernelspec": {
      "name": "python3",
      "display_name": "Python 3"
    }
  },
  "cells": [
    {
      "cell_type": "markdown",
      "metadata": {
        "id": "y0Xf9f2MwGsZ",
        "colab_type": "text"
      },
      "source": [
        "# **Import Libraries**"
      ]
    },
    {
      "cell_type": "code",
      "metadata": {
        "id": "CiKBYJvZwEhg",
        "colab_type": "code",
        "colab": {}
      },
      "source": [
        "import pandas as pd"
      ],
      "execution_count": 2,
      "outputs": []
    },
    {
      "cell_type": "code",
      "metadata": {
        "id": "gbtxpgAUGYaA",
        "colab_type": "code",
        "colab": {
          "base_uri": "https://localhost:8080/",
          "height": 34
        },
        "outputId": "78b2f1c4-1364-48da-e1e2-29627a26114f"
      },
      "source": [
        "!pwd #check current location\n"
      ],
      "execution_count": 3,
      "outputs": [
        {
          "output_type": "stream",
          "text": [
            "/content\n"
          ],
          "name": "stdout"
        }
      ]
    },
    {
      "cell_type": "markdown",
      "metadata": {
        "id": "lgkTZFBRwUr_",
        "colab_type": "text"
      },
      "source": [
        "**Mount gdrive**"
      ]
    },
    {
      "cell_type": "code",
      "metadata": {
        "id": "QQNkBrm9Gad5",
        "colab_type": "code",
        "colab": {
          "base_uri": "https://localhost:8080/",
          "height": 138
        },
        "outputId": "535960c1-4c85-401d-9a01-c78c8fc290ae"
      },
      "source": [
        "from google.colab import drive\n",
        "from os.path import join\n",
        "ROOT=\"/content/drive\"\n",
        "print(ROOT)\n",
        "drive.mount('/content/drive/')"
      ],
      "execution_count": 4,
      "outputs": [
        {
          "output_type": "stream",
          "text": [
            "/content/drive\n",
            "Go to this URL in a browser: https://accounts.google.com/o/oauth2/auth?client_id=947318989803-6bn6qk8qdgf4n4g3pfee6491hc0brc4i.apps.googleusercontent.com&redirect_uri=urn%3aietf%3awg%3aoauth%3a2.0%3aoob&scope=email%20https%3a%2f%2fwww.googleapis.com%2fauth%2fdocs.test%20https%3a%2f%2fwww.googleapis.com%2fauth%2fdrive%20https%3a%2f%2fwww.googleapis.com%2fauth%2fdrive.photos.readonly%20https%3a%2f%2fwww.googleapis.com%2fauth%2fpeopleapi.readonly&response_type=code\n",
            "\n",
            "Enter your authorization code:\n",
            "··········\n",
            "Mounted at /content/drive/\n"
          ],
          "name": "stdout"
        }
      ]
    },
    {
      "cell_type": "code",
      "metadata": {
        "id": "toHp55CUrk_1",
        "colab_type": "code",
        "colab": {
          "base_uri": "https://localhost:8080/",
          "height": 34
        },
        "outputId": "e9af6405-4ff6-4d2e-bda6-8914d34db399"
      },
      "source": [
        "%ls #list down directories in current location"
      ],
      "execution_count": 5,
      "outputs": [
        {
          "output_type": "stream",
          "text": [
            "\u001b[0m\u001b[01;34mdrive\u001b[0m/  \u001b[01;34msample_data\u001b[0m/\n"
          ],
          "name": "stdout"
        }
      ]
    },
    {
      "cell_type": "code",
      "metadata": {
        "id": "weOK9OCrtjHo",
        "colab_type": "code",
        "colab": {
          "base_uri": "https://localhost:8080/",
          "height": 35
        },
        "outputId": "63cb5fcf-36ec-4dce-a879-dfb706b6b92b"
      },
      "source": [
        "%pwd #current location"
      ],
      "execution_count": 6,
      "outputs": [
        {
          "output_type": "execute_result",
          "data": {
            "application/vnd.google.colaboratory.intrinsic+json": {
              "type": "string"
            },
            "text/plain": [
              "'/content'"
            ]
          },
          "metadata": {
            "tags": []
          },
          "execution_count": 6
        }
      ]
    },
    {
      "cell_type": "code",
      "metadata": {
        "id": "W3X8BCtEtwAf",
        "colab_type": "code",
        "colab": {
          "base_uri": "https://localhost:8080/",
          "height": 34
        },
        "outputId": "abf4b021-64f8-43c3-c991-bd42b6938ea5"
      },
      "source": [
        "%cd 'drive/My Drive'"
      ],
      "execution_count": 7,
      "outputs": [
        {
          "output_type": "stream",
          "text": [
            "/content/drive/My Drive\n"
          ],
          "name": "stdout"
        }
      ]
    },
    {
      "cell_type": "markdown",
      "metadata": {
        "id": "4RWRyvhFv12q",
        "colab_type": "text"
      },
      "source": [
        "## Import dataset from mounted google drive"
      ]
    },
    {
      "cell_type": "markdown",
      "metadata": {
        "id": "D_mKMyP6xEih",
        "colab_type": "text"
      },
      "source": [
        "import dataset as pandas dataframe"
      ]
    },
    {
      "cell_type": "code",
      "metadata": {
        "id": "SkUxmfFjuaqo",
        "colab_type": "code",
        "colab": {
          "base_uri": "https://localhost:8080/",
          "height": 151
        },
        "outputId": "5d2e7276-315f-4d95-838e-ef1d9dc6ed6b"
      },
      "source": [
        "raw_data=pd.read_csv(\"SampleSuperstore.csv\")\n",
        "print(raw_data.head())"
      ],
      "execution_count": 8,
      "outputs": [
        {
          "output_type": "stream",
          "text": [
            "        Ship Mode    Segment        Country  ... Quantity Discount    Profit\n",
            "0    Second Class   Consumer  United States  ...        2     0.00   41.9136\n",
            "1    Second Class   Consumer  United States  ...        3     0.00  219.5820\n",
            "2    Second Class  Corporate  United States  ...        2     0.00    6.8714\n",
            "3  Standard Class   Consumer  United States  ...        5     0.45 -383.0310\n",
            "4  Standard Class   Consumer  United States  ...        2     0.20    2.5164\n",
            "\n",
            "[5 rows x 13 columns]\n"
          ],
          "name": "stdout"
        }
      ]
    },
    {
      "cell_type": "code",
      "metadata": {
        "id": "oSJA95BPvSxW",
        "colab_type": "code",
        "colab": {
          "base_uri": "https://localhost:8080/",
          "height": 252
        },
        "outputId": "c7a51e63-7dd1-477d-c688-8b5e165732a4"
      },
      "source": [
        "raw_data.isnull().sum() #check for null values in dataset"
      ],
      "execution_count": 9,
      "outputs": [
        {
          "output_type": "execute_result",
          "data": {
            "text/plain": [
              "Ship Mode       0\n",
              "Segment         0\n",
              "Country         0\n",
              "City            0\n",
              "State           0\n",
              "Postal Code     0\n",
              "Region          0\n",
              "Category        0\n",
              "Sub-Category    0\n",
              "Sales           0\n",
              "Quantity        0\n",
              "Discount        0\n",
              "Profit          0\n",
              "dtype: int64"
            ]
          },
          "metadata": {
            "tags": []
          },
          "execution_count": 9
        }
      ]
    },
    {
      "cell_type": "code",
      "metadata": {
        "id": "RTiKS-eOw0uJ",
        "colab_type": "code",
        "colab": {
          "base_uri": "https://localhost:8080/",
          "height": 353
        },
        "outputId": "f0b5f752-b1cf-4ea9-98dc-9eb48990e8c9"
      },
      "source": [
        "raw_data.info() # extracting concise summary "
      ],
      "execution_count": 10,
      "outputs": [
        {
          "output_type": "stream",
          "text": [
            "<class 'pandas.core.frame.DataFrame'>\n",
            "RangeIndex: 9994 entries, 0 to 9993\n",
            "Data columns (total 13 columns):\n",
            " #   Column        Non-Null Count  Dtype  \n",
            "---  ------        --------------  -----  \n",
            " 0   Ship Mode     9994 non-null   object \n",
            " 1   Segment       9994 non-null   object \n",
            " 2   Country       9994 non-null   object \n",
            " 3   City          9994 non-null   object \n",
            " 4   State         9994 non-null   object \n",
            " 5   Postal Code   9994 non-null   int64  \n",
            " 6   Region        9994 non-null   object \n",
            " 7   Category      9994 non-null   object \n",
            " 8   Sub-Category  9994 non-null   object \n",
            " 9   Sales         9994 non-null   float64\n",
            " 10  Quantity      9994 non-null   int64  \n",
            " 11  Discount      9994 non-null   float64\n",
            " 12  Profit        9994 non-null   float64\n",
            "dtypes: float64(3), int64(2), object(8)\n",
            "memory usage: 1015.1+ KB\n"
          ],
          "name": "stdout"
        }
      ]
    },
    {
      "cell_type": "code",
      "metadata": {
        "id": "R8uaU1o9ldfR",
        "colab_type": "code",
        "colab": {
          "base_uri": "https://localhost:8080/",
          "height": 34
        },
        "outputId": "d6d711bd-f3c5-4204-ade3-ec28cb1b8fa5"
      },
      "source": [
        "#sample, features - row * column\n",
        "raw_data.shape\n",
        "#output- rows, columns"
      ],
      "execution_count": 11,
      "outputs": [
        {
          "output_type": "execute_result",
          "data": {
            "text/plain": [
              "(9994, 13)"
            ]
          },
          "metadata": {
            "tags": []
          },
          "execution_count": 11
        }
      ]
    },
    {
      "cell_type": "code",
      "metadata": {
        "id": "SNc1bnWTllgy",
        "colab_type": "code",
        "colab": {
          "base_uri": "https://localhost:8080/",
          "height": 252
        },
        "outputId": "fe173adf-995e-4eab-9a7f-a0a06d6bfa22"
      },
      "source": [
        "#Print the structure of the data\n",
        "raw_data.apply(lambda x: [x.unique()])"
      ],
      "execution_count": 12,
      "outputs": [
        {
          "output_type": "execute_result",
          "data": {
            "text/plain": [
              "Ship Mode       [[Second Class, Standard Class, First Class, S...\n",
              "Segment                      [[Consumer, Corporate, Home Office]]\n",
              "Country                                         [[United States]]\n",
              "City            [[Henderson, Los Angeles, Fort Lauderdale, Con...\n",
              "State           [[Kentucky, California, Florida, North Carolin...\n",
              "Postal Code     [[42420, 90036, 33311, 90032, 28027, 98103, 76...\n",
              "Region                             [[South, West, Central, East]]\n",
              "Category               [[Furniture, Office Supplies, Technology]]\n",
              "Sub-Category    [[Bookcases, Chairs, Labels, Tables, Storage, ...\n",
              "Sales           [[261.96, 731.94, 14.62, 957.5775, 22.36800000...\n",
              "Quantity        [[2, 3, 5, 7, 4, 6, 9, 1, 8, 14, 11, 13, 10, 12]]\n",
              "Discount        [[0.0, 0.45, 0.2, 0.8, 0.3, 0.5, 0.7, 0.6, 0.3...\n",
              "Profit          [[41.9136, 219.582, 6.8714, -383.031, 2.5164, ...\n",
              "dtype: object"
            ]
          },
          "metadata": {
            "tags": []
          },
          "execution_count": 12
        }
      ]
    },
    {
      "cell_type": "code",
      "metadata": {
        "id": "cc84b0GelyFH",
        "colab_type": "code",
        "colab": {
          "base_uri": "https://localhost:8080/",
          "height": 252
        },
        "outputId": "08c26615-ab4b-4300-b69e-b43e583de75e"
      },
      "source": [
        "# using the dtypes() method to display the different datatypes available\n",
        "raw_data.dtypes"
      ],
      "execution_count": 13,
      "outputs": [
        {
          "output_type": "execute_result",
          "data": {
            "text/plain": [
              "Ship Mode        object\n",
              "Segment          object\n",
              "Country          object\n",
              "City             object\n",
              "State            object\n",
              "Postal Code       int64\n",
              "Region           object\n",
              "Category         object\n",
              "Sub-Category     object\n",
              "Sales           float64\n",
              "Quantity          int64\n",
              "Discount        float64\n",
              "Profit          float64\n",
              "dtype: object"
            ]
          },
          "metadata": {
            "tags": []
          },
          "execution_count": 13
        }
      ]
    },
    {
      "cell_type": "code",
      "metadata": {
        "id": "8zJ7Xx17l3kf",
        "colab_type": "code",
        "colab": {
          "base_uri": "https://localhost:8080/",
          "height": 34
        },
        "outputId": "50a36ef1-7f35-4f4e-d659-ab4f5e927ea2"
      },
      "source": [
        "X=raw_data.iloc[:,raw_data.columns!='Class']\n",
        "Y=raw_data.iloc[:,raw_data.columns=='Class']\n",
        "Y.count()"
      ],
      "execution_count": 14,
      "outputs": [
        {
          "output_type": "execute_result",
          "data": {
            "text/plain": [
              "Series([], dtype: int64)"
            ]
          },
          "metadata": {
            "tags": []
          },
          "execution_count": 14
        }
      ]
    },
    {
      "cell_type": "code",
      "metadata": {
        "id": "yZSQx15BmUDW",
        "colab_type": "code",
        "colab": {
          "base_uri": "https://localhost:8080/",
          "height": 284
        },
        "outputId": "4b2f4a3a-a4d9-4e90-adbf-b14a88b808c2"
      },
      "source": [
        "X.describe()"
      ],
      "execution_count": 15,
      "outputs": [
        {
          "output_type": "execute_result",
          "data": {
            "text/html": [
              "<div>\n",
              "<style scoped>\n",
              "    .dataframe tbody tr th:only-of-type {\n",
              "        vertical-align: middle;\n",
              "    }\n",
              "\n",
              "    .dataframe tbody tr th {\n",
              "        vertical-align: top;\n",
              "    }\n",
              "\n",
              "    .dataframe thead th {\n",
              "        text-align: right;\n",
              "    }\n",
              "</style>\n",
              "<table border=\"1\" class=\"dataframe\">\n",
              "  <thead>\n",
              "    <tr style=\"text-align: right;\">\n",
              "      <th></th>\n",
              "      <th>Postal Code</th>\n",
              "      <th>Sales</th>\n",
              "      <th>Quantity</th>\n",
              "      <th>Discount</th>\n",
              "      <th>Profit</th>\n",
              "    </tr>\n",
              "  </thead>\n",
              "  <tbody>\n",
              "    <tr>\n",
              "      <th>count</th>\n",
              "      <td>9994.000000</td>\n",
              "      <td>9994.000000</td>\n",
              "      <td>9994.000000</td>\n",
              "      <td>9994.000000</td>\n",
              "      <td>9994.000000</td>\n",
              "    </tr>\n",
              "    <tr>\n",
              "      <th>mean</th>\n",
              "      <td>55190.379428</td>\n",
              "      <td>229.858001</td>\n",
              "      <td>3.789574</td>\n",
              "      <td>0.156203</td>\n",
              "      <td>28.656896</td>\n",
              "    </tr>\n",
              "    <tr>\n",
              "      <th>std</th>\n",
              "      <td>32063.693350</td>\n",
              "      <td>623.245101</td>\n",
              "      <td>2.225110</td>\n",
              "      <td>0.206452</td>\n",
              "      <td>234.260108</td>\n",
              "    </tr>\n",
              "    <tr>\n",
              "      <th>min</th>\n",
              "      <td>1040.000000</td>\n",
              "      <td>0.444000</td>\n",
              "      <td>1.000000</td>\n",
              "      <td>0.000000</td>\n",
              "      <td>-6599.978000</td>\n",
              "    </tr>\n",
              "    <tr>\n",
              "      <th>25%</th>\n",
              "      <td>23223.000000</td>\n",
              "      <td>17.280000</td>\n",
              "      <td>2.000000</td>\n",
              "      <td>0.000000</td>\n",
              "      <td>1.728750</td>\n",
              "    </tr>\n",
              "    <tr>\n",
              "      <th>50%</th>\n",
              "      <td>56430.500000</td>\n",
              "      <td>54.490000</td>\n",
              "      <td>3.000000</td>\n",
              "      <td>0.200000</td>\n",
              "      <td>8.666500</td>\n",
              "    </tr>\n",
              "    <tr>\n",
              "      <th>75%</th>\n",
              "      <td>90008.000000</td>\n",
              "      <td>209.940000</td>\n",
              "      <td>5.000000</td>\n",
              "      <td>0.200000</td>\n",
              "      <td>29.364000</td>\n",
              "    </tr>\n",
              "    <tr>\n",
              "      <th>max</th>\n",
              "      <td>99301.000000</td>\n",
              "      <td>22638.480000</td>\n",
              "      <td>14.000000</td>\n",
              "      <td>0.800000</td>\n",
              "      <td>8399.976000</td>\n",
              "    </tr>\n",
              "  </tbody>\n",
              "</table>\n",
              "</div>"
            ],
            "text/plain": [
              "        Postal Code         Sales     Quantity     Discount       Profit\n",
              "count   9994.000000   9994.000000  9994.000000  9994.000000  9994.000000\n",
              "mean   55190.379428    229.858001     3.789574     0.156203    28.656896\n",
              "std    32063.693350    623.245101     2.225110     0.206452   234.260108\n",
              "min     1040.000000      0.444000     1.000000     0.000000 -6599.978000\n",
              "25%    23223.000000     17.280000     2.000000     0.000000     1.728750\n",
              "50%    56430.500000     54.490000     3.000000     0.200000     8.666500\n",
              "75%    90008.000000    209.940000     5.000000     0.200000    29.364000\n",
              "max    99301.000000  22638.480000    14.000000     0.800000  8399.976000"
            ]
          },
          "metadata": {
            "tags": []
          },
          "execution_count": 15
        }
      ]
    },
    {
      "cell_type": "code",
      "metadata": {
        "id": "Ygk7p-gXonlz",
        "colab_type": "code",
        "colab": {
          "base_uri": "https://localhost:8080/",
          "height": 195
        },
        "outputId": "52164c07-836c-41e6-9abe-b9f0f469f43d"
      },
      "source": [
        "X.head()"
      ],
      "execution_count": 16,
      "outputs": [
        {
          "output_type": "execute_result",
          "data": {
            "text/html": [
              "<div>\n",
              "<style scoped>\n",
              "    .dataframe tbody tr th:only-of-type {\n",
              "        vertical-align: middle;\n",
              "    }\n",
              "\n",
              "    .dataframe tbody tr th {\n",
              "        vertical-align: top;\n",
              "    }\n",
              "\n",
              "    .dataframe thead th {\n",
              "        text-align: right;\n",
              "    }\n",
              "</style>\n",
              "<table border=\"1\" class=\"dataframe\">\n",
              "  <thead>\n",
              "    <tr style=\"text-align: right;\">\n",
              "      <th></th>\n",
              "      <th>Ship Mode</th>\n",
              "      <th>Segment</th>\n",
              "      <th>Country</th>\n",
              "      <th>City</th>\n",
              "      <th>State</th>\n",
              "      <th>Postal Code</th>\n",
              "      <th>Region</th>\n",
              "      <th>Category</th>\n",
              "      <th>Sub-Category</th>\n",
              "      <th>Sales</th>\n",
              "      <th>Quantity</th>\n",
              "      <th>Discount</th>\n",
              "      <th>Profit</th>\n",
              "    </tr>\n",
              "  </thead>\n",
              "  <tbody>\n",
              "    <tr>\n",
              "      <th>0</th>\n",
              "      <td>Second Class</td>\n",
              "      <td>Consumer</td>\n",
              "      <td>United States</td>\n",
              "      <td>Henderson</td>\n",
              "      <td>Kentucky</td>\n",
              "      <td>42420</td>\n",
              "      <td>South</td>\n",
              "      <td>Furniture</td>\n",
              "      <td>Bookcases</td>\n",
              "      <td>261.9600</td>\n",
              "      <td>2</td>\n",
              "      <td>0.00</td>\n",
              "      <td>41.9136</td>\n",
              "    </tr>\n",
              "    <tr>\n",
              "      <th>1</th>\n",
              "      <td>Second Class</td>\n",
              "      <td>Consumer</td>\n",
              "      <td>United States</td>\n",
              "      <td>Henderson</td>\n",
              "      <td>Kentucky</td>\n",
              "      <td>42420</td>\n",
              "      <td>South</td>\n",
              "      <td>Furniture</td>\n",
              "      <td>Chairs</td>\n",
              "      <td>731.9400</td>\n",
              "      <td>3</td>\n",
              "      <td>0.00</td>\n",
              "      <td>219.5820</td>\n",
              "    </tr>\n",
              "    <tr>\n",
              "      <th>2</th>\n",
              "      <td>Second Class</td>\n",
              "      <td>Corporate</td>\n",
              "      <td>United States</td>\n",
              "      <td>Los Angeles</td>\n",
              "      <td>California</td>\n",
              "      <td>90036</td>\n",
              "      <td>West</td>\n",
              "      <td>Office Supplies</td>\n",
              "      <td>Labels</td>\n",
              "      <td>14.6200</td>\n",
              "      <td>2</td>\n",
              "      <td>0.00</td>\n",
              "      <td>6.8714</td>\n",
              "    </tr>\n",
              "    <tr>\n",
              "      <th>3</th>\n",
              "      <td>Standard Class</td>\n",
              "      <td>Consumer</td>\n",
              "      <td>United States</td>\n",
              "      <td>Fort Lauderdale</td>\n",
              "      <td>Florida</td>\n",
              "      <td>33311</td>\n",
              "      <td>South</td>\n",
              "      <td>Furniture</td>\n",
              "      <td>Tables</td>\n",
              "      <td>957.5775</td>\n",
              "      <td>5</td>\n",
              "      <td>0.45</td>\n",
              "      <td>-383.0310</td>\n",
              "    </tr>\n",
              "    <tr>\n",
              "      <th>4</th>\n",
              "      <td>Standard Class</td>\n",
              "      <td>Consumer</td>\n",
              "      <td>United States</td>\n",
              "      <td>Fort Lauderdale</td>\n",
              "      <td>Florida</td>\n",
              "      <td>33311</td>\n",
              "      <td>South</td>\n",
              "      <td>Office Supplies</td>\n",
              "      <td>Storage</td>\n",
              "      <td>22.3680</td>\n",
              "      <td>2</td>\n",
              "      <td>0.20</td>\n",
              "      <td>2.5164</td>\n",
              "    </tr>\n",
              "  </tbody>\n",
              "</table>\n",
              "</div>"
            ],
            "text/plain": [
              "        Ship Mode    Segment        Country  ... Quantity Discount    Profit\n",
              "0    Second Class   Consumer  United States  ...        2     0.00   41.9136\n",
              "1    Second Class   Consumer  United States  ...        3     0.00  219.5820\n",
              "2    Second Class  Corporate  United States  ...        2     0.00    6.8714\n",
              "3  Standard Class   Consumer  United States  ...        5     0.45 -383.0310\n",
              "4  Standard Class   Consumer  United States  ...        2     0.20    2.5164\n",
              "\n",
              "[5 rows x 13 columns]"
            ]
          },
          "metadata": {
            "tags": []
          },
          "execution_count": 16
        }
      ]
    },
    {
      "cell_type": "markdown",
      "metadata": {
        "id": "FQ9HsYoloxuS",
        "colab_type": "text"
      },
      "source": [
        "## **correlation**"
      ]
    },
    {
      "cell_type": "code",
      "metadata": {
        "id": "xnNWNFmeo7-O",
        "colab_type": "code",
        "colab": {
          "base_uri": "https://localhost:8080/",
          "height": 195
        },
        "outputId": "6262d9bb-5505-4881-80be-91e2402a2e85"
      },
      "source": [
        "raw_data.corr()"
      ],
      "execution_count": 17,
      "outputs": [
        {
          "output_type": "execute_result",
          "data": {
            "text/html": [
              "<div>\n",
              "<style scoped>\n",
              "    .dataframe tbody tr th:only-of-type {\n",
              "        vertical-align: middle;\n",
              "    }\n",
              "\n",
              "    .dataframe tbody tr th {\n",
              "        vertical-align: top;\n",
              "    }\n",
              "\n",
              "    .dataframe thead th {\n",
              "        text-align: right;\n",
              "    }\n",
              "</style>\n",
              "<table border=\"1\" class=\"dataframe\">\n",
              "  <thead>\n",
              "    <tr style=\"text-align: right;\">\n",
              "      <th></th>\n",
              "      <th>Postal Code</th>\n",
              "      <th>Sales</th>\n",
              "      <th>Quantity</th>\n",
              "      <th>Discount</th>\n",
              "      <th>Profit</th>\n",
              "    </tr>\n",
              "  </thead>\n",
              "  <tbody>\n",
              "    <tr>\n",
              "      <th>Postal Code</th>\n",
              "      <td>1.000000</td>\n",
              "      <td>-0.023854</td>\n",
              "      <td>0.012761</td>\n",
              "      <td>0.058443</td>\n",
              "      <td>-0.029961</td>\n",
              "    </tr>\n",
              "    <tr>\n",
              "      <th>Sales</th>\n",
              "      <td>-0.023854</td>\n",
              "      <td>1.000000</td>\n",
              "      <td>0.200795</td>\n",
              "      <td>-0.028190</td>\n",
              "      <td>0.479064</td>\n",
              "    </tr>\n",
              "    <tr>\n",
              "      <th>Quantity</th>\n",
              "      <td>0.012761</td>\n",
              "      <td>0.200795</td>\n",
              "      <td>1.000000</td>\n",
              "      <td>0.008623</td>\n",
              "      <td>0.066253</td>\n",
              "    </tr>\n",
              "    <tr>\n",
              "      <th>Discount</th>\n",
              "      <td>0.058443</td>\n",
              "      <td>-0.028190</td>\n",
              "      <td>0.008623</td>\n",
              "      <td>1.000000</td>\n",
              "      <td>-0.219487</td>\n",
              "    </tr>\n",
              "    <tr>\n",
              "      <th>Profit</th>\n",
              "      <td>-0.029961</td>\n",
              "      <td>0.479064</td>\n",
              "      <td>0.066253</td>\n",
              "      <td>-0.219487</td>\n",
              "      <td>1.000000</td>\n",
              "    </tr>\n",
              "  </tbody>\n",
              "</table>\n",
              "</div>"
            ],
            "text/plain": [
              "             Postal Code     Sales  Quantity  Discount    Profit\n",
              "Postal Code     1.000000 -0.023854  0.012761  0.058443 -0.029961\n",
              "Sales          -0.023854  1.000000  0.200795 -0.028190  0.479064\n",
              "Quantity        0.012761  0.200795  1.000000  0.008623  0.066253\n",
              "Discount        0.058443 -0.028190  0.008623  1.000000 -0.219487\n",
              "Profit         -0.029961  0.479064  0.066253 -0.219487  1.000000"
            ]
          },
          "metadata": {
            "tags": []
          },
          "execution_count": 17
        }
      ]
    },
    {
      "cell_type": "code",
      "metadata": {
        "id": "1vzIVBP4__gz",
        "colab_type": "code",
        "colab": {
          "base_uri": "https://localhost:8080/",
          "height": 335
        },
        "outputId": "a07d3baf-9f04-4440-8d7f-ba05167186ad"
      },
      "source": [
        "#heatmap\n",
        "import seaborn as sb\n",
        "sb.heatmap(raw_data.corr(), annot=True,linecolor='yellow',linewidths=2,square=True)"
      ],
      "execution_count": 22,
      "outputs": [
        {
          "output_type": "execute_result",
          "data": {
            "text/plain": [
              "<matplotlib.axes._subplots.AxesSubplot at 0x7fd054d0f400>"
            ]
          },
          "metadata": {
            "tags": []
          },
          "execution_count": 22
        },
        {
          "output_type": "display_data",
          "data": {
            "image/png": "[encoded data removed]",
            "text/plain": [
              "<Figure size 432x288 with 2 Axes>"
            ]
          },
          "metadata": {
            "tags": [],
            "needs_background": "light"
          }
        }
      ]
    },
    {
      "cell_type": "code",
      "metadata": {
        "id": "6JG5VTx_B-_c",
        "colab_type": "code",
        "colab": {
          "base_uri": "https://localhost:8080/",
          "height": 319
        },
        "outputId": "d061c847-f83f-4926-e81c-94649c44bd51"
      },
      "source": [
        "#find the unique no of 'sub category' values\n",
        "raw_data['Sub-Category'].unique()\n",
        "raw_data['Sub-Category'].value_counts()"
      ],
      "execution_count": 23,
      "outputs": [
        {
          "output_type": "execute_result",
          "data": {
            "text/plain": [
              "Binders        1523\n",
              "Paper          1370\n",
              "Furnishings     957\n",
              "Phones          889\n",
              "Storage         846\n",
              "Art             796\n",
              "Accessories     775\n",
              "Chairs          617\n",
              "Appliances      466\n",
              "Labels          364\n",
              "Tables          319\n",
              "Envelopes       254\n",
              "Bookcases       228\n",
              "Fasteners       217\n",
              "Supplies        190\n",
              "Machines        115\n",
              "Copiers          68\n",
              "Name: Sub-Category, dtype: int64"
            ]
          },
          "metadata": {
            "tags": []
          },
          "execution_count": 23
        }
      ]
    },
    {
      "cell_type": "markdown",
      "metadata": {
        "id": "2ArRFBXQtppI",
        "colab_type": "text"
      },
      "source": [
        "# **Data Visualization**"
      ]
    },
    {
      "cell_type": "code",
      "metadata": {
        "id": "0MpuCZZVtxHF",
        "colab_type": "code",
        "colab": {
          "base_uri": "https://localhost:8080/",
          "height": 607
        },
        "outputId": "dd1deb09-528a-4d86-f28d-e8c13fd334a1"
      },
      "source": [
        "import matplotlib.pyplot as plot\n",
        "raw_data.hist(bins=50 ,figsize=(20,10))\n",
        "plot.show();"
      ],
      "execution_count": 25,
      "outputs": [
        {
          "output_type": "display_data",
          "data": {
            "image/png": "[encoded data removed]",
            "text/plain": [
              "<Figure size 1440x720 with 6 Axes>"
            ]
          },
          "metadata": {
            "tags": [],
            "needs_background": "light"
          }
        }
      ]
    },
    {
      "cell_type": "code",
      "metadata": {
        "id": "rP0REqeNuJNY",
        "colab_type": "code",
        "colab": {
          "base_uri": "https://localhost:8080/",
          "height": 166
        },
        "outputId": "eb4ad37b-ccf3-437b-bcbe-f64ac2954eb5"
      },
      "source": [
        "#Except postal code graph, graphs look normal\n",
        "#Lets remove the postal code graph\n",
        "col=['Postal Code']\n",
        "data_1=raw_data.drop(columns=col,axis=1)\n",
        "data_1.corr()"
      ],
      "execution_count": 27,
      "outputs": [
        {
          "output_type": "execute_result",
          "data": {
            "text/html": [
              "<div>\n",
              "<style scoped>\n",
              "    .dataframe tbody tr th:only-of-type {\n",
              "        vertical-align: middle;\n",
              "    }\n",
              "\n",
              "    .dataframe tbody tr th {\n",
              "        vertical-align: top;\n",
              "    }\n",
              "\n",
              "    .dataframe thead th {\n",
              "        text-align: right;\n",
              "    }\n",
              "</style>\n",
              "<table border=\"1\" class=\"dataframe\">\n",
              "  <thead>\n",
              "    <tr style=\"text-align: right;\">\n",
              "      <th></th>\n",
              "      <th>Sales</th>\n",
              "      <th>Quantity</th>\n",
              "      <th>Discount</th>\n",
              "      <th>Profit</th>\n",
              "    </tr>\n",
              "  </thead>\n",
              "  <tbody>\n",
              "    <tr>\n",
              "      <th>Sales</th>\n",
              "      <td>1.000000</td>\n",
              "      <td>0.200795</td>\n",
              "      <td>-0.028190</td>\n",
              "      <td>0.479064</td>\n",
              "    </tr>\n",
              "    <tr>\n",
              "      <th>Quantity</th>\n",
              "      <td>0.200795</td>\n",
              "      <td>1.000000</td>\n",
              "      <td>0.008623</td>\n",
              "      <td>0.066253</td>\n",
              "    </tr>\n",
              "    <tr>\n",
              "      <th>Discount</th>\n",
              "      <td>-0.028190</td>\n",
              "      <td>0.008623</td>\n",
              "      <td>1.000000</td>\n",
              "      <td>-0.219487</td>\n",
              "    </tr>\n",
              "    <tr>\n",
              "      <th>Profit</th>\n",
              "      <td>0.479064</td>\n",
              "      <td>0.066253</td>\n",
              "      <td>-0.219487</td>\n",
              "      <td>1.000000</td>\n",
              "    </tr>\n",
              "  </tbody>\n",
              "</table>\n",
              "</div>"
            ],
            "text/plain": [
              "             Sales  Quantity  Discount    Profit\n",
              "Sales     1.000000  0.200795 -0.028190  0.479064\n",
              "Quantity  0.200795  1.000000  0.008623  0.066253\n",
              "Discount -0.028190  0.008623  1.000000 -0.219487\n",
              "Profit    0.479064  0.066253 -0.219487  1.000000"
            ]
          },
          "metadata": {
            "tags": []
          },
          "execution_count": 27
        }
      ]
    },
    {
      "cell_type": "code",
      "metadata": {
        "id": "eq0Wn-9H9XyI",
        "colab_type": "code",
        "colab": {
          "base_uri": "https://localhost:8080/",
          "height": 608
        },
        "outputId": "394052d4-74eb-4ea2-a400-e2641d205a24"
      },
      "source": [
        "data_1.hist(bins=50 ,figsize=(20,10))\n",
        "plot.show();"
      ],
      "execution_count": 28,
      "outputs": [
        {
          "output_type": "display_data",
          "data": {
            "image/png": "[encoded data removed]",
            "text/plain": [
              "<Figure size 1440x720 with 4 Axes>"
            ]
          },
          "metadata": {
            "tags": [],
            "needs_background": "light"
          }
        }
      ]
    },
    {
      "cell_type": "code",
      "metadata": {
        "id": "cJKxJWTA9eEJ",
        "colab_type": "code",
        "colab": {
          "base_uri": "https://localhost:8080/",
          "height": 330
        },
        "outputId": "baab84f3-d64d-43ba-ec4b-ecb80cff8101"
      },
      "source": [
        "#lets target category column with sales column to know more through graphs\n",
        "data_1['Category'].value_counts().plot(kind='bar')\n",
        "plot.show()"
      ],
      "execution_count": 36,
      "outputs": [
        {
          "output_type": "display_data",
          "data": {
            "image/png": "[encoded data removed]",
            "text/plain": [
              "<Figure size 432x288 with 1 Axes>"
            ]
          },
          "metadata": {
            "tags": [],
            "needs_background": "light"
          }
        }
      ]
    },
    {
      "cell_type": "code",
      "metadata": {
        "id": "jmomLEkd_kkb",
        "colab_type": "code",
        "colab": {
          "base_uri": "https://localhost:8080/",
          "height": 323
        },
        "outputId": "e7afbbf9-c43d-4ff3-d423-e89eb4b106b4"
      },
      "source": [
        "#plotting bar chart for region vs category to know about demand of categories\n",
        "pd.crosstab(data_1['Region'],data_1['Category']).plot(kind = 'bar')"
      ],
      "execution_count": 37,
      "outputs": [
        {
          "output_type": "execute_result",
          "data": {
            "text/plain": [
              "<matplotlib.axes._subplots.AxesSubplot at 0x7fd0546fa2e8>"
            ]
          },
          "metadata": {
            "tags": []
          },
          "execution_count": 37
        },
        {
          "output_type": "display_data",
          "data": {
            "image/png": "[encoded data removed]",
            "text/plain": [
              "<Figure size 432x288 with 1 Axes>"
            ]
          },
          "metadata": {
            "tags": [],
            "needs_background": "light"
          }
        }
      ]
    },
    {
      "cell_type": "markdown",
      "metadata": {
        "id": "fCEtJO0GACiU",
        "colab_type": "text"
      },
      "source": [
        "the above plot shows max sale in west region and min sale in south region with office supplies category being the most in demand and technology in least."
      ]
    },
    {
      "cell_type": "markdown",
      "metadata": {
        "id": "ABabhwADAVHQ",
        "colab_type": "text"
      },
      "source": [
        "# **CALCULATE PROFIT/LOSS IN SALE**"
      ]
    },
    {
      "cell_type": "code",
      "metadata": {
        "id": "g-swG_JlAchV",
        "colab_type": "code",
        "colab": {
          "base_uri": "https://localhost:8080/",
          "height": 195
        },
        "outputId": "cccbdcd1-4012-4abb-f438-966dd4775b41"
      },
      "source": [
        "#Adding Profit and Profit Percentage coulumn\n",
        "data_1['profit%'] = data_1['Profit'] / data_1['Sales'] * 100\n",
        "data_1.head()"
      ],
      "execution_count": 38,
      "outputs": [
        {
          "output_type": "execute_result",
          "data": {
            "text/html": [
              "<div>\n",
              "<style scoped>\n",
              "    .dataframe tbody tr th:only-of-type {\n",
              "        vertical-align: middle;\n",
              "    }\n",
              "\n",
              "    .dataframe tbody tr th {\n",
              "        vertical-align: top;\n",
              "    }\n",
              "\n",
              "    .dataframe thead th {\n",
              "        text-align: right;\n",
              "    }\n",
              "</style>\n",
              "<table border=\"1\" class=\"dataframe\">\n",
              "  <thead>\n",
              "    <tr style=\"text-align: right;\">\n",
              "      <th></th>\n",
              "      <th>Ship Mode</th>\n",
              "      <th>Segment</th>\n",
              "      <th>Country</th>\n",
              "      <th>City</th>\n",
              "      <th>State</th>\n",
              "      <th>Region</th>\n",
              "      <th>Category</th>\n",
              "      <th>Sub-Category</th>\n",
              "      <th>Sales</th>\n",
              "      <th>Quantity</th>\n",
              "      <th>Discount</th>\n",
              "      <th>Profit</th>\n",
              "      <th>profit%</th>\n",
              "    </tr>\n",
              "  </thead>\n",
              "  <tbody>\n",
              "    <tr>\n",
              "      <th>0</th>\n",
              "      <td>Second Class</td>\n",
              "      <td>Consumer</td>\n",
              "      <td>United States</td>\n",
              "      <td>Henderson</td>\n",
              "      <td>Kentucky</td>\n",
              "      <td>South</td>\n",
              "      <td>Furniture</td>\n",
              "      <td>Bookcases</td>\n",
              "      <td>261.9600</td>\n",
              "      <td>2</td>\n",
              "      <td>0.00</td>\n",
              "      <td>41.9136</td>\n",
              "      <td>16.00</td>\n",
              "    </tr>\n",
              "    <tr>\n",
              "      <th>1</th>\n",
              "      <td>Second Class</td>\n",
              "      <td>Consumer</td>\n",
              "      <td>United States</td>\n",
              "      <td>Henderson</td>\n",
              "      <td>Kentucky</td>\n",
              "      <td>South</td>\n",
              "      <td>Furniture</td>\n",
              "      <td>Chairs</td>\n",
              "      <td>731.9400</td>\n",
              "      <td>3</td>\n",
              "      <td>0.00</td>\n",
              "      <td>219.5820</td>\n",
              "      <td>30.00</td>\n",
              "    </tr>\n",
              "    <tr>\n",
              "      <th>2</th>\n",
              "      <td>Second Class</td>\n",
              "      <td>Corporate</td>\n",
              "      <td>United States</td>\n",
              "      <td>Los Angeles</td>\n",
              "      <td>California</td>\n",
              "      <td>West</td>\n",
              "      <td>Office Supplies</td>\n",
              "      <td>Labels</td>\n",
              "      <td>14.6200</td>\n",
              "      <td>2</td>\n",
              "      <td>0.00</td>\n",
              "      <td>6.8714</td>\n",
              "      <td>47.00</td>\n",
              "    </tr>\n",
              "    <tr>\n",
              "      <th>3</th>\n",
              "      <td>Standard Class</td>\n",
              "      <td>Consumer</td>\n",
              "      <td>United States</td>\n",
              "      <td>Fort Lauderdale</td>\n",
              "      <td>Florida</td>\n",
              "      <td>South</td>\n",
              "      <td>Furniture</td>\n",
              "      <td>Tables</td>\n",
              "      <td>957.5775</td>\n",
              "      <td>5</td>\n",
              "      <td>0.45</td>\n",
              "      <td>-383.0310</td>\n",
              "      <td>-40.00</td>\n",
              "    </tr>\n",
              "    <tr>\n",
              "      <th>4</th>\n",
              "      <td>Standard Class</td>\n",
              "      <td>Consumer</td>\n",
              "      <td>United States</td>\n",
              "      <td>Fort Lauderdale</td>\n",
              "      <td>Florida</td>\n",
              "      <td>South</td>\n",
              "      <td>Office Supplies</td>\n",
              "      <td>Storage</td>\n",
              "      <td>22.3680</td>\n",
              "      <td>2</td>\n",
              "      <td>0.20</td>\n",
              "      <td>2.5164</td>\n",
              "      <td>11.25</td>\n",
              "    </tr>\n",
              "  </tbody>\n",
              "</table>\n",
              "</div>"
            ],
            "text/plain": [
              "        Ship Mode    Segment        Country  ... Discount    Profit profit%\n",
              "0    Second Class   Consumer  United States  ...     0.00   41.9136   16.00\n",
              "1    Second Class   Consumer  United States  ...     0.00  219.5820   30.00\n",
              "2    Second Class  Corporate  United States  ...     0.00    6.8714   47.00\n",
              "3  Standard Class   Consumer  United States  ...     0.45 -383.0310  -40.00\n",
              "4  Standard Class   Consumer  United States  ...     0.20    2.5164   11.25\n",
              "\n",
              "[5 rows x 13 columns]"
            ]
          },
          "metadata": {
            "tags": []
          },
          "execution_count": 38
        }
      ]
    },
    {
      "cell_type": "markdown",
      "metadata": {
        "id": "qsgtu3IAt5ab",
        "colab_type": "text"
      },
      "source": [
        "to know the maximum profit and loss, "
      ]
    },
    {
      "cell_type": "code",
      "metadata": {
        "id": "cXsgkV0HuXZT",
        "colab_type": "code",
        "colab": {
          "base_uri": "https://localhost:8080/",
          "height": 50
        },
        "outputId": "1e0fbfbb-9cd6-461b-e0a3-d0a2ed87f1b8"
      },
      "source": [
        "print(\"MAX PROFIT\")\n",
        "max(data_1['profit%'])"
      ],
      "execution_count": 39,
      "outputs": [
        {
          "output_type": "stream",
          "text": [
            "MAX PROFIT\n"
          ],
          "name": "stdout"
        },
        {
          "output_type": "execute_result",
          "data": {
            "text/plain": [
              "50.0"
            ]
          },
          "metadata": {
            "tags": []
          },
          "execution_count": 39
        }
      ]
    },
    {
      "cell_type": "code",
      "metadata": {
        "id": "TuHXiMnzutyk",
        "colab_type": "code",
        "colab": {
          "base_uri": "https://localhost:8080/",
          "height": 50
        },
        "outputId": "5603b779-af2b-4cb0-8848-683308b11f9a"
      },
      "source": [
        "print(\"MIN PROFIT\")\n",
        "min(data_1['profit%'])"
      ],
      "execution_count": 40,
      "outputs": [
        {
          "output_type": "stream",
          "text": [
            "MIN PROFIT\n"
          ],
          "name": "stdout"
        },
        {
          "output_type": "execute_result",
          "data": {
            "text/plain": [
              "-275.0"
            ]
          },
          "metadata": {
            "tags": []
          },
          "execution_count": 40
        }
      ]
    },
    {
      "cell_type": "markdown",
      "metadata": {
        "id": "yx1G6-a7vCle",
        "colab_type": "text"
      },
      "source": [
        "now to understand how much percentage of data was under loss"
      ]
    },
    {
      "cell_type": "code",
      "metadata": {
        "id": "xNygRo1hvHGM",
        "colab_type": "code",
        "colab": {
          "base_uri": "https://localhost:8080/",
          "height": 34
        },
        "outputId": "0b7e261f-1820-4f19-da85-c7d129033015"
      },
      "source": [
        "L1=data_1[data_1['profit%'] < 0].shape\n",
        "L1"
      ],
      "execution_count": 42,
      "outputs": [
        {
          "output_type": "execute_result",
          "data": {
            "text/plain": [
              "(1871, 13)"
            ]
          },
          "metadata": {
            "tags": []
          },
          "execution_count": 42
        }
      ]
    },
    {
      "cell_type": "code",
      "metadata": {
        "id": "K8cvqYQWwb1m",
        "colab_type": "code",
        "colab": {
          "base_uri": "https://localhost:8080/",
          "height": 34
        },
        "outputId": "6eda6fa0-f5db-4c90-b6ed-c03dfc00c04f"
      },
      "source": [
        "total=data_1.shape\n",
        "total"
      ],
      "execution_count": 43,
      "outputs": [
        {
          "output_type": "execute_result",
          "data": {
            "text/plain": [
              "(9994, 13)"
            ]
          },
          "metadata": {
            "tags": []
          },
          "execution_count": 43
        }
      ]
    },
    {
      "cell_type": "code",
      "metadata": {
        "id": "xwaYVMUiwfYb",
        "colab_type": "code",
        "colab": {
          "base_uri": "https://localhost:8080/",
          "height": 34
        },
        "outputId": "c7708c71-f58f-4c51-f51a-f9178bfe78c0"
      },
      "source": [
        "L1_per=1871/9994*100\n",
        "L1_per"
      ],
      "execution_count": 44,
      "outputs": [
        {
          "output_type": "execute_result",
          "data": {
            "text/plain": [
              "18.721232739643785"
            ]
          },
          "metadata": {
            "tags": []
          },
          "execution_count": 44
        }
      ]
    },
    {
      "cell_type": "markdown",
      "metadata": {
        "id": "Xz-eFFwNwqxN",
        "colab_type": "text"
      },
      "source": [
        "around 18% of total data is under zero i.e. in loss"
      ]
    },
    {
      "cell_type": "markdown",
      "metadata": {
        "id": "ifgsJvt1xcoK",
        "colab_type": "text"
      },
      "source": [
        "## **CALCULATE PROFIT/LOSS IN CITY**"
      ]
    },
    {
      "cell_type": "code",
      "metadata": {
        "id": "O3Qa6MYQxlTs",
        "colab_type": "code",
        "colab": {
          "base_uri": "https://localhost:8080/",
          "height": 235
        },
        "outputId": "4f528977-bb60-4c6e-fdd7-4b187c572608"
      },
      "source": [
        "#Adding Profit and Profit Percentage coulumn\n",
        "profit_city = data_1.groupby(\"City\").sum()['Profit']\n",
        "profit_city"
      ],
      "execution_count": 45,
      "outputs": [
        {
          "output_type": "execute_result",
          "data": {
            "text/plain": [
              "City\n",
              "Aberdeen          6.6300\n",
              "Abilene          -3.7584\n",
              "Akron          -186.6356\n",
              "Albuquerque     634.0881\n",
              "Alexandria      318.6183\n",
              "                 ...    \n",
              "Woonsocket       78.6791\n",
              "Yonkers        2767.7557\n",
              "York           -102.1692\n",
              "Yucaipa          13.2080\n",
              "Yuma           -465.9909\n",
              "Name: Profit, Length: 531, dtype: float64"
            ]
          },
          "metadata": {
            "tags": []
          },
          "execution_count": 45
        }
      ]
    },
    {
      "cell_type": "code",
      "metadata": {
        "id": "732-isrqzJnr",
        "colab_type": "code",
        "colab": {
          "base_uri": "https://localhost:8080/",
          "height": 134
        },
        "outputId": "c7ce504c-98cc-4042-fbd8-9f4b0048bfaa"
      },
      "source": [
        "#we need to sort to get the max and min profit values\n",
        "profit_city.sort_values(ascending = False).head()"
      ],
      "execution_count": 46,
      "outputs": [
        {
          "output_type": "execute_result",
          "data": {
            "text/plain": [
              "City\n",
              "New York City    62036.9837\n",
              "Los Angeles      30440.7579\n",
              "Seattle          29156.0967\n",
              "San Francisco    17507.3854\n",
              "Detroit          13181.7908\n",
              "Name: Profit, dtype: float64"
            ]
          },
          "metadata": {
            "tags": []
          },
          "execution_count": 46
        }
      ]
    },
    {
      "cell_type": "code",
      "metadata": {
        "id": "qPbCrznfzVvg",
        "colab_type": "code",
        "colab": {
          "base_uri": "https://localhost:8080/",
          "height": 134
        },
        "outputId": "d455a67a-a331-41c9-e30d-6dfbfc6c4343"
      },
      "source": [
        "profit_city.sort_values(ascending = True).head()"
      ],
      "execution_count": 47,
      "outputs": [
        {
          "output_type": "execute_result",
          "data": {
            "text/plain": [
              "City\n",
              "Philadelphia   -13837.7674\n",
              "Houston        -10153.5485\n",
              "San Antonio     -7299.0502\n",
              "Lancaster       -7239.0684\n",
              "Chicago         -6654.5688\n",
              "Name: Profit, dtype: float64"
            ]
          },
          "metadata": {
            "tags": []
          },
          "execution_count": 47
        }
      ]
    },
    {
      "cell_type": "code",
      "metadata": {
        "id": "Ce6LR-OMzZRY",
        "colab_type": "code",
        "colab": {
          "base_uri": "https://localhost:8080/",
          "height": 354
        },
        "outputId": "4cd7e1f6-b169-4f1f-f4f9-3c5f129dedcd"
      },
      "source": [
        "profit_city.sort_values(ascending = False).head().plot(kind ='bar')\n",
        "plot.title(\"MAXIMUM PROFIT OF CITY\")\n",
        "plot.show()"
      ],
      "execution_count": 48,
      "outputs": [
        {
          "output_type": "display_data",
          "data": {
            "image/png": "[encoded data removed]",
            "text/plain": [
              "<Figure size 432x288 with 1 Axes>"
            ]
          },
          "metadata": {
            "tags": [],
            "needs_background": "light"
          }
        }
      ]
    },
    {
      "cell_type": "markdown",
      "metadata": {
        "id": "fpiExi3hAzKJ",
        "colab_type": "text"
      },
      "source": [
        "new york city has max profit"
      ]
    },
    {
      "cell_type": "code",
      "metadata": {
        "id": "E1aIBcLX1XAK",
        "colab_type": "code",
        "colab": {
          "base_uri": "https://localhost:8080/",
          "height": 347
        },
        "outputId": "0f0b43e4-1b0f-4a8d-f768-459a2e2a95e4"
      },
      "source": [
        "profit_city.sort_values(ascending = True).head().plot(kind ='bar')\n",
        "plot.title(\"MINIMUM PROFIT OF CITY\")\n",
        "plot.show()"
      ],
      "execution_count": 49,
      "outputs": [
        {
          "output_type": "display_data",
          "data": {
            "image/png": "[encoded data removed]",
            "text/plain": [
              "<Figure size 432x288 with 1 Axes>"
            ]
          },
          "metadata": {
            "tags": [],
            "needs_background": "light"
          }
        }
      ]
    },
    {
      "cell_type": "markdown",
      "metadata": {
        "id": "lMdqMSMvA1Xq",
        "colab_type": "text"
      },
      "source": [
        "chicago has the lowest profit"
      ]
    },
    {
      "cell_type": "markdown",
      "metadata": {
        "id": "WvxSl_2BApxo",
        "colab_type": "text"
      },
      "source": [
        "# **Variance as per city, state, region**"
      ]
    },
    {
      "cell_type": "code",
      "metadata": {
        "id": "iUR449zIA7E5",
        "colab_type": "code",
        "colab": {
          "base_uri": "https://localhost:8080/",
          "height": 431
        },
        "outputId": "e403b715-b2a9-4ecd-8991-cfb123ed5d47"
      },
      "source": [
        "data_1.groupby(\"City\").Profit.agg([\"sum\",\"mean\",\"min\",\"max\",\"count\",\"median\",\"std\",\"var\"])"
      ],
      "execution_count": 50,
      "outputs": [
        {
          "output_type": "execute_result",
          "data": {
            "text/html": [
              "<div>\n",
              "<style scoped>\n",
              "    .dataframe tbody tr th:only-of-type {\n",
              "        vertical-align: middle;\n",
              "    }\n",
              "\n",
              "    .dataframe tbody tr th {\n",
              "        vertical-align: top;\n",
              "    }\n",
              "\n",
              "    .dataframe thead th {\n",
              "        text-align: right;\n",
              "    }\n",
              "</style>\n",
              "<table border=\"1\" class=\"dataframe\">\n",
              "  <thead>\n",
              "    <tr style=\"text-align: right;\">\n",
              "      <th></th>\n",
              "      <th>sum</th>\n",
              "      <th>mean</th>\n",
              "      <th>min</th>\n",
              "      <th>max</th>\n",
              "      <th>count</th>\n",
              "      <th>median</th>\n",
              "      <th>std</th>\n",
              "      <th>var</th>\n",
              "    </tr>\n",
              "    <tr>\n",
              "      <th>City</th>\n",
              "      <th></th>\n",
              "      <th></th>\n",
              "      <th></th>\n",
              "      <th></th>\n",
              "      <th></th>\n",
              "      <th></th>\n",
              "      <th></th>\n",
              "      <th></th>\n",
              "    </tr>\n",
              "  </thead>\n",
              "  <tbody>\n",
              "    <tr>\n",
              "      <th>Aberdeen</th>\n",
              "      <td>6.6300</td>\n",
              "      <td>6.630000</td>\n",
              "      <td>6.6300</td>\n",
              "      <td>6.6300</td>\n",
              "      <td>1</td>\n",
              "      <td>6.63000</td>\n",
              "      <td>NaN</td>\n",
              "      <td>NaN</td>\n",
              "    </tr>\n",
              "    <tr>\n",
              "      <th>Abilene</th>\n",
              "      <td>-3.7584</td>\n",
              "      <td>-3.758400</td>\n",
              "      <td>-3.7584</td>\n",
              "      <td>-3.7584</td>\n",
              "      <td>1</td>\n",
              "      <td>-3.75840</td>\n",
              "      <td>NaN</td>\n",
              "      <td>NaN</td>\n",
              "    </tr>\n",
              "    <tr>\n",
              "      <th>Akron</th>\n",
              "      <td>-186.6356</td>\n",
              "      <td>-8.887410</td>\n",
              "      <td>-80.9955</td>\n",
              "      <td>66.5408</td>\n",
              "      <td>21</td>\n",
              "      <td>0.61920</td>\n",
              "      <td>37.225537</td>\n",
              "      <td>1385.740617</td>\n",
              "    </tr>\n",
              "    <tr>\n",
              "      <th>Albuquerque</th>\n",
              "      <td>634.0881</td>\n",
              "      <td>45.292007</td>\n",
              "      <td>-5.6943</td>\n",
              "      <td>138.3552</td>\n",
              "      <td>14</td>\n",
              "      <td>27.68800</td>\n",
              "      <td>44.986753</td>\n",
              "      <td>2023.807910</td>\n",
              "    </tr>\n",
              "    <tr>\n",
              "      <th>Alexandria</th>\n",
              "      <td>318.6183</td>\n",
              "      <td>19.913644</td>\n",
              "      <td>0.0000</td>\n",
              "      <td>83.2810</td>\n",
              "      <td>16</td>\n",
              "      <td>8.37355</td>\n",
              "      <td>25.611603</td>\n",
              "      <td>655.954233</td>\n",
              "    </tr>\n",
              "    <tr>\n",
              "      <th>...</th>\n",
              "      <td>...</td>\n",
              "      <td>...</td>\n",
              "      <td>...</td>\n",
              "      <td>...</td>\n",
              "      <td>...</td>\n",
              "      <td>...</td>\n",
              "      <td>...</td>\n",
              "      <td>...</td>\n",
              "    </tr>\n",
              "    <tr>\n",
              "      <th>Woonsocket</th>\n",
              "      <td>78.6791</td>\n",
              "      <td>19.669775</td>\n",
              "      <td>13.8915</td>\n",
              "      <td>22.8900</td>\n",
              "      <td>4</td>\n",
              "      <td>20.94880</td>\n",
              "      <td>4.016137</td>\n",
              "      <td>16.129358</td>\n",
              "    </tr>\n",
              "    <tr>\n",
              "      <th>Yonkers</th>\n",
              "      <td>2767.7557</td>\n",
              "      <td>184.517047</td>\n",
              "      <td>-264.9208</td>\n",
              "      <td>2400.9657</td>\n",
              "      <td>15</td>\n",
              "      <td>16.75080</td>\n",
              "      <td>620.704272</td>\n",
              "      <td>385273.793188</td>\n",
              "    </tr>\n",
              "    <tr>\n",
              "      <th>York</th>\n",
              "      <td>-102.1692</td>\n",
              "      <td>-20.433840</td>\n",
              "      <td>-50.8704</td>\n",
              "      <td>23.7742</td>\n",
              "      <td>5</td>\n",
              "      <td>-27.93120</td>\n",
              "      <td>27.462464</td>\n",
              "      <td>754.186920</td>\n",
              "    </tr>\n",
              "    <tr>\n",
              "      <th>Yucaipa</th>\n",
              "      <td>13.2080</td>\n",
              "      <td>13.208000</td>\n",
              "      <td>13.2080</td>\n",
              "      <td>13.2080</td>\n",
              "      <td>1</td>\n",
              "      <td>13.20800</td>\n",
              "      <td>NaN</td>\n",
              "      <td>NaN</td>\n",
              "    </tr>\n",
              "    <tr>\n",
              "      <th>Yuma</th>\n",
              "      <td>-465.9909</td>\n",
              "      <td>-116.497725</td>\n",
              "      <td>-479.9880</td>\n",
              "      <td>48.7011</td>\n",
              "      <td>4</td>\n",
              "      <td>-17.35200</td>\n",
              "      <td>244.787330</td>\n",
              "      <td>59920.836908</td>\n",
              "    </tr>\n",
              "  </tbody>\n",
              "</table>\n",
              "<p>531 rows × 8 columns</p>\n",
              "</div>"
            ],
            "text/plain": [
              "                   sum        mean  ...         std            var\n",
              "City                                ...                           \n",
              "Aberdeen        6.6300    6.630000  ...         NaN            NaN\n",
              "Abilene        -3.7584   -3.758400  ...         NaN            NaN\n",
              "Akron        -186.6356   -8.887410  ...   37.225537    1385.740617\n",
              "Albuquerque   634.0881   45.292007  ...   44.986753    2023.807910\n",
              "Alexandria    318.6183   19.913644  ...   25.611603     655.954233\n",
              "...                ...         ...  ...         ...            ...\n",
              "Woonsocket     78.6791   19.669775  ...    4.016137      16.129358\n",
              "Yonkers      2767.7557  184.517047  ...  620.704272  385273.793188\n",
              "York         -102.1692  -20.433840  ...   27.462464     754.186920\n",
              "Yucaipa        13.2080   13.208000  ...         NaN            NaN\n",
              "Yuma         -465.9909 -116.497725  ...  244.787330   59920.836908\n",
              "\n",
              "[531 rows x 8 columns]"
            ]
          },
          "metadata": {
            "tags": []
          },
          "execution_count": 50
        }
      ]
    },
    {
      "cell_type": "code",
      "metadata": {
        "id": "9SicDgBrBgnh",
        "colab_type": "code",
        "colab": {
          "base_uri": "https://localhost:8080/",
          "height": 1000
        },
        "outputId": "d0387cfc-f81d-4f5a-c0ee-f7145c273f4d"
      },
      "source": [
        "data_1.groupby(\"State\").Profit.agg([\"mean\",\"min\",\"max\",\"count\",\"std\",\"var\"])"
      ],
      "execution_count": 51,
      "outputs": [
        {
          "output_type": "execute_result",
          "data": {
            "text/html": [
              "<div>\n",
              "<style scoped>\n",
              "    .dataframe tbody tr th:only-of-type {\n",
              "        vertical-align: middle;\n",
              "    }\n",
              "\n",
              "    .dataframe tbody tr th {\n",
              "        vertical-align: top;\n",
              "    }\n",
              "\n",
              "    .dataframe thead th {\n",
              "        text-align: right;\n",
              "    }\n",
              "</style>\n",
              "<table border=\"1\" class=\"dataframe\">\n",
              "  <thead>\n",
              "    <tr style=\"text-align: right;\">\n",
              "      <th></th>\n",
              "      <th>mean</th>\n",
              "      <th>min</th>\n",
              "      <th>max</th>\n",
              "      <th>count</th>\n",
              "      <th>std</th>\n",
              "      <th>var</th>\n",
              "    </tr>\n",
              "    <tr>\n",
              "      <th>State</th>\n",
              "      <th></th>\n",
              "      <th></th>\n",
              "      <th></th>\n",
              "      <th></th>\n",
              "      <th></th>\n",
              "      <th></th>\n",
              "    </tr>\n",
              "  </thead>\n",
              "  <tbody>\n",
              "    <tr>\n",
              "      <th>Alabama</th>\n",
              "      <td>94.865989</td>\n",
              "      <td>0.0000</td>\n",
              "      <td>1459.2000</td>\n",
              "      <td>61</td>\n",
              "      <td>210.901876</td>\n",
              "      <td>44479.601429</td>\n",
              "    </tr>\n",
              "    <tr>\n",
              "      <th>Arizona</th>\n",
              "      <td>-15.303235</td>\n",
              "      <td>-814.4832</td>\n",
              "      <td>211.4955</td>\n",
              "      <td>224</td>\n",
              "      <td>109.266267</td>\n",
              "      <td>11939.117124</td>\n",
              "    </tr>\n",
              "    <tr>\n",
              "      <th>Arkansas</th>\n",
              "      <td>66.811452</td>\n",
              "      <td>1.4190</td>\n",
              "      <td>843.1706</td>\n",
              "      <td>60</td>\n",
              "      <td>123.249880</td>\n",
              "      <td>15190.532873</td>\n",
              "    </tr>\n",
              "    <tr>\n",
              "      <th>California</th>\n",
              "      <td>38.171608</td>\n",
              "      <td>-325.5720</td>\n",
              "      <td>1906.4850</td>\n",
              "      <td>2001</td>\n",
              "      <td>97.691593</td>\n",
              "      <td>9543.647400</td>\n",
              "    </tr>\n",
              "    <tr>\n",
              "      <th>Colorado</th>\n",
              "      <td>-35.867351</td>\n",
              "      <td>-3399.9800</td>\n",
              "      <td>247.9960</td>\n",
              "      <td>182</td>\n",
              "      <td>276.424024</td>\n",
              "      <td>76410.240842</td>\n",
              "    </tr>\n",
              "    <tr>\n",
              "      <th>Connecticut</th>\n",
              "      <td>42.823071</td>\n",
              "      <td>-15.5826</td>\n",
              "      <td>294.6710</td>\n",
              "      <td>82</td>\n",
              "      <td>66.138081</td>\n",
              "      <td>4374.245726</td>\n",
              "    </tr>\n",
              "    <tr>\n",
              "      <th>Delaware</th>\n",
              "      <td>103.930988</td>\n",
              "      <td>-48.7839</td>\n",
              "      <td>5039.9856</td>\n",
              "      <td>96</td>\n",
              "      <td>518.953513</td>\n",
              "      <td>269312.749126</td>\n",
              "    </tr>\n",
              "    <tr>\n",
              "      <th>District of Columbia</th>\n",
              "      <td>105.958930</td>\n",
              "      <td>4.4344</td>\n",
              "      <td>648.5624</td>\n",
              "      <td>10</td>\n",
              "      <td>213.461353</td>\n",
              "      <td>45565.749398</td>\n",
              "    </tr>\n",
              "    <tr>\n",
              "      <th>Florida</th>\n",
              "      <td>-8.875461</td>\n",
              "      <td>-1811.0784</td>\n",
              "      <td>327.5922</td>\n",
              "      <td>383</td>\n",
              "      <td>126.324165</td>\n",
              "      <td>15957.794770</td>\n",
              "    </tr>\n",
              "    <tr>\n",
              "      <th>Georgia</th>\n",
              "      <td>88.315453</td>\n",
              "      <td>0.1134</td>\n",
              "      <td>3177.4750</td>\n",
              "      <td>184</td>\n",
              "      <td>283.026694</td>\n",
              "      <td>80104.109456</td>\n",
              "    </tr>\n",
              "    <tr>\n",
              "      <th>Idaho</th>\n",
              "      <td>39.367767</td>\n",
              "      <td>1.1151</td>\n",
              "      <td>259.5297</td>\n",
              "      <td>21</td>\n",
              "      <td>63.027976</td>\n",
              "      <td>3972.525785</td>\n",
              "    </tr>\n",
              "    <tr>\n",
              "      <th>Illinois</th>\n",
              "      <td>-25.625787</td>\n",
              "      <td>-2929.4845</td>\n",
              "      <td>874.9875</td>\n",
              "      <td>492</td>\n",
              "      <td>175.695233</td>\n",
              "      <td>30868.814827</td>\n",
              "    </tr>\n",
              "    <tr>\n",
              "      <th>Indiana</th>\n",
              "      <td>123.375411</td>\n",
              "      <td>0.0000</td>\n",
              "      <td>8399.9760</td>\n",
              "      <td>149</td>\n",
              "      <td>693.643105</td>\n",
              "      <td>481140.757367</td>\n",
              "    </tr>\n",
              "    <tr>\n",
              "      <th>Iowa</th>\n",
              "      <td>39.460397</td>\n",
              "      <td>2.5920</td>\n",
              "      <td>394.2680</td>\n",
              "      <td>30</td>\n",
              "      <td>73.763444</td>\n",
              "      <td>5441.045702</td>\n",
              "    </tr>\n",
              "    <tr>\n",
              "      <th>Kansas</th>\n",
              "      <td>34.851813</td>\n",
              "      <td>1.7280</td>\n",
              "      <td>149.3820</td>\n",
              "      <td>24</td>\n",
              "      <td>42.619311</td>\n",
              "      <td>1816.405680</td>\n",
              "    </tr>\n",
              "    <tr>\n",
              "      <th>Kentucky</th>\n",
              "      <td>80.573357</td>\n",
              "      <td>0.0000</td>\n",
              "      <td>1416.8000</td>\n",
              "      <td>139</td>\n",
              "      <td>171.126404</td>\n",
              "      <td>29284.246011</td>\n",
              "    </tr>\n",
              "    <tr>\n",
              "      <th>Louisiana</th>\n",
              "      <td>52.288150</td>\n",
              "      <td>1.8672</td>\n",
              "      <td>346.0396</td>\n",
              "      <td>42</td>\n",
              "      <td>83.357777</td>\n",
              "      <td>6948.518922</td>\n",
              "    </tr>\n",
              "    <tr>\n",
              "      <th>Maine</th>\n",
              "      <td>56.810775</td>\n",
              "      <td>3.8822</td>\n",
              "      <td>131.3550</td>\n",
              "      <td>8</td>\n",
              "      <td>53.816911</td>\n",
              "      <td>2896.259868</td>\n",
              "    </tr>\n",
              "    <tr>\n",
              "      <th>Maryland</th>\n",
              "      <td>66.963608</td>\n",
              "      <td>-47.1798</td>\n",
              "      <td>1270.9900</td>\n",
              "      <td>105</td>\n",
              "      <td>148.214655</td>\n",
              "      <td>21967.584011</td>\n",
              "    </tr>\n",
              "    <tr>\n",
              "      <th>Massachusetts</th>\n",
              "      <td>50.262975</td>\n",
              "      <td>-297.6848</td>\n",
              "      <td>503.7822</td>\n",
              "      <td>135</td>\n",
              "      <td>94.386407</td>\n",
              "      <td>8908.793776</td>\n",
              "    </tr>\n",
              "    <tr>\n",
              "      <th>Michigan</th>\n",
              "      <td>95.934069</td>\n",
              "      <td>0.0000</td>\n",
              "      <td>4946.3700</td>\n",
              "      <td>255</td>\n",
              "      <td>374.559894</td>\n",
              "      <td>140295.114453</td>\n",
              "    </tr>\n",
              "    <tr>\n",
              "      <th>Minnesota</th>\n",
              "      <td>121.608847</td>\n",
              "      <td>0.0000</td>\n",
              "      <td>4630.4755</td>\n",
              "      <td>89</td>\n",
              "      <td>505.784116</td>\n",
              "      <td>255817.572102</td>\n",
              "    </tr>\n",
              "    <tr>\n",
              "      <th>Mississippi</th>\n",
              "      <td>59.867475</td>\n",
              "      <td>0.0000</td>\n",
              "      <td>388.8128</td>\n",
              "      <td>53</td>\n",
              "      <td>80.793505</td>\n",
              "      <td>6527.590392</td>\n",
              "    </tr>\n",
              "    <tr>\n",
              "      <th>Missouri</th>\n",
              "      <td>97.518341</td>\n",
              "      <td>2.2990</td>\n",
              "      <td>2302.9671</td>\n",
              "      <td>66</td>\n",
              "      <td>308.032711</td>\n",
              "      <td>94884.151220</td>\n",
              "    </tr>\n",
              "    <tr>\n",
              "      <th>Montana</th>\n",
              "      <td>122.221900</td>\n",
              "      <td>2.2098</td>\n",
              "      <td>1379.9770</td>\n",
              "      <td>15</td>\n",
              "      <td>350.364144</td>\n",
              "      <td>122755.033590</td>\n",
              "    </tr>\n",
              "    <tr>\n",
              "      <th>Nebraska</th>\n",
              "      <td>53.607742</td>\n",
              "      <td>0.2016</td>\n",
              "      <td>743.9880</td>\n",
              "      <td>38</td>\n",
              "      <td>133.163393</td>\n",
              "      <td>17732.489334</td>\n",
              "    </tr>\n",
              "    <tr>\n",
              "      <th>Nevada</th>\n",
              "      <td>85.045279</td>\n",
              "      <td>-109.5822</td>\n",
              "      <td>1644.2913</td>\n",
              "      <td>39</td>\n",
              "      <td>265.901543</td>\n",
              "      <td>70703.630825</td>\n",
              "    </tr>\n",
              "    <tr>\n",
              "      <th>New Hampshire</th>\n",
              "      <td>63.203807</td>\n",
              "      <td>-105.3164</td>\n",
              "      <td>517.4793</td>\n",
              "      <td>27</td>\n",
              "      <td>119.893107</td>\n",
              "      <td>14374.357098</td>\n",
              "    </tr>\n",
              "    <tr>\n",
              "      <th>New Jersey</th>\n",
              "      <td>75.176260</td>\n",
              "      <td>-31.3722</td>\n",
              "      <td>2365.9818</td>\n",
              "      <td>130</td>\n",
              "      <td>236.387912</td>\n",
              "      <td>55879.245021</td>\n",
              "    </tr>\n",
              "    <tr>\n",
              "      <th>New Mexico</th>\n",
              "      <td>31.273408</td>\n",
              "      <td>-5.6943</td>\n",
              "      <td>138.3552</td>\n",
              "      <td>37</td>\n",
              "      <td>39.290011</td>\n",
              "      <td>1543.704967</td>\n",
              "    </tr>\n",
              "    <tr>\n",
              "      <th>New York</th>\n",
              "      <td>65.637011</td>\n",
              "      <td>-553.6476</td>\n",
              "      <td>3919.9888</td>\n",
              "      <td>1128</td>\n",
              "      <td>232.540498</td>\n",
              "      <td>54075.083184</td>\n",
              "    </tr>\n",
              "    <tr>\n",
              "      <th>North Carolina</th>\n",
              "      <td>-30.083985</td>\n",
              "      <td>-3839.9904</td>\n",
              "      <td>303.8040</td>\n",
              "      <td>249</td>\n",
              "      <td>297.900997</td>\n",
              "      <td>88745.003951</td>\n",
              "    </tr>\n",
              "    <tr>\n",
              "      <th>North Dakota</th>\n",
              "      <td>32.878529</td>\n",
              "      <td>0.8680</td>\n",
              "      <td>162.0948</td>\n",
              "      <td>7</td>\n",
              "      <td>58.123254</td>\n",
              "      <td>3378.312671</td>\n",
              "    </tr>\n",
              "    <tr>\n",
              "      <th>Ohio</th>\n",
              "      <td>-36.186304</td>\n",
              "      <td>-6599.9780</td>\n",
              "      <td>607.6080</td>\n",
              "      <td>469</td>\n",
              "      <td>341.346473</td>\n",
              "      <td>116517.414355</td>\n",
              "    </tr>\n",
              "    <tr>\n",
              "      <th>Oklahoma</th>\n",
              "      <td>73.544788</td>\n",
              "      <td>0.5520</td>\n",
              "      <td>523.7052</td>\n",
              "      <td>66</td>\n",
              "      <td>109.026519</td>\n",
              "      <td>11886.781743</td>\n",
              "    </tr>\n",
              "    <tr>\n",
              "      <th>Oregon</th>\n",
              "      <td>-9.600569</td>\n",
              "      <td>-384.7164</td>\n",
              "      <td>228.0792</td>\n",
              "      <td>124</td>\n",
              "      <td>74.450034</td>\n",
              "      <td>5542.807564</td>\n",
              "    </tr>\n",
              "    <tr>\n",
              "      <th>Pennsylvania</th>\n",
              "      <td>-26.507598</td>\n",
              "      <td>-1665.0522</td>\n",
              "      <td>1119.9968</td>\n",
              "      <td>587</td>\n",
              "      <td>136.294675</td>\n",
              "      <td>18576.238478</td>\n",
              "    </tr>\n",
              "    <tr>\n",
              "      <th>Rhode Island</th>\n",
              "      <td>130.100523</td>\n",
              "      <td>-127.5792</td>\n",
              "      <td>2591.9568</td>\n",
              "      <td>56</td>\n",
              "      <td>384.816449</td>\n",
              "      <td>148083.699355</td>\n",
              "    </tr>\n",
              "    <tr>\n",
              "      <th>South Carolina</th>\n",
              "      <td>42.120395</td>\n",
              "      <td>0.5584</td>\n",
              "      <td>422.5100</td>\n",
              "      <td>42</td>\n",
              "      <td>73.698963</td>\n",
              "      <td>5431.537207</td>\n",
              "    </tr>\n",
              "    <tr>\n",
              "      <th>South Dakota</th>\n",
              "      <td>32.902358</td>\n",
              "      <td>1.3068</td>\n",
              "      <td>132.5898</td>\n",
              "      <td>12</td>\n",
              "      <td>43.803938</td>\n",
              "      <td>1918.784959</td>\n",
              "    </tr>\n",
              "    <tr>\n",
              "      <th>Tennessee</th>\n",
              "      <td>-29.189583</td>\n",
              "      <td>-1237.8462</td>\n",
              "      <td>223.9936</td>\n",
              "      <td>183</td>\n",
              "      <td>176.636392</td>\n",
              "      <td>31200.415012</td>\n",
              "    </tr>\n",
              "    <tr>\n",
              "      <th>Texas</th>\n",
              "      <td>-26.121174</td>\n",
              "      <td>-3701.8928</td>\n",
              "      <td>624.9875</td>\n",
              "      <td>985</td>\n",
              "      <td>189.022781</td>\n",
              "      <td>35729.611690</td>\n",
              "    </tr>\n",
              "    <tr>\n",
              "      <th>Utah</th>\n",
              "      <td>48.047802</td>\n",
              "      <td>0.2016</td>\n",
              "      <td>449.9850</td>\n",
              "      <td>53</td>\n",
              "      <td>83.929399</td>\n",
              "      <td>7044.143964</td>\n",
              "    </tr>\n",
              "    <tr>\n",
              "      <th>Vermont</th>\n",
              "      <td>204.088936</td>\n",
              "      <td>0.9588</td>\n",
              "      <td>1013.1270</td>\n",
              "      <td>11</td>\n",
              "      <td>301.653921</td>\n",
              "      <td>90995.087755</td>\n",
              "    </tr>\n",
              "    <tr>\n",
              "      <th>Virginia</th>\n",
              "      <td>83.026564</td>\n",
              "      <td>0.0000</td>\n",
              "      <td>2799.9840</td>\n",
              "      <td>224</td>\n",
              "      <td>235.266720</td>\n",
              "      <td>55350.429592</td>\n",
              "    </tr>\n",
              "    <tr>\n",
              "      <th>Washington</th>\n",
              "      <td>66.013146</td>\n",
              "      <td>-73.0548</td>\n",
              "      <td>6719.9808</td>\n",
              "      <td>506</td>\n",
              "      <td>325.305395</td>\n",
              "      <td>105823.600064</td>\n",
              "    </tr>\n",
              "    <tr>\n",
              "      <th>West Virginia</th>\n",
              "      <td>46.480400</td>\n",
              "      <td>-76.9536</td>\n",
              "      <td>219.4416</td>\n",
              "      <td>4</td>\n",
              "      <td>125.265494</td>\n",
              "      <td>15691.444107</td>\n",
              "    </tr>\n",
              "    <tr>\n",
              "      <th>Wisconsin</th>\n",
              "      <td>76.380004</td>\n",
              "      <td>0.2598</td>\n",
              "      <td>673.8816</td>\n",
              "      <td>110</td>\n",
              "      <td>124.946125</td>\n",
              "      <td>15611.534206</td>\n",
              "    </tr>\n",
              "    <tr>\n",
              "      <th>Wyoming</th>\n",
              "      <td>100.196000</td>\n",
              "      <td>100.1960</td>\n",
              "      <td>100.1960</td>\n",
              "      <td>1</td>\n",
              "      <td>NaN</td>\n",
              "      <td>NaN</td>\n",
              "    </tr>\n",
              "  </tbody>\n",
              "</table>\n",
              "</div>"
            ],
            "text/plain": [
              "                            mean        min  ...         std            var\n",
              "State                                        ...                           \n",
              "Alabama                94.865989     0.0000  ...  210.901876   44479.601429\n",
              "Arizona               -15.303235  -814.4832  ...  109.266267   11939.117124\n",
              "Arkansas               66.811452     1.4190  ...  123.249880   15190.532873\n",
              "California             38.171608  -325.5720  ...   97.691593    9543.647400\n",
              "Colorado              -35.867351 -3399.9800  ...  276.424024   76410.240842\n",
              "Connecticut            42.823071   -15.5826  ...   66.138081    4374.245726\n",
              "Delaware              103.930988   -48.7839  ...  518.953513  269312.749126\n",
              "District of Columbia  105.958930     4.4344  ...  213.461353   45565.749398\n",
              "Florida                -8.875461 -1811.0784  ...  126.324165   15957.794770\n",
              "Georgia                88.315453     0.1134  ...  283.026694   80104.109456\n",
              "Idaho                  39.367767     1.1151  ...   63.027976    3972.525785\n",
              "Illinois              -25.625787 -2929.4845  ...  175.695233   30868.814827\n",
              "Indiana               123.375411     0.0000  ...  693.643105  481140.757367\n",
              "Iowa                   39.460397     2.5920  ...   73.763444    5441.045702\n",
              "Kansas                 34.851813     1.7280  ...   42.619311    1816.405680\n",
              "Kentucky               80.573357     0.0000  ...  171.126404   29284.246011\n",
              "Louisiana              52.288150     1.8672  ...   83.357777    6948.518922\n",
              "Maine                  56.810775     3.8822  ...   53.816911    2896.259868\n",
              "Maryland               66.963608   -47.1798  ...  148.214655   21967.584011\n",
              "Massachusetts          50.262975  -297.6848  ...   94.386407    8908.793776\n",
              "Michigan               95.934069     0.0000  ...  374.559894  140295.114453\n",
              "Minnesota             121.608847     0.0000  ...  505.784116  255817.572102\n",
              "Mississippi            59.867475     0.0000  ...   80.793505    6527.590392\n",
              "Missouri               97.518341     2.2990  ...  308.032711   94884.151220\n",
              "Montana               122.221900     2.2098  ...  350.364144  122755.033590\n",
              "Nebraska               53.607742     0.2016  ...  133.163393   17732.489334\n",
              "Nevada                 85.045279  -109.5822  ...  265.901543   70703.630825\n",
              "New Hampshire          63.203807  -105.3164  ...  119.893107   14374.357098\n",
              "New Jersey             75.176260   -31.3722  ...  236.387912   55879.245021\n",
              "New Mexico             31.273408    -5.6943  ...   39.290011    1543.704967\n",
              "New York               65.637011  -553.6476  ...  232.540498   54075.083184\n",
              "North Carolina        -30.083985 -3839.9904  ...  297.900997   88745.003951\n",
              "North Dakota           32.878529     0.8680  ...   58.123254    3378.312671\n",
              "Ohio                  -36.186304 -6599.9780  ...  341.346473  116517.414355\n",
              "Oklahoma               73.544788     0.5520  ...  109.026519   11886.781743\n",
              "Oregon                 -9.600569  -384.7164  ...   74.450034    5542.807564\n",
              "Pennsylvania          -26.507598 -1665.0522  ...  136.294675   18576.238478\n",
              "Rhode Island          130.100523  -127.5792  ...  384.816449  148083.699355\n",
              "South Carolina         42.120395     0.5584  ...   73.698963    5431.537207\n",
              "South Dakota           32.902358     1.3068  ...   43.803938    1918.784959\n",
              "Tennessee             -29.189583 -1237.8462  ...  176.636392   31200.415012\n",
              "Texas                 -26.121174 -3701.8928  ...  189.022781   35729.611690\n",
              "Utah                   48.047802     0.2016  ...   83.929399    7044.143964\n",
              "Vermont               204.088936     0.9588  ...  301.653921   90995.087755\n",
              "Virginia               83.026564     0.0000  ...  235.266720   55350.429592\n",
              "Washington             66.013146   -73.0548  ...  325.305395  105823.600064\n",
              "West Virginia          46.480400   -76.9536  ...  125.265494   15691.444107\n",
              "Wisconsin              76.380004     0.2598  ...  124.946125   15611.534206\n",
              "Wyoming               100.196000   100.1960  ...         NaN            NaN\n",
              "\n",
              "[49 rows x 6 columns]"
            ]
          },
          "metadata": {
            "tags": []
          },
          "execution_count": 51
        }
      ]
    },
    {
      "cell_type": "code",
      "metadata": {
        "id": "CVcqc4rfBlS0",
        "colab_type": "code",
        "colab": {
          "base_uri": "https://localhost:8080/",
          "height": 195
        },
        "outputId": "aa410db2-1701-48af-bbba-8f09a56c8a68"
      },
      "source": [
        "data_1.groupby(\"Region\").Profit.agg([\"mean\",\"min\",\"max\",\"count\",\"std\",\"var\"])"
      ],
      "execution_count": 52,
      "outputs": [
        {
          "output_type": "execute_result",
          "data": {
            "text/html": [
              "<div>\n",
              "<style scoped>\n",
              "    .dataframe tbody tr th:only-of-type {\n",
              "        vertical-align: middle;\n",
              "    }\n",
              "\n",
              "    .dataframe tbody tr th {\n",
              "        vertical-align: top;\n",
              "    }\n",
              "\n",
              "    .dataframe thead th {\n",
              "        text-align: right;\n",
              "    }\n",
              "</style>\n",
              "<table border=\"1\" class=\"dataframe\">\n",
              "  <thead>\n",
              "    <tr style=\"text-align: right;\">\n",
              "      <th></th>\n",
              "      <th>mean</th>\n",
              "      <th>min</th>\n",
              "      <th>max</th>\n",
              "      <th>count</th>\n",
              "      <th>std</th>\n",
              "      <th>var</th>\n",
              "    </tr>\n",
              "    <tr>\n",
              "      <th>Region</th>\n",
              "      <th></th>\n",
              "      <th></th>\n",
              "      <th></th>\n",
              "      <th></th>\n",
              "      <th></th>\n",
              "      <th></th>\n",
              "    </tr>\n",
              "  </thead>\n",
              "  <tbody>\n",
              "    <tr>\n",
              "      <th>Central</th>\n",
              "      <td>17.092709</td>\n",
              "      <td>-3701.8928</td>\n",
              "      <td>8399.9760</td>\n",
              "      <td>2323</td>\n",
              "      <td>291.487465</td>\n",
              "      <td>84964.942066</td>\n",
              "    </tr>\n",
              "    <tr>\n",
              "      <th>East</th>\n",
              "      <td>32.135808</td>\n",
              "      <td>-6599.9780</td>\n",
              "      <td>5039.9856</td>\n",
              "      <td>2848</td>\n",
              "      <td>251.605084</td>\n",
              "      <td>63305.118416</td>\n",
              "    </tr>\n",
              "    <tr>\n",
              "      <th>South</th>\n",
              "      <td>28.857673</td>\n",
              "      <td>-3839.9904</td>\n",
              "      <td>3177.4750</td>\n",
              "      <td>1620</td>\n",
              "      <td>212.893088</td>\n",
              "      <td>45323.466948</td>\n",
              "    </tr>\n",
              "    <tr>\n",
              "      <th>West</th>\n",
              "      <td>33.849032</td>\n",
              "      <td>-3399.9800</td>\n",
              "      <td>6719.9808</td>\n",
              "      <td>3203</td>\n",
              "      <td>174.109081</td>\n",
              "      <td>30313.971920</td>\n",
              "    </tr>\n",
              "  </tbody>\n",
              "</table>\n",
              "</div>"
            ],
            "text/plain": [
              "              mean        min        max  count         std           var\n",
              "Region                                                                   \n",
              "Central  17.092709 -3701.8928  8399.9760   2323  291.487465  84964.942066\n",
              "East     32.135808 -6599.9780  5039.9856   2848  251.605084  63305.118416\n",
              "South    28.857673 -3839.9904  3177.4750   1620  212.893088  45323.466948\n",
              "West     33.849032 -3399.9800  6719.9808   3203  174.109081  30313.971920"
            ]
          },
          "metadata": {
            "tags": []
          },
          "execution_count": 52
        }
      ]
    },
    {
      "cell_type": "markdown",
      "metadata": {
        "id": "a8m7_0wDCPnn",
        "colab_type": "text"
      },
      "source": [
        "From the above table, we can figure out profit from which city, state and region is max and min along with mean, standard deviation and variance as per profit. "
      ]
    },
    {
      "cell_type": "markdown",
      "metadata": {
        "id": "iCjsas0uSiYG",
        "colab_type": "text"
      },
      "source": [
        "# Count Plot"
      ]
    },
    {
      "cell_type": "code",
      "metadata": {
        "id": "BIyI-LH2QWwB",
        "colab_type": "code",
        "colab": {
          "base_uri": "https://localhost:8080/",
          "height": 482
        },
        "outputId": "442f3a24-f0bf-4621-f570-a9d0df7c0a10"
      },
      "source": [
        "plot.figure(figsize=(10,6),dpi=90)\n",
        "sb.countplot(x=\"Region\",data=data_1)\n",
        "plot.show()"
      ],
      "execution_count": 53,
      "outputs": [
        {
          "output_type": "display_data",
          "data": {
            "image/png": "[encoded data removed]",
            "text/plain": [
              "<Figure size 900x540 with 1 Axes>"
            ]
          },
          "metadata": {
            "tags": [],
            "needs_background": "light"
          }
        }
      ]
    },
    {
      "cell_type": "markdown",
      "metadata": {
        "id": "Omqps3NoYAAI",
        "colab_type": "text"
      },
      "source": [
        "west region as maximum sales , then east and south with the least sale among all regions."
      ]
    },
    {
      "cell_type": "code",
      "metadata": {
        "id": "XXHSB3QIRaB1",
        "colab_type": "code",
        "colab": {
          "base_uri": "https://localhost:8080/",
          "height": 388
        },
        "outputId": "65499f90-2a6c-469b-b799-851fbe4822d1"
      },
      "source": [
        "plot.figure(figsize=(10,6))\n",
        "sb.countplot(x=\"Category\",data=data_1)\n",
        "plot.show()"
      ],
      "execution_count": 54,
      "outputs": [
        {
          "output_type": "display_data",
          "data": {
            "image/png": "[encoded data removed]",
            "text/plain": [
              "<Figure size 720x432 with 1 Axes>"
            ]
          },
          "metadata": {
            "tags": [],
            "needs_background": "light"
          }
        }
      ]
    },
    {
      "cell_type": "markdown",
      "metadata": {
        "id": "UF45bRiFYIIV",
        "colab_type": "text"
      },
      "source": [
        "office supplies have maximum sale."
      ]
    },
    {
      "cell_type": "code",
      "metadata": {
        "id": "eFpGHaZjRnwg",
        "colab_type": "code",
        "colab": {
          "base_uri": "https://localhost:8080/",
          "height": 388
        },
        "outputId": "272ed65a-1996-4133-d867-66624be28b90"
      },
      "source": [
        "plot.figure(figsize=(20,6))\n",
        "sb.countplot(x=\"Sub-Category\",data=data_1)\n",
        "plot.show()"
      ],
      "execution_count": 56,
      "outputs": [
        {
          "output_type": "display_data",
          "data": {
            "image/png": "[encoded data removed]",
            "text/plain": [
              "<Figure size 1440x432 with 1 Axes>"
            ]
          },
          "metadata": {
            "tags": [],
            "needs_background": "light"
          }
        }
      ]
    },
    {
      "cell_type": "markdown",
      "metadata": {
        "id": "GdJeN8M6X0n1",
        "colab_type": "text"
      },
      "source": [
        "Binders have maximum sale while copiers have the least sales."
      ]
    },
    {
      "cell_type": "markdown",
      "metadata": {
        "id": "-UUvI2dySms6",
        "colab_type": "text"
      },
      "source": [
        "#Pie Chart"
      ]
    },
    {
      "cell_type": "code",
      "metadata": {
        "id": "JG0-L6xiTP9P",
        "colab_type": "code",
        "colab": {
          "base_uri": "https://localhost:8080/",
          "height": 575
        },
        "outputId": "dedf5273-2e39-4a4c-d249-4a4fcdf4b9e4"
      },
      "source": [
        "plot.figure(figsize=(30,10))\n",
        "data_1['Region'].value_counts().plot.pie(autopct=\"%1.1f%%\")\n",
        "plot.show()"
      ],
      "execution_count": 99,
      "outputs": [
        {
          "output_type": "display_data",
          "data": {
            "image/png": "[encoded data removed]",
            "text/plain": [
              "<Figure size 2160x720 with 1 Axes>"
            ]
          },
          "metadata": {
            "tags": []
          }
        }
      ]
    },
    {
      "cell_type": "markdown",
      "metadata": {
        "id": "RsH_2fTjTZ7g",
        "colab_type": "text"
      },
      "source": [
        "West region has maximum no of sales while South has the minimum sale."
      ]
    },
    {
      "cell_type": "code",
      "metadata": {
        "id": "bwzMbQZMTjqa",
        "colab_type": "code",
        "colab": {
          "base_uri": "https://localhost:8080/",
          "height": 575
        },
        "outputId": "1d6271a8-ca06-441c-e031-f29ef607489d"
      },
      "source": [
        "plot.figure(figsize=(30,10))\n",
        "data_1['Category'].value_counts().plot.pie(autopct=\"%1.1f%%\")\n",
        "plot.show()"
      ],
      "execution_count": 101,
      "outputs": [
        {
          "output_type": "display_data",
          "data": {
            "image/png": "[encoded data removed]",
            "text/plain": [
              "<Figure size 2160x720 with 1 Axes>"
            ]
          },
          "metadata": {
            "tags": []
          }
        }
      ]
    },
    {
      "cell_type": "markdown",
      "metadata": {
        "id": "mDTwIPGOTyTG",
        "colab_type": "text"
      },
      "source": [
        "Office Supplies has max sale followed by Furniture and Technology"
      ]
    }
  ]
}